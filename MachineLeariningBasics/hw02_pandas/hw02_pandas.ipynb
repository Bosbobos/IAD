{
 "cells": [
  {
   "cell_type": "markdown",
   "metadata": {
    "_uuid": "21c25e4f8bb31570029fd6b069131a5d00f84cf1"
   },
   "source": [
    "# Домашнее задание 2 (5 баллов).\n",
    "\n",
    "*Все задания ниже имеют равный вес (5/10)*"
   ]
  },
  {
   "cell_type": "markdown",
   "metadata": {},
   "source": [
    "Код для импорта мы написали за вас (не благодарите, нам не трудно). Дальше код будете писать вы. \n",
    "\n",
    "[Тут](https://habr.com/ru/companies/ruvds/articles/494720/) шпора по pandas. За основу домашнего задания взят ноутбук [отсюда](https://rutube.ru/video/f884aa6ed5f94120b7304506042fe5bb/) (не подглядывайте!)."
   ]
  },
  {
   "cell_type": "code",
   "metadata": {
    "_uuid": "568eb2d31004b87d22e119112ae01a1e75105f1d",
    "ExecuteTime": {
     "end_time": "2025-02-13T17:55:29.311376Z",
     "start_time": "2025-02-13T17:55:27.683947Z"
    }
   },
   "source": [
    "import pandas as pd\n",
    "import numpy as np"
   ],
   "outputs": [],
   "execution_count": 2
  },
  {
   "cell_type": "markdown",
   "metadata": {},
   "source": [
    "#### Описание данных\n",
    "\n",
    "Автор д/з - плохой человек, который не стал переводить описание с мотивировкой, что весь DS на английском. Так что описание полей будет на английском:\n",
    "\n",
    "1. Account ID\n",
    "- Description: A unique identifier for each social media account in the dataset.\n",
    "- Type: Integer\n",
    "- Example: 1, 2, 3, …\n",
    "2. Username\n",
    "- Description: The username or handle of the social media account.\n",
    "- Type: String\n",
    "- Example: john_doe, tech_guru_22, fitness_freak\n",
    "3. Platform\n",
    "- Description: The social media platform the account is using (Instagram, Twitter, Facebook, TikTok, LinkedIn).\n",
    "- Type: Categorical (String)\n",
    "- Example: Instagram, Twitter, Facebook, TikTok, LinkedIn\n",
    "4. Follower Count\n",
    "- Description: The total number of followers the account has.\n",
    "- Type: Integer\n",
    "- Example: 1500, 245000, 78000\n",
    "5. Posts Per Week\n",
    "- Description: The average number of posts the account creates per week.\n",
    "- Type: Integer\n",
    "- Example: 3, 5, 7\n",
    "6. Engagement Rate\n",
    "- Description: The percentage of interactions (likes, comments, shares) relative to the follower count. This is a measure of how engaging the content is.\n",
    "- Type: Float\n",
    "- Range: 0.01 to 0.15\n",
    "- Example: 0.045 (4.5% engagement rate)\n",
    "7. Ad Spend (USD)\n",
    "- Description: The monthly amount spent on advertising or promoting posts.\n",
    "- Type: Float\n",
    "- Example: 150.75, 850.00, 300.50\n",
    "8. Conversion Rate\n",
    "- Description: The percentage of users who take a desired action (e.g., clicking a link, signing up, etc.) after interacting with an ad.\n",
    "- Type: Float\n",
    "- Range: 0.01 to 0.05 (1% to 5% conversion rate)\n",
    "- Example: 0.025 (2.5% conversion rate)\n",
    "9. Campaign Reach\n",
    "- Description: The total number of unique users reached by the user’s campaigns in a given month.\n",
    "- Type: Integer\n",
    "- Example: 5000, 20000, 15000"
   ]
  },
  {
   "cell_type": "markdown",
   "metadata": {},
   "source": [
    "#### Задание 0\n",
    "\n",
    "Подгрузите данные. Да-да, за чтение таблицы баллов не будет))\n",
    "\n",
    "**Hint**: [pd.read_csv](https://pandas.pydata.org/pandas-docs/stable/reference/api/pandas.read_csv.html)"
   ]
  },
  {
   "metadata": {
    "ExecuteTime": {
     "end_time": "2025-02-13T19:04:18.556754Z",
     "start_time": "2025-02-13T19:04:18.546775Z"
    }
   },
   "cell_type": "code",
   "source": "df = pd.read_csv('hw02_data.csv') # ^⨀ᴥ⨀^",
   "outputs": [],
   "execution_count": 55
  },
  {
   "cell_type": "markdown",
   "metadata": {},
   "source": [
    "#### Задание 1\n",
    "\n",
    "Колонка `Platform` содержит название различных платформ. Давайте представим, что в них есть некоторое отношение порядка. Закодируйте каждую платформу целым числом (от 0 до N) и положите этот \"код\" в новую колонку `Platform_Code`. Теперь вычислите корреляцию Спирмена между всеми парами колонок в датасете (результатом будет таблица корреляций). В качестве ответа выведите значение корреляции `Platform_Code` с `Engagement Rate`. Можете после вывода числа еще коротко написать, что оно означает (нет, это не оценивается).\n",
    "\n",
    "**Hint**: [pd.factorize](https://pandas.pydata.org/pandas-docs/stable/reference/api/pandas.factorize.html), [pd.DataFrame.select_dtypes](https://pandas.pydata.org/pandas-docs/stable/reference/api/pandas.DataFrame.select_dtypes.html), [pd.DataFrame.corr](https://pandas.pydata.org/pandas-docs/stable/reference/api/pandas.DataFrame.corr.html)."
   ]
  },
  {
   "cell_type": "code",
   "metadata": {
    "ExecuteTime": {
     "end_time": "2025-02-11T19:44:44.390396Z",
     "start_time": "2025-02-11T19:44:44.381156Z"
    }
   },
   "source": [
    "# ( ੭ ･ᴗ･ )੭\n",
    "df['Platform_Code'] = df['Platform'].factorize()[0]\n",
    "df.corr(method='spearman', numeric_only=True)['Platform_Code']['Engagement Rate']"
   ],
   "outputs": [
    {
     "data": {
      "text/plain": [
       "np.float64(0.03138169529349812)"
      ]
     },
     "execution_count": 18,
     "metadata": {},
     "output_type": "execute_result"
    }
   ],
   "execution_count": 18
  },
  {
   "cell_type": "markdown",
   "metadata": {},
   "source": [
    "#### Задание 2\n",
    "\n",
    "Теперь посмотрите на столбец `Follower Count`. В нем какие-то числа. Иногда бывает полезно провести дискретизацию такого признака. Разбейте все значения в столбце на 4 группы: \"Low\", \"Medium\", \"High\", \"Very High\". Каждая группа включает в себя новые 25% данных. То есть, Low включает в себя 25% самых маленьких значений признака и так далее. Положите значения \"Low\", \"Medium\", \"High\" или \"Very High\" для каждого сэмпла датасета в новую колонку `Follower_Bin`. Теперь посчитайте среднее значение `Engagement Rate` для каждой категории из `Follower_Bin`. В качестве ответа выведите значение для категории \"High\".\n",
    "\n",
    "**Hint**: [pd.qcut](https://pandas.pydata.org/pandas-docs/stable/reference/api/pandas.qcut.html), [pd.groupby](https://pandas.pydata.org/pandas-docs/stable/reference/api/pandas.DataFrame.groupby.html), [pd.DataFrame.mean](https://pandas.pydata.org/pandas-docs/stable/reference/api/pandas.DataFrame.mean.html)"
   ]
  },
  {
   "cell_type": "code",
   "metadata": {
    "ExecuteTime": {
     "end_time": "2025-02-11T20:12:44.095246Z",
     "start_time": "2025-02-11T20:12:44.089383Z"
    }
   },
   "source": [
    "# (◕^^◕)\n",
    "df['Follower_Bin'] = pd.qcut(df['Follower Count'], 4, labels=['Low', 'Medium', 'High', 'Very High'])\n",
    "df.groupby(by='Follower_Bin', observed=False)['Engagement Rate'].mean()['High']"
   ],
   "outputs": [
    {
     "name": "stderr",
     "output_type": "stream",
     "text": [
      "C:\\Users\\ok__\\AppData\\Local\\Temp\\ipykernel_32452\\1989558441.py:3: FutureWarning: The default of observed=False is deprecated and will be changed to True in a future version of pandas. Pass observed=False to retain current behavior or observed=True to adopt the future default and silence this warning.\n",
      "  df.groupby('Follower_Bin')['Engagement Rate'].mean()['High']\n"
     ]
    },
    {
     "data": {
      "text/plain": [
       "np.float64(0.08655032)"
      ]
     },
     "execution_count": 59,
     "metadata": {},
     "output_type": "execute_result"
    }
   ],
   "execution_count": 59
  },
  {
   "cell_type": "markdown",
   "metadata": {},
   "source": [
    "#### Задание 3\n",
    "\n",
    "Иногда бывает полезно превратить широкую таблицу в длинную (например, для визуализаций сразу нескольких признаков на одной картинке). Да, звучит странно, но именно этим вы сейчас и займетесь. Сделайте новый датафрейм `melted_df`, в который вы поместите каждый сэмпл датасета 6 раз: по одному разу на значение из 'Follower Count', 'Posts Per Week', 'Ad Spend (USD)', 'Conversion Rate', 'Engagement Rate' и 'Campaign Reach'. То есть, вы берете сэмпл из датасета (строку) и превращаете ее в 6 отдельных строк. Каждая отдельная строка в столбце `Metric` имеет имя из предложенного списка 5 признаков, а в столбце `Value` - значение данного сэмпла по этому признаку. Значение `Platform` повторяется в этих 6 строках.\n",
    "\n",
    "Иначе говоря, \n",
    "\n",
    "```json\n",
    "{\n",
    "    \"Account ID\": 1,\n",
    "    \"Username\": \"harrislisa\",\n",
    "    \"Platform\": \"TikTok\",\n",
    "    \"Follower Count\": 54217,\n",
    "    \"Posts Per Week\": 3,\n",
    "    \"Engagement Rate\": 0.0986,\n",
    "    \"Ad Spend (USD)\": 538.1,\n",
    "    \"Conversion Rate\": 0.049,\n",
    "    \"Campaign Reach\": 1308,\n",
    "    \"Platform_Code\": 0,\n",
    "    \"Follower_Bin\": \"Low\"\n",
    "}\n",
    "```\n",
    "\n",
    "превращается в \n",
    "\n",
    "```json\n",
    "{\n",
    "    \"Platform\": \"TikTok\",\n",
    "    \"Metric\": \"Follower Count\",\n",
    "    \"Value\": 54217,\n",
    "},\n",
    "{\n",
    "    \"Platform\": \"TikTok\",\n",
    "    \"Metric\": \"Posts Per Week\",\n",
    "    \"Value\": 3,\n",
    "}, ...\n",
    "```\n",
    "\n",
    "Для каждого уникальной пары значений (`Platform`, `Metric`) посчитайте моду среди всех значений `Value` для этой пары, результат сделайте списком и оставьте только наибольшее. В качестве ответа выведите сумму полученных мод (сумму всех значений в столбце `Value` уже после вычисления мод). Иначе говоря, выведите сумму всех мод значений для всех уникальных пар (`Platform`, `Metric`).\n",
    "\n",
    "**Hint**: [pd.melt](https://pandas.pydata.org/pandas-docs/stable/reference/api/pandas.melt.html), [pd.DataFrame.mode](https://pandas.pydata.org/pandas-docs/stable/reference/api/pandas.DataFrame.mode.html), [pd.DataFrameGroupBy.agg](https://pandas.pydata.org/docs/dev/reference/api/pandas.core.groupby.DataFrameGroupBy.agg.html)"
   ]
  },
  {
   "cell_type": "code",
   "metadata": {
    "ExecuteTime": {
     "end_time": "2025-02-13T17:55:37.502102Z",
     "start_time": "2025-02-13T17:55:37.463677Z"
    }
   },
   "source": [
    "# (づ๑•ᴗ•๑)づ♡\n",
    "melted_df = pd.melt(df, id_vars='Platform', var_name='Metric')\n",
    "grouped = melted_df.groupby(by=['Platform', 'Metric'], observed=False).agg(lambda x: pd.Series.mode(x)[0])\n",
    "pd.to_numeric(grouped['value'], errors='coerce').sum()"
   ],
   "outputs": [
    {
     "data": {
      "text/plain": [
       "np.float64(1641877.3452)"
      ]
     },
     "execution_count": 4,
     "metadata": {},
     "output_type": "execute_result"
    }
   ],
   "execution_count": 4
  },
  {
   "cell_type": "markdown",
   "metadata": {},
   "source": [
    "#### Задание 4\n",
    "\n",
    "А теперь хочется посмотреть на самые популярные аккаунты на разных платформах. Для каждой платформы отсортируйте датафрейм по убыванию количества подписчиков (`Follower Count`) - да, без циклов, сразу для всех платформ сделать сортировку, а затем оставьте только первые три записи для каждой платформы - это и будут три самых популярных аккаунта для каждой платформы. В качестве ответа выведите саму таблицу и минимальное значение `Follower Count` в ней.\n",
    "\n",
    "**Hint**: к *groupby* можно применять функции - это эквивалентно применению функции к каждой \"группе\" внутри groupby-объекта. Читайте [про применение apply к датафрейму после groupby](https://pandas.pydata.org/pandas-docs/stable/user_guide/groupby.html#flexible-apply)."
   ]
  },
  {
   "cell_type": "code",
   "metadata": {
    "ExecuteTime": {
     "end_time": "2025-02-13T18:04:46.847127Z",
     "start_time": "2025-02-13T18:04:46.834113Z"
    }
   },
   "source": [
    "# ε(´סּ︵סּ`)з\n",
    "largest_followers = df.groupby('Platform')['Follower Count'].nlargest(3)\n",
    "print(largest_followers.min())\n",
    "largest_followers"
   ],
   "outputs": [
    {
     "name": "stdout",
     "output_type": "stream",
     "text": [
      "997512\n"
     ]
    },
    {
     "data": {
      "text/plain": [
       "      Account ID       Username   Platform  Follower Count  Posts Per Week  \\\n",
       "0              1     harrislisa     TikTok           54217               3   \n",
       "1              2         rhicks   LinkedIn          987518               5   \n",
       "2              3        qthomas   Facebook          218870               3   \n",
       "3              4     carlosholt  Instagram          207432               6   \n",
       "4              5  parsonsashley   Facebook          350204               2   \n",
       "...          ...            ...        ...             ...             ...   \n",
       "9995        9996          sbyrd     TikTok          388169               6   \n",
       "9996        9997  jacksongerald     TikTok          150775               1   \n",
       "9997        9998          eryan    Twitter          427451               5   \n",
       "9998        9999      barbara57   LinkedIn          132884               4   \n",
       "9999       10000        nbutler   Facebook          725253               2   \n",
       "\n",
       "      Engagement Rate  Ad Spend (USD)  Conversion Rate  Campaign Reach  \\\n",
       "0              0.0986          538.10           0.0490            1308   \n",
       "1              0.0834          479.24           0.0174           13302   \n",
       "2              0.1020          150.36           0.0318           11043   \n",
       "3              0.0834          932.62           0.0400           12074   \n",
       "4              0.0642          504.44           0.0463           14083   \n",
       "...               ...             ...              ...             ...   \n",
       "9995           0.0642          362.91           0.0108           45091   \n",
       "9996           0.0642          177.92           0.0262           33084   \n",
       "9997           0.0834          432.65           0.0402           12484   \n",
       "9998           0.0986          892.99           0.0329           35766   \n",
       "9999           0.0642          878.87           0.0420           13012   \n",
       "\n",
       "     Conversion_Category  \n",
       "0                   High  \n",
       "1                    Low  \n",
       "2                   High  \n",
       "3                   High  \n",
       "4                   High  \n",
       "...                  ...  \n",
       "9995                 Low  \n",
       "9996                 Low  \n",
       "9997                High  \n",
       "9998                High  \n",
       "9999                High  \n",
       "\n",
       "[10000 rows x 10 columns]"
      ],
      "text/html": [
       "<div>\n",
       "<style scoped>\n",
       "    .dataframe tbody tr th:only-of-type {\n",
       "        vertical-align: middle;\n",
       "    }\n",
       "\n",
       "    .dataframe tbody tr th {\n",
       "        vertical-align: top;\n",
       "    }\n",
       "\n",
       "    .dataframe thead th {\n",
       "        text-align: right;\n",
       "    }\n",
       "</style>\n",
       "<table border=\"1\" class=\"dataframe\">\n",
       "  <thead>\n",
       "    <tr style=\"text-align: right;\">\n",
       "      <th></th>\n",
       "      <th>Account ID</th>\n",
       "      <th>Username</th>\n",
       "      <th>Platform</th>\n",
       "      <th>Follower Count</th>\n",
       "      <th>Posts Per Week</th>\n",
       "      <th>Engagement Rate</th>\n",
       "      <th>Ad Spend (USD)</th>\n",
       "      <th>Conversion Rate</th>\n",
       "      <th>Campaign Reach</th>\n",
       "      <th>Conversion_Category</th>\n",
       "    </tr>\n",
       "  </thead>\n",
       "  <tbody>\n",
       "    <tr>\n",
       "      <th>0</th>\n",
       "      <td>1</td>\n",
       "      <td>harrislisa</td>\n",
       "      <td>TikTok</td>\n",
       "      <td>54217</td>\n",
       "      <td>3</td>\n",
       "      <td>0.0986</td>\n",
       "      <td>538.10</td>\n",
       "      <td>0.0490</td>\n",
       "      <td>1308</td>\n",
       "      <td>High</td>\n",
       "    </tr>\n",
       "    <tr>\n",
       "      <th>1</th>\n",
       "      <td>2</td>\n",
       "      <td>rhicks</td>\n",
       "      <td>LinkedIn</td>\n",
       "      <td>987518</td>\n",
       "      <td>5</td>\n",
       "      <td>0.0834</td>\n",
       "      <td>479.24</td>\n",
       "      <td>0.0174</td>\n",
       "      <td>13302</td>\n",
       "      <td>Low</td>\n",
       "    </tr>\n",
       "    <tr>\n",
       "      <th>2</th>\n",
       "      <td>3</td>\n",
       "      <td>qthomas</td>\n",
       "      <td>Facebook</td>\n",
       "      <td>218870</td>\n",
       "      <td>3</td>\n",
       "      <td>0.1020</td>\n",
       "      <td>150.36</td>\n",
       "      <td>0.0318</td>\n",
       "      <td>11043</td>\n",
       "      <td>High</td>\n",
       "    </tr>\n",
       "    <tr>\n",
       "      <th>3</th>\n",
       "      <td>4</td>\n",
       "      <td>carlosholt</td>\n",
       "      <td>Instagram</td>\n",
       "      <td>207432</td>\n",
       "      <td>6</td>\n",
       "      <td>0.0834</td>\n",
       "      <td>932.62</td>\n",
       "      <td>0.0400</td>\n",
       "      <td>12074</td>\n",
       "      <td>High</td>\n",
       "    </tr>\n",
       "    <tr>\n",
       "      <th>4</th>\n",
       "      <td>5</td>\n",
       "      <td>parsonsashley</td>\n",
       "      <td>Facebook</td>\n",
       "      <td>350204</td>\n",
       "      <td>2</td>\n",
       "      <td>0.0642</td>\n",
       "      <td>504.44</td>\n",
       "      <td>0.0463</td>\n",
       "      <td>14083</td>\n",
       "      <td>High</td>\n",
       "    </tr>\n",
       "    <tr>\n",
       "      <th>...</th>\n",
       "      <td>...</td>\n",
       "      <td>...</td>\n",
       "      <td>...</td>\n",
       "      <td>...</td>\n",
       "      <td>...</td>\n",
       "      <td>...</td>\n",
       "      <td>...</td>\n",
       "      <td>...</td>\n",
       "      <td>...</td>\n",
       "      <td>...</td>\n",
       "    </tr>\n",
       "    <tr>\n",
       "      <th>9995</th>\n",
       "      <td>9996</td>\n",
       "      <td>sbyrd</td>\n",
       "      <td>TikTok</td>\n",
       "      <td>388169</td>\n",
       "      <td>6</td>\n",
       "      <td>0.0642</td>\n",
       "      <td>362.91</td>\n",
       "      <td>0.0108</td>\n",
       "      <td>45091</td>\n",
       "      <td>Low</td>\n",
       "    </tr>\n",
       "    <tr>\n",
       "      <th>9996</th>\n",
       "      <td>9997</td>\n",
       "      <td>jacksongerald</td>\n",
       "      <td>TikTok</td>\n",
       "      <td>150775</td>\n",
       "      <td>1</td>\n",
       "      <td>0.0642</td>\n",
       "      <td>177.92</td>\n",
       "      <td>0.0262</td>\n",
       "      <td>33084</td>\n",
       "      <td>Low</td>\n",
       "    </tr>\n",
       "    <tr>\n",
       "      <th>9997</th>\n",
       "      <td>9998</td>\n",
       "      <td>eryan</td>\n",
       "      <td>Twitter</td>\n",
       "      <td>427451</td>\n",
       "      <td>5</td>\n",
       "      <td>0.0834</td>\n",
       "      <td>432.65</td>\n",
       "      <td>0.0402</td>\n",
       "      <td>12484</td>\n",
       "      <td>High</td>\n",
       "    </tr>\n",
       "    <tr>\n",
       "      <th>9998</th>\n",
       "      <td>9999</td>\n",
       "      <td>barbara57</td>\n",
       "      <td>LinkedIn</td>\n",
       "      <td>132884</td>\n",
       "      <td>4</td>\n",
       "      <td>0.0986</td>\n",
       "      <td>892.99</td>\n",
       "      <td>0.0329</td>\n",
       "      <td>35766</td>\n",
       "      <td>High</td>\n",
       "    </tr>\n",
       "    <tr>\n",
       "      <th>9999</th>\n",
       "      <td>10000</td>\n",
       "      <td>nbutler</td>\n",
       "      <td>Facebook</td>\n",
       "      <td>725253</td>\n",
       "      <td>2</td>\n",
       "      <td>0.0642</td>\n",
       "      <td>878.87</td>\n",
       "      <td>0.0420</td>\n",
       "      <td>13012</td>\n",
       "      <td>High</td>\n",
       "    </tr>\n",
       "  </tbody>\n",
       "</table>\n",
       "<p>10000 rows × 10 columns</p>\n",
       "</div>"
      ]
     },
     "execution_count": 8,
     "metadata": {},
     "output_type": "execute_result"
    }
   ],
   "execution_count": 8
  },
  {
   "cell_type": "markdown",
   "metadata": {},
   "source": [
    "#### Задание 5\n",
    "\n",
    "Хочется посчитать какую-то метрику. Мы хотим посмотреть, на отношение разности суммы подписчиков аккаунтов с высокой и низкой конверсией к суммарному охвату рекламы на каждой платформе. То есть, мы делим аккаунты на две группы: высокая и низка конверсия. Затем мы смотрим на то, на сколько сильно влияние аккаунтов с высокой конверсией по сравнению с аккаунтами с низкой конверсией. \n",
    "\n",
    "Давайте определим *Conversion Influence* следущим образом:\n",
    "\n",
    "$$Conversion Influence = \\frac{Total Follower\\ Count (High) - Total Follower\\ Count (Low)}{Total Campaign Reach (High)+Total Campaign Reach (Low)}$$\n",
    "\n",
    "Считать эту метрику мы будет для каждой `Platform`. В этой формуле High - это значения всех сэмплов датасета, в которых `Conversion Rate` больше медианы, а `Low` - не более медианы. `Total Feature` - это суммарное количество значений `Feature` либо по `High` сэмплам, либо по `Low`.\n",
    "\n",
    "Чтобы постоянно не пересчитывать, где High. где Low, сделайте новую колонку в датасете `Conversion_Category`. Положите в нее для каждой строки либо High, либо Low.\n",
    "\n",
    "Выведите платформу с самым большим `Conversion Influence`.\n",
    "\n",
    "**Hint**: данное задание не про *groupby*, а скорее про [pd.pivot_table](https://pandas.pydata.org/pandas-docs/stable/reference/api/pandas.pivot_table.html). Сделайте сводную таблицу, по которой уже можно посчитать суммы, а затем подставить их в формулы."
   ]
  },
  {
   "cell_type": "code",
   "metadata": {
    "ExecuteTime": {
     "end_time": "2025-02-13T18:53:52.832707Z",
     "start_time": "2025-02-13T18:53:52.820957Z"
    }
   },
   "source": [
    "# (︶ω︶)\n",
    "df['Conversion_Category'] = pd.qcut(df['Conversion Rate'], 2, labels=['Low', 'High'])\n",
    "pt = df.pivot_table(columns='Conversion_Category', index='Platform', values=['Follower Count', 'Campaign Reach'])\n",
    "pt['Conversion_Influence'] = (pt['Follower Count']['High'] - pt['Follower Count']['Low']) / (pt['Campaign Reach']['High'] - pt['Campaign Reach']['Low'])\n",
    "pt['Conversion_Influence'].idxmax()"
   ],
   "outputs": [
    {
     "name": "stderr",
     "output_type": "stream",
     "text": [
      "C:\\Users\\ok__\\AppData\\Local\\Temp\\ipykernel_19664\\3428191197.py:3: FutureWarning: The default value of observed=False is deprecated and will change to observed=True in a future version of pandas. Specify observed=False to silence this warning and retain the current behavior\n",
      "  pt = df.pivot_table(columns='Conversion_Category', index='Platform', values=['Follower Count', 'Campaign Reach'])\n"
     ]
    },
    {
     "data": {
      "text/plain": [
       "'Twitter'"
      ]
     },
     "execution_count": 39,
     "metadata": {},
     "output_type": "execute_result"
    }
   ],
   "execution_count": 39
  },
  {
   "cell_type": "markdown",
   "metadata": {},
   "source": [
    "#### Задание 6\n",
    "\n",
    "Мы знаем, что вам понравилось считать метрики по формуле. Давайте закрепим этот успех. Теперь для каждой платформы посчитаем, на сколько эффективна реклама в разрезе трех последовательных записей в датасете. \n",
    "\n",
    "Для каждой платформы отсортируйте записи в порядке убывания `Posts Per Week`. Будто бы аккаунты, которые постят чаще, используют более \"активные\" стратегии по рекламе. Теперь посчитайте *скользущие суммы с окном 3* по `Campaign Reach` и `Ad Spend (USD)`. Скользящая сумма с окном N - это вы идете по массиву, берете все последовательные тройки записей и суммируете их. Для первых двух записей троек не найдется. Для них скользящее среднее - NaN, что нам не помешает. \n",
    "\n",
    "Теперь для каждого окна посчитайте \n",
    "\n",
    "$$Rolling Efficiency Ratio = \\frac{Rolling Sum of Campaign Reach}{Rolling Sum of Ad Spend}$$\n",
    "\n",
    "По сути, для каждого окна вы посчитаете сколько пользователе привлеклось за один доллар, потреченный на рекламу, в данном окне. Понятно, что значений будет столько, сколько окон. Нам интересно максимально значение такой эффективности для каждой платформы.\n",
    "\n",
    "В качестве ответа выведите название платформы с наибольшей максимальной эффективность и наименьшей (два названия, не одно, не три, ровно два).\n",
    "\n",
    "**Hint**: окна можно делать через [pd.DataFrame.rolling](https://pandas.pydata.org/pandas-docs/stable/reference/api/pandas.DataFrame.rolling.html)."
   ]
  },
  {
   "cell_type": "code",
   "metadata": {
    "ExecuteTime": {
     "end_time": "2025-02-13T19:06:56.570618Z",
     "start_time": "2025-02-13T19:06:56.559720Z"
    }
   },
   "source": [
    "# (◔/‿\\◔)\n",
    "gr = df.groupby('Platform').apply(lambda x: x.sort_values('Posts Per Week', ascending=False))\n",
    "gr['RL_of_Campaign_Reach'] = gr['Campaign Reach'].rolling(window=3).sum()\n",
    "gr['RL_of_Ad_Spend'] = gr['Ad Spend (USD)'].rolling(window=3).sum()\n",
    "gr['Rolling_Efficiency_Ratio'] = gr['RL_of_Campaign_Reach'] / gr['RL_of_Ad_Spend']\n",
    "gr[['Platform', 'Rolling_Efficiency_Ratio']].sort_values(by='Rolling_Efficiency_Ratio', ascending=False)\n",
    "(gr.loc[gr['Rolling_Efficiency_Ratio'].idxmax()]['Platform'], gr.loc[gr['Rolling_Efficiency_Ratio'].idxmin()]['Platform'])"
   ],
   "outputs": [
    {
     "name": "stderr",
     "output_type": "stream",
     "text": [
      "C:\\Users\\ok__\\AppData\\Local\\Temp\\ipykernel_19664\\1872382243.py:2: DeprecationWarning: DataFrameGroupBy.apply operated on the grouping columns. This behavior is deprecated, and in a future version of pandas the grouping columns will be excluded from the operation. Either pass `include_groups=False` to exclude the groupings or explicitly select the grouping columns after groupby to silence this warning.\n",
      "  gr = df.groupby('Platform').apply(lambda x: x.sort_values('Posts Per Week', ascending=False))\n"
     ]
    },
    {
     "data": {
      "text/plain": [
       "('Facebook', 'TikTok')"
      ]
     },
     "execution_count": 60,
     "metadata": {},
     "output_type": "execute_result"
    }
   ],
   "execution_count": 60
  },
  {
   "cell_type": "markdown",
   "metadata": {},
   "source": [
    "#### Задание 7\n",
    "\n",
    "Это еще не все прекрасные функции pandas, которые мы хотим вам показать. Теперь вы посчитаете, сколько аккаунтов на каждой платформе одновременно лучшие по `Engagement Rate` и `Conversion Rate`.\n",
    "\n",
    "Сделайте два отдельных суб-сета. В одном оставьте для каждой платфмормы один топовый аккаунт по `Engagement Rate`, в другом - по `Conversion Rate`. Соедините эти два подмножества по столбцу `Platform` так, что в одно строке есть описание сразу двух аккаунтов-лидеров. Теперь посмотрите равны ли имена аккаунтов в одной строке. Выведите количество строк, в которых названия аккаунтов совпадают."
   ]
  },
  {
   "cell_type": "code",
   "metadata": {
    "ExecuteTime": {
     "end_time": "2025-02-13T19:31:52.272081Z",
     "start_time": "2025-02-13T19:31:52.263409Z"
    }
   },
   "source": [
    "# ( ͡° ͜ʖ ͡°)\n",
    "en_r = df.loc[df.groupby('Platform')['Engagement Rate'].idxmax()][['Platform', 'Username']]\n",
    "co_r = df.loc[df.groupby('Platform')['Conversion Rate'].idxmax()][['Platform', 'Username']]\n",
    "merged = pd.merge(en_r, co_r, on='Platform')\n",
    "len(merged[merged['Username_x'] == merged['Username_y']])"
   ],
   "outputs": [
    {
     "data": {
      "text/plain": [
       "0"
      ]
     },
     "execution_count": 70,
     "metadata": {},
     "output_type": "execute_result"
    }
   ],
   "execution_count": 70
  },
  {
   "cell_type": "markdown",
   "metadata": {},
   "source": [
    "#### Задание 8\n",
    "\n",
    "Давайте теперь что-то попроще сделаем. Например, посчитаем отношение суммарного количества подписчиков на аккаунтах с высокой конверсией к такой же сумме в аккаунтах с низкой конверсией (очевидно, для каждой платформы). По сути, мы просто хотим получить число, которое характеризует, на сколько сильно аккаунты с высокой конверсией \"доминируют\" над аккаунтами с низкой конверсией в плане количества подписчиков.\n",
    "\n",
    "Высокой конверсией будем считать конверсию больше средней. Остальное - низкая. Посчитайте суммы подписчиков для каждой платформы, поделите одно на другое и выведите разницу между самым большим значением и самым маленьким, а также платформы, которые соотвутствуют этим значениям.\n",
    "\n",
    "Используйте магическую команду `%%time`, чтобы замерить, сколько времени ушло на исполнение вашего pandas-скрипта."
   ]
  },
  {
   "metadata": {
    "ExecuteTime": {
     "end_time": "2025-02-13T20:26:33.205030Z",
     "start_time": "2025-02-13T20:26:33.198472Z"
    }
   },
   "cell_type": "code",
   "source": [
    "%%time\n",
    "# (◡‿◡✿)\n",
    "mean_conversion = df['Conversion Rate'].mean()\n",
    "sum_high = df[df['Conversion Rate'] > mean_conversion].groupby('Platform')['Follower Count'].sum()\n",
    "sum_low = df[df['Conversion Rate'] <= mean_conversion].groupby('Platform')['Follower Count'].sum()\n",
    "ratio = sum_high / sum_low\n",
    "diff = ratio.max() - ratio.min()\n",
    "min_platform = ratio.idxmin()\n",
    "max_platform = ratio.idxmax()\n",
    "diff, max_platform, min_platform"
   ],
   "outputs": [
    {
     "name": "stdout",
     "output_type": "stream",
     "text": [
      "CPU times: total: 0 ns\n",
      "Wall time: 2.88 ms\n"
     ]
    },
    {
     "data": {
      "text/plain": [
       "(np.float64(0.17688741338715763), 'Twitter', 'Instagram')"
      ]
     },
     "execution_count": 83,
     "metadata": {},
     "output_type": "execute_result"
    }
   ],
   "execution_count": 83
  },
  {
   "cell_type": "markdown",
   "metadata": {},
   "source": [
    "#### Задание 9\n",
    "\n",
    "А теперь решите задание 8 чисто питоном. Никаких функций и методов pandas. Только питоновские циклы. Замерьте время выполнения кода. Наконец, сравните время в задании 8 и 9. Напишите ниже, кто же победил: чистый python и pandas?\n",
    "\n",
    "**Hint**: Чтобы итерироваться по датафрейму, можно из него сделать генератор через [pd.DataFrame.iterrows](https://pandas.pydata.org/pandas-docs/stable/reference/api/pandas.DataFrame.iterrows.html) или [pd.DataFrame.itertuples](https://pandas.pydata.org/pandas-docs/stable/reference/api/pandas.DataFrame.itertuples.html#pandas.DataFrame.itertuples). К слову, это не все способы итерироваться по датафрейму."
   ]
  },
  {
   "cell_type": "code",
   "metadata": {
    "ExecuteTime": {
     "end_time": "2025-02-13T20:50:59.911146Z",
     "start_time": "2025-02-13T20:50:59.323784Z"
    }
   },
   "source": [
    "%%time\n",
    "# (✿◠‿◠)\n",
    "mean_conversion = sum(row['Conversion Rate'] for _, row in df.iterrows()) / len(df)\n",
    "\n",
    "sum_high = {}\n",
    "sum_low = {}\n",
    "\n",
    "for _, row in df.iterrows():\n",
    "    platform = row['Platform']\n",
    "    followers = row['Follower Count']\n",
    "    if row['Conversion Rate'] > mean_conversion:\n",
    "        sum_high[platform] = sum_high.get(platform, 0) + followers\n",
    "    else:\n",
    "        sum_low[platform] = sum_low.get(platform, 0) + followers\n",
    "\n",
    "ratio = {platform: sum_high[platform] / sum_low[platform] for platform in sum_high if platform in sum_low and sum_low[platform] > 0}\n",
    "max_platform = max(ratio, key=ratio.get)\n",
    "min_platform = min(ratio, key=ratio.get)\n",
    "diff = ratio[max_platform] - ratio[min_platform]\n",
    "diff, max_platform, min_platform"
   ],
   "outputs": [
    {
     "name": "stdout",
     "output_type": "stream",
     "text": [
      "Разница: 0.1769, Максимум: Twitter, Минимум: Instagram\n",
      "CPU times: total: 375 ms\n",
      "Wall time: 583 ms\n"
     ]
    }
   ],
   "execution_count": 94
  },
  {
   "metadata": {},
   "cell_type": "markdown",
   "source": "В итоге приходим к выводу, что панды круто, питоны не круто"
  },
  {
   "cell_type": "markdown",
   "metadata": {},
   "source": [
    "**А победителем является**: <А ТУТ МОЙ ОТВЕТ, Я ЗАМЕТИЛ, ЧТО В ЗАДАНИИ НУЖНО ЕЩЕ ЧТО-ТО НАПИСАТЬ ПОСЛЕ КОДА, ИНАЧЕ НЕ ПОЛУЧУ ПОЛНЫЙ БАЛЛ ЗА ЗАДАНИЕ>"
   ]
  },
  {
   "cell_type": "markdown",
   "metadata": {},
   "source": [
    "#### Задание 10\n",
    "\n",
    "Крайне серьезное задание. Отнеситесь к нему соответствующе. В ячейке ниже напишите ваш любимый анекдот или мем (только без баянов, окей?). Можно плохие. Помните, это задание на полный балл. Проверяющий работу ассистент должен улыбнуться.\n",
    "\n",
    "Если вставляете картинку, то убедитесь, что вы ее не подгружаете локально. А то будет неудобно - потерять балл на этом задании, когда надо было выложить картинку на облако и прокинуть ссылку. И нет, нельзя сюда просто ссылку вставить. Либо ищите, как вставить картинку, либо смешной анекдот. Есть всего два стула - выбирайте..."
   ]
  },
  {
   "cell_type": "code",
   "execution_count": null,
   "metadata": {},
   "outputs": [],
   "source": [
    "# ‿( ́ ̵ _-`)‿\n",
    "# Ну такую-то ссылку явно можно\n",
    "# https://xkcd.com/1445/"
   ]
  },
  {
   "cell_type": "markdown",
   "metadata": {},
   "source": []
  }
 ],
 "metadata": {
  "kernelspec": {
   "display_name": "default",
   "language": "python",
   "name": "python3"
  },
  "language_info": {
   "codemirror_mode": {
    "name": "ipython",
    "version": 3
   },
   "file_extension": ".py",
   "mimetype": "text/x-python",
   "name": "python",
   "nbconvert_exporter": "python",
   "pygments_lexer": "ipython3",
   "version": "3.11.9"
  }
 },
 "nbformat": 4,
 "nbformat_minor": 1
}
