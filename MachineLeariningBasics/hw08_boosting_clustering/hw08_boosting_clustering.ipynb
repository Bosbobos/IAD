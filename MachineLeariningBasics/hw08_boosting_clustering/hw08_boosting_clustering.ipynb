{
 "cells": [
  {
   "cell_type": "markdown",
   "id": "047674ee",
   "metadata": {
    "id": "047674ee"
   },
   "source": [
    "# Часть 1 Бустинг (5 баллов)"
   ]
  },
  {
   "cell_type": "markdown",
   "id": "d8461109",
   "metadata": {
    "id": "d8461109"
   },
   "source": [
    "В этой части будем предсказывать зарплату data scientist-ов в зависимости  от ряда факторов с помощью градиентного бустинга."
   ]
  },
  {
   "cell_type": "markdown",
   "id": "1651e8dd",
   "metadata": {
    "id": "1651e8dd"
   },
   "source": [
    "В датасете есть следующие признаки:\n",
    "\n",
    "\n",
    "\n",
    "* work_year: The number of years of work experience in the field of data science.\n",
    "\n",
    "* experience_level: The level of experience, such as Junior, Senior, or Lead.\n",
    "\n",
    "* employment_type: The type of employment, such as Full-time or Contract.\n",
    "\n",
    "* job_title: The specific job title or role, such as Data Analyst or Data Scientist.\n",
    "\n",
    "* salary: The salary amount for the given job.\n",
    "\n",
    "* salary_currency: The currency in which the salary is denoted.\n",
    "\n",
    "* salary_in_usd: The equivalent salary amount converted to US dollars (USD) for comparison purposes.\n",
    "\n",
    "* employee_residence: The country or region where the employee resides.\n",
    "\n",
    "* remote_ratio: The percentage of remote work offered in the job.\n",
    "\n",
    "* company_location: The location of the company or organization.\n",
    "\n",
    "* company_size: The company's size is categorized as Small, Medium, or Large."
   ]
  },
  {
   "cell_type": "code",
   "id": "dbf7595c",
   "metadata": {
    "colab": {
     "base_uri": "https://localhost:8080/",
     "height": 330
    },
    "id": "dbf7595c",
    "outputId": "1b27c9f2-85d2-4971-a592-6b4aaba9f94a",
    "ExecuteTime": {
     "end_time": "2025-06-10T18:58:43.428013Z",
     "start_time": "2025-06-10T18:58:43.396634Z"
    }
   },
   "source": [
    "import pandas as pd\n",
    "import numpy as np\n",
    "import sklearn\n",
    "from mlxtend import regressor\n",
    "\n",
    "df = pd.read_csv(\"ds_salaries.csv\")\n",
    "df.head()"
   ],
   "outputs": [
    {
     "data": {
      "text/plain": [
       "   work_year experience_level employment_type                 job_title  \\\n",
       "0       2023               SE              FT  Principal Data Scientist   \n",
       "1       2023               MI              CT               ML Engineer   \n",
       "2       2023               MI              CT               ML Engineer   \n",
       "3       2023               SE              FT            Data Scientist   \n",
       "4       2023               SE              FT            Data Scientist   \n",
       "\n",
       "   salary salary_currency  salary_in_usd employee_residence  remote_ratio  \\\n",
       "0   80000             EUR          85847                 ES           100   \n",
       "1   30000             USD          30000                 US           100   \n",
       "2   25500             USD          25500                 US           100   \n",
       "3  175000             USD         175000                 CA           100   \n",
       "4  120000             USD         120000                 CA           100   \n",
       "\n",
       "  company_location company_size  \n",
       "0               ES            L  \n",
       "1               US            S  \n",
       "2               US            S  \n",
       "3               CA            M  \n",
       "4               CA            M  "
      ],
      "text/html": [
       "<div>\n",
       "<style scoped>\n",
       "    .dataframe tbody tr th:only-of-type {\n",
       "        vertical-align: middle;\n",
       "    }\n",
       "\n",
       "    .dataframe tbody tr th {\n",
       "        vertical-align: top;\n",
       "    }\n",
       "\n",
       "    .dataframe thead th {\n",
       "        text-align: right;\n",
       "    }\n",
       "</style>\n",
       "<table border=\"1\" class=\"dataframe\">\n",
       "  <thead>\n",
       "    <tr style=\"text-align: right;\">\n",
       "      <th></th>\n",
       "      <th>work_year</th>\n",
       "      <th>experience_level</th>\n",
       "      <th>employment_type</th>\n",
       "      <th>job_title</th>\n",
       "      <th>salary</th>\n",
       "      <th>salary_currency</th>\n",
       "      <th>salary_in_usd</th>\n",
       "      <th>employee_residence</th>\n",
       "      <th>remote_ratio</th>\n",
       "      <th>company_location</th>\n",
       "      <th>company_size</th>\n",
       "    </tr>\n",
       "  </thead>\n",
       "  <tbody>\n",
       "    <tr>\n",
       "      <th>0</th>\n",
       "      <td>2023</td>\n",
       "      <td>SE</td>\n",
       "      <td>FT</td>\n",
       "      <td>Principal Data Scientist</td>\n",
       "      <td>80000</td>\n",
       "      <td>EUR</td>\n",
       "      <td>85847</td>\n",
       "      <td>ES</td>\n",
       "      <td>100</td>\n",
       "      <td>ES</td>\n",
       "      <td>L</td>\n",
       "    </tr>\n",
       "    <tr>\n",
       "      <th>1</th>\n",
       "      <td>2023</td>\n",
       "      <td>MI</td>\n",
       "      <td>CT</td>\n",
       "      <td>ML Engineer</td>\n",
       "      <td>30000</td>\n",
       "      <td>USD</td>\n",
       "      <td>30000</td>\n",
       "      <td>US</td>\n",
       "      <td>100</td>\n",
       "      <td>US</td>\n",
       "      <td>S</td>\n",
       "    </tr>\n",
       "    <tr>\n",
       "      <th>2</th>\n",
       "      <td>2023</td>\n",
       "      <td>MI</td>\n",
       "      <td>CT</td>\n",
       "      <td>ML Engineer</td>\n",
       "      <td>25500</td>\n",
       "      <td>USD</td>\n",
       "      <td>25500</td>\n",
       "      <td>US</td>\n",
       "      <td>100</td>\n",
       "      <td>US</td>\n",
       "      <td>S</td>\n",
       "    </tr>\n",
       "    <tr>\n",
       "      <th>3</th>\n",
       "      <td>2023</td>\n",
       "      <td>SE</td>\n",
       "      <td>FT</td>\n",
       "      <td>Data Scientist</td>\n",
       "      <td>175000</td>\n",
       "      <td>USD</td>\n",
       "      <td>175000</td>\n",
       "      <td>CA</td>\n",
       "      <td>100</td>\n",
       "      <td>CA</td>\n",
       "      <td>M</td>\n",
       "    </tr>\n",
       "    <tr>\n",
       "      <th>4</th>\n",
       "      <td>2023</td>\n",
       "      <td>SE</td>\n",
       "      <td>FT</td>\n",
       "      <td>Data Scientist</td>\n",
       "      <td>120000</td>\n",
       "      <td>USD</td>\n",
       "      <td>120000</td>\n",
       "      <td>CA</td>\n",
       "      <td>100</td>\n",
       "      <td>CA</td>\n",
       "      <td>M</td>\n",
       "    </tr>\n",
       "  </tbody>\n",
       "</table>\n",
       "</div>"
      ]
     },
     "execution_count": 40,
     "metadata": {},
     "output_type": "execute_result"
    }
   ],
   "execution_count": 40
  },
  {
   "cell_type": "markdown",
   "id": "6696e77a",
   "metadata": {
    "id": "6696e77a"
   },
   "source": [
    "## Задание 1 (0.5 балла) Подготовка"
   ]
  },
  {
   "cell_type": "markdown",
   "id": "0cb13dc7",
   "metadata": {
    "id": "0cb13dc7"
   },
   "source": [
    "\n",
    "\n",
    "*   Разделите выборку на train, val, test (80%, 10%, 10%)\n",
    "*   Выдерите salary_in_usd в качестве таргета\n",
    "*   Найдите и удалите признак, из-за которого возможен лик в данных\n"
   ]
  },
  {
   "cell_type": "code",
   "source": [
    "from sklearn.model_selection import train_test_split\n",
    "\n",
    "y = df['salary_in_usd']\n",
    "df.drop(['salary_in_usd', 'salary', 'salary_currency'], axis=1, inplace=True)\n",
    "train, test, train_y, test_y = train_test_split(df, y, test_size=0.2, random_state=17)\n",
    "test, val, test_y, val_y = train_test_split(test, test_y, test_size=0.5, random_state=17)\n",
    "train.head(3)"
   ],
   "metadata": {
    "id": "HJNGYRCjYG8A",
    "ExecuteTime": {
     "end_time": "2025-06-10T18:58:43.648327Z",
     "start_time": "2025-06-10T18:58:43.638161Z"
    }
   },
   "id": "HJNGYRCjYG8A",
   "outputs": [
    {
     "data": {
      "text/plain": [
       "      work_year experience_level employment_type  \\\n",
       "1995       2022               EN              FT   \n",
       "3308       2022               SE              FT   \n",
       "2965       2022               SE              FT   \n",
       "\n",
       "                                     job_title employee_residence  \\\n",
       "1995                             Data Engineer                 US   \n",
       "3308                             Data Engineer                 US   \n",
       "2965  Machine Learning Infrastructure Engineer                 US   \n",
       "\n",
       "      remote_ratio company_location company_size  \n",
       "1995             0               US            M  \n",
       "3308           100               US            M  \n",
       "2965           100               US            M  "
      ],
      "text/html": [
       "<div>\n",
       "<style scoped>\n",
       "    .dataframe tbody tr th:only-of-type {\n",
       "        vertical-align: middle;\n",
       "    }\n",
       "\n",
       "    .dataframe tbody tr th {\n",
       "        vertical-align: top;\n",
       "    }\n",
       "\n",
       "    .dataframe thead th {\n",
       "        text-align: right;\n",
       "    }\n",
       "</style>\n",
       "<table border=\"1\" class=\"dataframe\">\n",
       "  <thead>\n",
       "    <tr style=\"text-align: right;\">\n",
       "      <th></th>\n",
       "      <th>work_year</th>\n",
       "      <th>experience_level</th>\n",
       "      <th>employment_type</th>\n",
       "      <th>job_title</th>\n",
       "      <th>employee_residence</th>\n",
       "      <th>remote_ratio</th>\n",
       "      <th>company_location</th>\n",
       "      <th>company_size</th>\n",
       "    </tr>\n",
       "  </thead>\n",
       "  <tbody>\n",
       "    <tr>\n",
       "      <th>1995</th>\n",
       "      <td>2022</td>\n",
       "      <td>EN</td>\n",
       "      <td>FT</td>\n",
       "      <td>Data Engineer</td>\n",
       "      <td>US</td>\n",
       "      <td>0</td>\n",
       "      <td>US</td>\n",
       "      <td>M</td>\n",
       "    </tr>\n",
       "    <tr>\n",
       "      <th>3308</th>\n",
       "      <td>2022</td>\n",
       "      <td>SE</td>\n",
       "      <td>FT</td>\n",
       "      <td>Data Engineer</td>\n",
       "      <td>US</td>\n",
       "      <td>100</td>\n",
       "      <td>US</td>\n",
       "      <td>M</td>\n",
       "    </tr>\n",
       "    <tr>\n",
       "      <th>2965</th>\n",
       "      <td>2022</td>\n",
       "      <td>SE</td>\n",
       "      <td>FT</td>\n",
       "      <td>Machine Learning Infrastructure Engineer</td>\n",
       "      <td>US</td>\n",
       "      <td>100</td>\n",
       "      <td>US</td>\n",
       "      <td>M</td>\n",
       "    </tr>\n",
       "  </tbody>\n",
       "</table>\n",
       "</div>"
      ]
     },
     "execution_count": 41,
     "metadata": {},
     "output_type": "execute_result"
    }
   ],
   "execution_count": 41
  },
  {
   "metadata": {
    "ExecuteTime": {
     "end_time": "2025-06-10T18:58:43.716255Z",
     "start_time": "2025-06-10T18:58:43.712569Z"
    }
   },
   "cell_type": "code",
   "source": [
    "print(f'exp: {df['experience_level'].unique()}')\n",
    "print(f'size: {df['company_size'].unique()}')\n"
   ],
   "id": "a886faf66e1e6a93",
   "outputs": [
    {
     "name": "stdout",
     "output_type": "stream",
     "text": [
      "exp: ['SE' 'MI' 'EN' 'EX']\n",
      "size: ['L' 'S' 'M']\n"
     ]
    }
   ],
   "execution_count": 42
  },
  {
   "cell_type": "markdown",
   "id": "f63cb01a",
   "metadata": {
    "id": "f63cb01a"
   },
   "source": [
    "## Задание 2 (0.5 балла) Линейная модель"
   ]
  },
  {
   "cell_type": "markdown",
   "id": "647a5cad",
   "metadata": {
    "id": "647a5cad"
   },
   "source": [
    "\n",
    "*   Закодируйте категориальные  признаки с помощью OneHotEncoder\n",
    "*   Обучите модель линейной регрессии\n",
    "*   Оцените  качество через MAPE и RMSE\n"
   ]
  },
  {
   "metadata": {
    "ExecuteTime": {
     "end_time": "2025-06-10T18:58:43.801643Z",
     "start_time": "2025-06-10T18:58:43.797225Z"
    }
   },
   "cell_type": "code",
   "source": [
    "from sklearn.preprocessing import OneHotEncoder, OrdinalEncoder\n",
    "\n",
    "def encode_train_test_val(train: pd.DataFrame,\n",
    "                          test: pd.DataFrame,\n",
    "                          val: pd.DataFrame,\n",
    "                          encoder: OneHotEncoder | OrdinalEncoder,\n",
    "                          column: str) -> (pd.DataFrame, pd.DataFrame, pd.DataFrame):\n",
    "    tmp_train, tmp_test, tmp_val = train.copy(), test.copy(), val.copy()\n",
    "\n",
    "    train_res = encoder.fit_transform(train.loc[:, [column]])\n",
    "    test_res = encoder.transform(test.loc[:, [column]])\n",
    "    val_res = encoder.transform(val.loc[:, [column]])\n",
    "    if isinstance(encoder, OneHotEncoder):\n",
    "        new_columns = encoder.get_feature_names_out([column])\n",
    "\n",
    "        train_res = pd.DataFrame(train_res, columns=new_columns, index=train.index)\n",
    "        test_res = pd.DataFrame(test_res, columns=new_columns, index=test.index)\n",
    "        val_res = pd.DataFrame(val_res, columns=new_columns, index=val.index)\n",
    "\n",
    "        tmp_train.drop(columns=[column], inplace=True)\n",
    "        tmp_test.drop(columns=[column], inplace=True)\n",
    "        tmp_val.drop(columns=[column], inplace=True)\n",
    "\n",
    "        tmp_train = pd.concat([tmp_train, train_res], axis=1)\n",
    "        tmp_test = pd.concat([tmp_test, test_res], axis=1)\n",
    "        tmp_val = pd.concat([tmp_val, val_res], axis=1)\n",
    "    elif isinstance(encoder, OrdinalEncoder):\n",
    "        tmp_train[column] = train_res\n",
    "        tmp_test[column] = test_res\n",
    "        tmp_val[column] = val_res\n",
    "\n",
    "    return tmp_train, tmp_test, tmp_val"
   ],
   "id": "2044203b6ea4fa29",
   "outputs": [],
   "execution_count": 43
  },
  {
   "cell_type": "code",
   "source": [
    "# Наши ординальные признаки\n",
    "exp_categories = [['EN', 'MI', 'SE', 'EX']]\n",
    "size_categories = [['S', 'M', 'L']]\n",
    "ordinal = OrdinalEncoder(categories=exp_categories)\n",
    "enc_train, enc_test, enc_val = encode_train_test_val(train, test, val, ordinal, column='experience_level')\n",
    "ordinal = OrdinalEncoder(categories=size_categories)\n",
    "enc_train, enc_test, enc_val = encode_train_test_val(enc_train, enc_test, enc_val, ordinal, column='company_size')\n",
    "\n",
    "# Остальные\n",
    "onehot = OneHotEncoder(handle_unknown='ignore', sparse_output=False)\n",
    "categorical_features = ['employment_type', 'job_title', 'employee_residence', 'company_location']\n",
    "for categorical_feature in categorical_features:\n",
    "    enc_train, enc_test, enc_val = encode_train_test_val(enc_train, enc_test, enc_val, onehot, categorical_feature)\n",
    "\n",
    "enc_train.head(3)"
   ],
   "metadata": {
    "id": "DcfWqlvYk0ru",
    "ExecuteTime": {
     "end_time": "2025-06-10T18:58:43.938387Z",
     "start_time": "2025-06-10T18:58:43.890892Z"
    }
   },
   "id": "DcfWqlvYk0ru",
   "outputs": [
    {
     "data": {
      "text/plain": [
       "      work_year  experience_level  remote_ratio  company_size  \\\n",
       "1995       2022               0.0             0           1.0   \n",
       "3308       2022               2.0           100           1.0   \n",
       "2965       2022               2.0           100           1.0   \n",
       "\n",
       "      employment_type_CT  employment_type_FL  employment_type_FT  \\\n",
       "1995                 0.0                 0.0                 1.0   \n",
       "3308                 0.0                 0.0                 1.0   \n",
       "2965                 0.0                 0.0                 1.0   \n",
       "\n",
       "      employment_type_PT  job_title_3D Computer Vision Researcher  \\\n",
       "1995                 0.0                                      0.0   \n",
       "3308                 0.0                                      0.0   \n",
       "2965                 0.0                                      0.0   \n",
       "\n",
       "      job_title_AI Developer  ...  company_location_RU  company_location_SE  \\\n",
       "1995                     0.0  ...                  0.0                  0.0   \n",
       "3308                     0.0  ...                  0.0                  0.0   \n",
       "2965                     0.0  ...                  0.0                  0.0   \n",
       "\n",
       "      company_location_SG  company_location_SI  company_location_SK  \\\n",
       "1995                  0.0                  0.0                  0.0   \n",
       "3308                  0.0                  0.0                  0.0   \n",
       "2965                  0.0                  0.0                  0.0   \n",
       "\n",
       "      company_location_TH  company_location_TR  company_location_UA  \\\n",
       "1995                  0.0                  0.0                  0.0   \n",
       "3308                  0.0                  0.0                  0.0   \n",
       "2965                  0.0                  0.0                  0.0   \n",
       "\n",
       "      company_location_US  company_location_VN  \n",
       "1995                  1.0                  0.0  \n",
       "3308                  1.0                  0.0  \n",
       "2965                  1.0                  0.0  \n",
       "\n",
       "[3 rows x 230 columns]"
      ],
      "text/html": [
       "<div>\n",
       "<style scoped>\n",
       "    .dataframe tbody tr th:only-of-type {\n",
       "        vertical-align: middle;\n",
       "    }\n",
       "\n",
       "    .dataframe tbody tr th {\n",
       "        vertical-align: top;\n",
       "    }\n",
       "\n",
       "    .dataframe thead th {\n",
       "        text-align: right;\n",
       "    }\n",
       "</style>\n",
       "<table border=\"1\" class=\"dataframe\">\n",
       "  <thead>\n",
       "    <tr style=\"text-align: right;\">\n",
       "      <th></th>\n",
       "      <th>work_year</th>\n",
       "      <th>experience_level</th>\n",
       "      <th>remote_ratio</th>\n",
       "      <th>company_size</th>\n",
       "      <th>employment_type_CT</th>\n",
       "      <th>employment_type_FL</th>\n",
       "      <th>employment_type_FT</th>\n",
       "      <th>employment_type_PT</th>\n",
       "      <th>job_title_3D Computer Vision Researcher</th>\n",
       "      <th>job_title_AI Developer</th>\n",
       "      <th>...</th>\n",
       "      <th>company_location_RU</th>\n",
       "      <th>company_location_SE</th>\n",
       "      <th>company_location_SG</th>\n",
       "      <th>company_location_SI</th>\n",
       "      <th>company_location_SK</th>\n",
       "      <th>company_location_TH</th>\n",
       "      <th>company_location_TR</th>\n",
       "      <th>company_location_UA</th>\n",
       "      <th>company_location_US</th>\n",
       "      <th>company_location_VN</th>\n",
       "    </tr>\n",
       "  </thead>\n",
       "  <tbody>\n",
       "    <tr>\n",
       "      <th>1995</th>\n",
       "      <td>2022</td>\n",
       "      <td>0.0</td>\n",
       "      <td>0</td>\n",
       "      <td>1.0</td>\n",
       "      <td>0.0</td>\n",
       "      <td>0.0</td>\n",
       "      <td>1.0</td>\n",
       "      <td>0.0</td>\n",
       "      <td>0.0</td>\n",
       "      <td>0.0</td>\n",
       "      <td>...</td>\n",
       "      <td>0.0</td>\n",
       "      <td>0.0</td>\n",
       "      <td>0.0</td>\n",
       "      <td>0.0</td>\n",
       "      <td>0.0</td>\n",
       "      <td>0.0</td>\n",
       "      <td>0.0</td>\n",
       "      <td>0.0</td>\n",
       "      <td>1.0</td>\n",
       "      <td>0.0</td>\n",
       "    </tr>\n",
       "    <tr>\n",
       "      <th>3308</th>\n",
       "      <td>2022</td>\n",
       "      <td>2.0</td>\n",
       "      <td>100</td>\n",
       "      <td>1.0</td>\n",
       "      <td>0.0</td>\n",
       "      <td>0.0</td>\n",
       "      <td>1.0</td>\n",
       "      <td>0.0</td>\n",
       "      <td>0.0</td>\n",
       "      <td>0.0</td>\n",
       "      <td>...</td>\n",
       "      <td>0.0</td>\n",
       "      <td>0.0</td>\n",
       "      <td>0.0</td>\n",
       "      <td>0.0</td>\n",
       "      <td>0.0</td>\n",
       "      <td>0.0</td>\n",
       "      <td>0.0</td>\n",
       "      <td>0.0</td>\n",
       "      <td>1.0</td>\n",
       "      <td>0.0</td>\n",
       "    </tr>\n",
       "    <tr>\n",
       "      <th>2965</th>\n",
       "      <td>2022</td>\n",
       "      <td>2.0</td>\n",
       "      <td>100</td>\n",
       "      <td>1.0</td>\n",
       "      <td>0.0</td>\n",
       "      <td>0.0</td>\n",
       "      <td>1.0</td>\n",
       "      <td>0.0</td>\n",
       "      <td>0.0</td>\n",
       "      <td>0.0</td>\n",
       "      <td>...</td>\n",
       "      <td>0.0</td>\n",
       "      <td>0.0</td>\n",
       "      <td>0.0</td>\n",
       "      <td>0.0</td>\n",
       "      <td>0.0</td>\n",
       "      <td>0.0</td>\n",
       "      <td>0.0</td>\n",
       "      <td>0.0</td>\n",
       "      <td>1.0</td>\n",
       "      <td>0.0</td>\n",
       "    </tr>\n",
       "  </tbody>\n",
       "</table>\n",
       "<p>3 rows × 230 columns</p>\n",
       "</div>"
      ]
     },
     "execution_count": 44,
     "metadata": {},
     "output_type": "execute_result"
    }
   ],
   "execution_count": 44
  },
  {
   "metadata": {
    "ExecuteTime": {
     "end_time": "2025-06-10T18:58:44.051710Z",
     "start_time": "2025-06-10T18:58:43.992214Z"
    }
   },
   "cell_type": "code",
   "source": [
    "from sklearn.linear_model import LinearRegression\n",
    "from sklearn.metrics import mean_absolute_percentage_error, mean_squared_error, accuracy_score\n",
    "\n",
    "linreg = LinearRegression()\n",
    "linreg.fit(enc_train, train_y)\n",
    "preds = linreg.predict(enc_test)\n",
    "\n",
    "print('MAPE: ', mean_absolute_percentage_error(test_y, preds))\n",
    "print('RMSE: ', mean_squared_error(test_y, preds))"
   ],
   "id": "7e4765dd7fd85205",
   "outputs": [
    {
     "name": "stdout",
     "output_type": "stream",
     "text": [
      "MAPE:  0.3479265655786004\n",
      "RMSE:  2612967589.7677026\n"
     ]
    }
   ],
   "execution_count": 45
  },
  {
   "metadata": {},
   "cell_type": "markdown",
   "source": [
    "### Изменения и их обоснование!!\n",
    "\n",
    "experience_level намного логичнее кодировать ordinal_encoder, так как однозначно есть отношение порядка по уровню опыта\n",
    "\n",
    "То же с company_size"
   ],
   "id": "a4b852bf2012b442"
  },
  {
   "cell_type": "markdown",
   "id": "3578292c",
   "metadata": {
    "id": "3578292c"
   },
   "source": [
    "## Задание 3 (0.5 балла) XGboost"
   ]
  },
  {
   "cell_type": "markdown",
   "source": [
    "Начнем с библиотеки xgboost.\n",
    "\n",
    "Обучите модель `XGBRegressor` на тех же данных, что линейную модель, подобрав оптимальные гиперпараметры (`max_depth, learning_rate, n_estimators, gamma`, etc.) по валидационной выборке. Оцените качество итоговой модели (MAPE, RMSE), скорость обучения и скорость предсказания."
   ],
   "metadata": {
    "id": "3RJuwwoty9w1"
   },
   "id": "3RJuwwoty9w1"
  },
  {
   "metadata": {
    "ExecuteTime": {
     "end_time": "2025-06-10T19:54:55.970875Z",
     "start_time": "2025-06-10T19:54:55.965081Z"
    }
   },
   "cell_type": "code",
   "source": [
    "from xgboost.sklearn import XGBRegressor\n",
    "from itertools import product\n",
    "import time\n",
    "\n",
    "def build_res_df(params_dict: dict,\n",
    "                 true_y: np.array,\n",
    "                 predictions: np.array,\n",
    "                 train_time: float,\n",
    "                 prediction_time: float,\n",
    "                 df: pd.DataFrame = None):\n",
    "    if df is None:\n",
    "        index_columns = list(params_dict.keys())\n",
    "        df = pd.DataFrame(columns = index_columns + ['train_time', 'prediction_time', 'MAPE', 'RMSE'])\n",
    "        df.set_index(index_columns, inplace=True)\n",
    "\n",
    "    idx_values = list(params_dict.values())\n",
    "\n",
    "    df.loc[tuple(idx_values)] = [\n",
    "        train_time,\n",
    "        prediction_time,\n",
    "        mean_absolute_percentage_error(true_y, predictions),\n",
    "        mean_squared_error(true_y, predictions)\n",
    "    ]\n",
    "\n",
    "    return df\n",
    "\n",
    "def find_best_params_df(params_dict: dict, regressor) \\\n",
    "    -> (pd.DataFrame, float):\n",
    "    overall_start_time = time.time()\n",
    "    df = None\n",
    "    keys = list(params_dict.keys())\n",
    "    for values in product(*[params_dict[k] for k in keys]):\n",
    "        param_dict = dict(zip(keys, values))\n",
    "\n",
    "        reg = regressor(**param_dict, random_state=17)\n",
    "        start_train = time.time()\n",
    "        reg.fit(enc_train, train_y)\n",
    "        end_train = time.time()\n",
    "    \n",
    "        start_pred = time.time()\n",
    "        preds = reg.predict(enc_val)\n",
    "        end_pred = time.time()\n",
    "    \n",
    "        train_time = end_train - start_train\n",
    "        predict_time = end_pred - start_pred\n",
    "        df = build_res_df(param_dict,\n",
    "                          val_y,\n",
    "                          preds,\n",
    "                          train_time,\n",
    "                          predict_time,\n",
    "                          df)\n",
    "    df.sort_values(by=['MAPE', 'RMSE'], ascending=True, inplace=True)\n",
    "    overall_end_time = time.time()\n",
    "    overall_time = overall_end_time - overall_start_time\n",
    "    \n",
    "    return df, overall_time\n",
    "\n",
    "def evaluate_best_model(df: pd.DataFrame, regressor, overall_time: float):\n",
    "    best_params = list(df.index[0])\n",
    "    for i, x in enumerate(best_params):\n",
    "        if isinstance(x, np.int64):\n",
    "            best_params[i] = int(x)\n",
    "\n",
    "    reg = regressor(\n",
    "        **dict(zip(df.index.names, best_params)),\n",
    "        random_state=17\n",
    "    )\n",
    "\n",
    "    reg.fit(enc_train, train_y)\n",
    "    pred = reg.predict(enc_test)\n",
    "\n",
    "    print(f'Всего гиперпараметры жбонкались: {overall_time} с')\n",
    "    print(f'За это время я выпил: {overall_time / 60:.2f} смузи\\n')\n",
    "\n",
    "    print('MAPE: ', mean_absolute_percentage_error(test_y, pred))\n",
    "    print('RMSE: ', mean_squared_error(test_y, pred))\n",
    "\n",
    "    return reg"
   ],
   "id": "521f5f76b6cf168a",
   "outputs": [],
   "execution_count": 66
  },
  {
   "cell_type": "code",
   "source": [
    "params = {\n",
    "    'max_depth' : [1, 3, 5, 7, 10, 20],\n",
    "    'learning_rate' : [0.01, 0.05, 0.1, 0.5],\n",
    "    'n_estimators' : [1, 10, 50, 100, 250],\n",
    "    'gamma' : [0, 0.1, 0.5, 1]\n",
    "}\n",
    "\n",
    "df, overall_time = find_best_params_df(params, XGBRegressor)\n",
    "evaluate_best_model(df, XGBRegressor, overall_time)\n",
    "\n",
    "df.head(3)"
   ],
   "metadata": {
    "id": "hvQr6Sw3VpbW",
    "ExecuteTime": {
     "end_time": "2025-06-10T19:02:14.032612Z",
     "start_time": "2025-06-10T19:01:08.148995Z"
    }
   },
   "id": "hvQr6Sw3VpbW",
   "outputs": [
    {
     "name": "stdout",
     "output_type": "stream",
     "text": [
      "Всего гиперпараметры жбонкались: 65.8105239868164 с\n",
      "За это время я выпил: 1.10 смузи\n",
      "\n",
      "MAPE:  0.3163871169090271\n",
      "RMSE:  2345431808.0\n"
     ]
    },
    {
     "data": {
      "text/plain": [
       "                                            train_time  prediction_time  \\\n",
       "max_depth learning_rate n_estimators gamma                                \n",
       "20        0.5           10           0.0      0.059817         0.006346   \n",
       "                                     0.1      0.063213         0.005963   \n",
       "                                     0.5      0.066041         0.006442   \n",
       "\n",
       "                                                MAPE          RMSE  \n",
       "max_depth learning_rate n_estimators gamma                          \n",
       "20        0.5           10           0.0    0.327606  2.630021e+09  \n",
       "                                     0.1    0.327606  2.630021e+09  \n",
       "                                     0.5    0.327606  2.630021e+09  "
      ],
      "text/html": [
       "<div>\n",
       "<style scoped>\n",
       "    .dataframe tbody tr th:only-of-type {\n",
       "        vertical-align: middle;\n",
       "    }\n",
       "\n",
       "    .dataframe tbody tr th {\n",
       "        vertical-align: top;\n",
       "    }\n",
       "\n",
       "    .dataframe thead th {\n",
       "        text-align: right;\n",
       "    }\n",
       "</style>\n",
       "<table border=\"1\" class=\"dataframe\">\n",
       "  <thead>\n",
       "    <tr style=\"text-align: right;\">\n",
       "      <th></th>\n",
       "      <th></th>\n",
       "      <th></th>\n",
       "      <th></th>\n",
       "      <th>train_time</th>\n",
       "      <th>prediction_time</th>\n",
       "      <th>MAPE</th>\n",
       "      <th>RMSE</th>\n",
       "    </tr>\n",
       "    <tr>\n",
       "      <th>max_depth</th>\n",
       "      <th>learning_rate</th>\n",
       "      <th>n_estimators</th>\n",
       "      <th>gamma</th>\n",
       "      <th></th>\n",
       "      <th></th>\n",
       "      <th></th>\n",
       "      <th></th>\n",
       "    </tr>\n",
       "  </thead>\n",
       "  <tbody>\n",
       "    <tr>\n",
       "      <th rowspan=\"3\" valign=\"top\">20</th>\n",
       "      <th rowspan=\"3\" valign=\"top\">0.5</th>\n",
       "      <th rowspan=\"3\" valign=\"top\">10</th>\n",
       "      <th>0.0</th>\n",
       "      <td>0.059817</td>\n",
       "      <td>0.006346</td>\n",
       "      <td>0.327606</td>\n",
       "      <td>2.630021e+09</td>\n",
       "    </tr>\n",
       "    <tr>\n",
       "      <th>0.1</th>\n",
       "      <td>0.063213</td>\n",
       "      <td>0.005963</td>\n",
       "      <td>0.327606</td>\n",
       "      <td>2.630021e+09</td>\n",
       "    </tr>\n",
       "    <tr>\n",
       "      <th>0.5</th>\n",
       "      <td>0.066041</td>\n",
       "      <td>0.006442</td>\n",
       "      <td>0.327606</td>\n",
       "      <td>2.630021e+09</td>\n",
       "    </tr>\n",
       "  </tbody>\n",
       "</table>\n",
       "</div>"
      ]
     },
     "execution_count": 50,
     "metadata": {},
     "output_type": "execute_result"
    }
   ],
   "execution_count": 50
  },
  {
   "cell_type": "markdown",
   "source": [
    "## Задание 4 (1 балл) CatBoost"
   ],
   "metadata": {
    "id": "RmWp9wxu318i"
   },
   "id": "RmWp9wxu318i"
  },
  {
   "cell_type": "markdown",
   "source": [
    "Теперь библиотека CatBoost.\n",
    "\n",
    "Обучите модель `CatBoostRegressor`, подобрав оптимальные гиперпараметры (`depth, learning_rate, iterations`, etc.) по валидационной выборке. Оцените качество итоговой модели (MAPE, RMSE), скорость обучения и скорость предсказания."
   ],
   "metadata": {
    "id": "bDWqieZk3-rv"
   },
   "id": "bDWqieZk3-rv"
  },
  {
   "metadata": {
    "ExecuteTime": {
     "end_time": "2025-06-10T19:27:25.753789Z",
     "start_time": "2025-06-10T19:27:25.745080Z"
    }
   },
   "cell_type": "code",
   "source": "df",
   "id": "7af050e61ca61a42",
   "outputs": [
    {
     "data": {
      "text/plain": [
       "                                            train_time  prediction_time  \\\n",
       "max_depth learning_rate iterations verbose                                \n",
       "4         0.50          100        False      0.112059         0.003150   \n",
       "                        250        False      0.246977         0.003199   \n",
       "                        50         False      0.067788         0.003246   \n",
       "16        0.10          250        False    147.544856         0.004269   \n",
       "8         0.50          250        False      0.513144         0.003901   \n",
       "...                                                ...              ...   \n",
       "          0.01          1          False      0.026075         0.002913   \n",
       "4         0.01          1          False      0.023724         0.002426   \n",
       "2         0.01          1          False      0.024605         0.002531   \n",
       "16        0.01          1          False      0.062818         0.002736   \n",
       "1         0.01          1          False      0.023963         0.002443   \n",
       "\n",
       "                                                MAPE          RMSE  verbose  \n",
       "max_depth learning_rate iterations verbose                                   \n",
       "4         0.50          100        False    0.370123  2.569138e+09        0  \n",
       "                        250        False    0.374255  2.666947e+09        0  \n",
       "                        50         False    0.379318  2.555879e+09        0  \n",
       "16        0.10          250        False    0.380052  2.592533e+09        0  \n",
       "8         0.50          250        False    0.381458  2.643476e+09        0  \n",
       "...                                              ...           ...      ...  \n",
       "          0.01          1          False    0.872502  4.895498e+09        0  \n",
       "4         0.01          1          False    0.872607  4.896472e+09        0  \n",
       "2         0.01          1          False    0.872778  4.899497e+09        0  \n",
       "16        0.01          1          False    0.872794  4.896596e+09        0  \n",
       "1         0.01          1          False    0.873640  4.906208e+09        0  \n",
       "\n",
       "[100 rows x 5 columns]"
      ],
      "text/html": [
       "<div>\n",
       "<style scoped>\n",
       "    .dataframe tbody tr th:only-of-type {\n",
       "        vertical-align: middle;\n",
       "    }\n",
       "\n",
       "    .dataframe tbody tr th {\n",
       "        vertical-align: top;\n",
       "    }\n",
       "\n",
       "    .dataframe thead th {\n",
       "        text-align: right;\n",
       "    }\n",
       "</style>\n",
       "<table border=\"1\" class=\"dataframe\">\n",
       "  <thead>\n",
       "    <tr style=\"text-align: right;\">\n",
       "      <th></th>\n",
       "      <th></th>\n",
       "      <th></th>\n",
       "      <th></th>\n",
       "      <th>train_time</th>\n",
       "      <th>prediction_time</th>\n",
       "      <th>MAPE</th>\n",
       "      <th>RMSE</th>\n",
       "      <th>verbose</th>\n",
       "    </tr>\n",
       "    <tr>\n",
       "      <th>max_depth</th>\n",
       "      <th>learning_rate</th>\n",
       "      <th>iterations</th>\n",
       "      <th>verbose</th>\n",
       "      <th></th>\n",
       "      <th></th>\n",
       "      <th></th>\n",
       "      <th></th>\n",
       "      <th></th>\n",
       "    </tr>\n",
       "  </thead>\n",
       "  <tbody>\n",
       "    <tr>\n",
       "      <th rowspan=\"3\" valign=\"top\">4</th>\n",
       "      <th rowspan=\"3\" valign=\"top\">0.50</th>\n",
       "      <th>100</th>\n",
       "      <th>False</th>\n",
       "      <td>0.112059</td>\n",
       "      <td>0.003150</td>\n",
       "      <td>0.370123</td>\n",
       "      <td>2.569138e+09</td>\n",
       "      <td>0</td>\n",
       "    </tr>\n",
       "    <tr>\n",
       "      <th>250</th>\n",
       "      <th>False</th>\n",
       "      <td>0.246977</td>\n",
       "      <td>0.003199</td>\n",
       "      <td>0.374255</td>\n",
       "      <td>2.666947e+09</td>\n",
       "      <td>0</td>\n",
       "    </tr>\n",
       "    <tr>\n",
       "      <th>50</th>\n",
       "      <th>False</th>\n",
       "      <td>0.067788</td>\n",
       "      <td>0.003246</td>\n",
       "      <td>0.379318</td>\n",
       "      <td>2.555879e+09</td>\n",
       "      <td>0</td>\n",
       "    </tr>\n",
       "    <tr>\n",
       "      <th>16</th>\n",
       "      <th>0.10</th>\n",
       "      <th>250</th>\n",
       "      <th>False</th>\n",
       "      <td>147.544856</td>\n",
       "      <td>0.004269</td>\n",
       "      <td>0.380052</td>\n",
       "      <td>2.592533e+09</td>\n",
       "      <td>0</td>\n",
       "    </tr>\n",
       "    <tr>\n",
       "      <th rowspan=\"3\" valign=\"top\">8</th>\n",
       "      <th>0.50</th>\n",
       "      <th>250</th>\n",
       "      <th>False</th>\n",
       "      <td>0.513144</td>\n",
       "      <td>0.003901</td>\n",
       "      <td>0.381458</td>\n",
       "      <td>2.643476e+09</td>\n",
       "      <td>0</td>\n",
       "    </tr>\n",
       "    <tr>\n",
       "      <th>...</th>\n",
       "      <th>...</th>\n",
       "      <th>...</th>\n",
       "      <td>...</td>\n",
       "      <td>...</td>\n",
       "      <td>...</td>\n",
       "      <td>...</td>\n",
       "      <td>...</td>\n",
       "    </tr>\n",
       "    <tr>\n",
       "      <th>0.01</th>\n",
       "      <th>1</th>\n",
       "      <th>False</th>\n",
       "      <td>0.026075</td>\n",
       "      <td>0.002913</td>\n",
       "      <td>0.872502</td>\n",
       "      <td>4.895498e+09</td>\n",
       "      <td>0</td>\n",
       "    </tr>\n",
       "    <tr>\n",
       "      <th>4</th>\n",
       "      <th>0.01</th>\n",
       "      <th>1</th>\n",
       "      <th>False</th>\n",
       "      <td>0.023724</td>\n",
       "      <td>0.002426</td>\n",
       "      <td>0.872607</td>\n",
       "      <td>4.896472e+09</td>\n",
       "      <td>0</td>\n",
       "    </tr>\n",
       "    <tr>\n",
       "      <th>2</th>\n",
       "      <th>0.01</th>\n",
       "      <th>1</th>\n",
       "      <th>False</th>\n",
       "      <td>0.024605</td>\n",
       "      <td>0.002531</td>\n",
       "      <td>0.872778</td>\n",
       "      <td>4.899497e+09</td>\n",
       "      <td>0</td>\n",
       "    </tr>\n",
       "    <tr>\n",
       "      <th>16</th>\n",
       "      <th>0.01</th>\n",
       "      <th>1</th>\n",
       "      <th>False</th>\n",
       "      <td>0.062818</td>\n",
       "      <td>0.002736</td>\n",
       "      <td>0.872794</td>\n",
       "      <td>4.896596e+09</td>\n",
       "      <td>0</td>\n",
       "    </tr>\n",
       "    <tr>\n",
       "      <th>1</th>\n",
       "      <th>0.01</th>\n",
       "      <th>1</th>\n",
       "      <th>False</th>\n",
       "      <td>0.023963</td>\n",
       "      <td>0.002443</td>\n",
       "      <td>0.873640</td>\n",
       "      <td>4.906208e+09</td>\n",
       "      <td>0</td>\n",
       "    </tr>\n",
       "  </tbody>\n",
       "</table>\n",
       "<p>100 rows × 5 columns</p>\n",
       "</div>"
      ]
     },
     "execution_count": 59,
     "metadata": {},
     "output_type": "execute_result"
    }
   ],
   "execution_count": 59
  },
  {
   "cell_type": "code",
   "source": [
    "from catboost import CatBoostRegressor\n",
    "\n",
    "params = {\n",
    "    'max_depth' : [2, 4, 8, 16],\n",
    "    'learning_rate' : [0.1, 0.5],\n",
    "    'iterations' : [50, 100, 250],\n",
    "    'verbose': [0]\n",
    "}\n",
    "\n",
    "df, overall_time = find_best_params_df(params, CatBoostRegressor)\n",
    "evaluate_best_model(df, CatBoostRegressor, overall_time)"
   ],
   "metadata": {
    "id": "mbhrOOPJ4X9C",
    "ExecuteTime": {
     "end_time": "2025-06-10T19:48:25.796187Z",
     "start_time": "2025-06-10T19:40:09.167276Z"
    }
   },
   "id": "mbhrOOPJ4X9C",
   "outputs": [
    {
     "ename": "CatBoostError",
     "evalue": "Parameter verbose should have a type of (<class 'bool'>, <class 'int'>), got <class 'numpy.int64'>",
     "output_type": "error",
     "traceback": [
      "\u001B[1;31m---------------------------------------------------------------------------\u001B[0m",
      "\u001B[1;31mCatBoostError\u001B[0m                             Traceback (most recent call last)",
      "Cell \u001B[1;32mIn[60], line 11\u001B[0m\n\u001B[0;32m      3\u001B[0m params \u001B[38;5;241m=\u001B[39m {\n\u001B[0;32m      4\u001B[0m     \u001B[38;5;124m'\u001B[39m\u001B[38;5;124mmax_depth\u001B[39m\u001B[38;5;124m'\u001B[39m : [\u001B[38;5;241m2\u001B[39m, \u001B[38;5;241m4\u001B[39m, \u001B[38;5;241m8\u001B[39m, \u001B[38;5;241m16\u001B[39m],\n\u001B[0;32m      5\u001B[0m     \u001B[38;5;124m'\u001B[39m\u001B[38;5;124mlearning_rate\u001B[39m\u001B[38;5;124m'\u001B[39m : [\u001B[38;5;241m0.1\u001B[39m, \u001B[38;5;241m0.5\u001B[39m],\n\u001B[0;32m      6\u001B[0m     \u001B[38;5;124m'\u001B[39m\u001B[38;5;124miterations\u001B[39m\u001B[38;5;124m'\u001B[39m : [\u001B[38;5;241m50\u001B[39m, \u001B[38;5;241m100\u001B[39m, \u001B[38;5;241m250\u001B[39m],\n\u001B[0;32m      7\u001B[0m     \u001B[38;5;124m'\u001B[39m\u001B[38;5;124mverbose\u001B[39m\u001B[38;5;124m'\u001B[39m: [\u001B[38;5;241m0\u001B[39m]\n\u001B[0;32m      8\u001B[0m }\n\u001B[0;32m     10\u001B[0m df, overall_time \u001B[38;5;241m=\u001B[39m find_best_params_df(params, CatBoostRegressor)\n\u001B[1;32m---> 11\u001B[0m \u001B[43mevaluate_best_model\u001B[49m\u001B[43m(\u001B[49m\u001B[43mdf\u001B[49m\u001B[43m,\u001B[49m\u001B[43m \u001B[49m\u001B[43mCatBoostRegressor\u001B[49m\u001B[43m,\u001B[49m\u001B[43m \u001B[49m\u001B[43moverall_time\u001B[49m\u001B[43m)\u001B[49m\n",
      "Cell \u001B[1;32mIn[53], line 66\u001B[0m, in \u001B[0;36mevaluate_best_model\u001B[1;34m(df, regressor, overall_time)\u001B[0m\n\u001B[0;32m     59\u001B[0m best_params \u001B[38;5;241m=\u001B[39m df\u001B[38;5;241m.\u001B[39mindex[\u001B[38;5;241m0\u001B[39m]\n\u001B[0;32m     61\u001B[0m reg \u001B[38;5;241m=\u001B[39m regressor(\n\u001B[0;32m     62\u001B[0m     \u001B[38;5;241m*\u001B[39m\u001B[38;5;241m*\u001B[39m\u001B[38;5;28mdict\u001B[39m(\u001B[38;5;28mzip\u001B[39m(df\u001B[38;5;241m.\u001B[39mindex\u001B[38;5;241m.\u001B[39mnames, best_params)),\n\u001B[0;32m     63\u001B[0m     random_state\u001B[38;5;241m=\u001B[39m\u001B[38;5;241m17\u001B[39m\n\u001B[0;32m     64\u001B[0m )\n\u001B[1;32m---> 66\u001B[0m \u001B[43mreg\u001B[49m\u001B[38;5;241;43m.\u001B[39;49m\u001B[43mfit\u001B[49m\u001B[43m(\u001B[49m\u001B[43menc_train\u001B[49m\u001B[43m,\u001B[49m\u001B[43m \u001B[49m\u001B[43mtrain_y\u001B[49m\u001B[43m)\u001B[49m\n\u001B[0;32m     67\u001B[0m pred \u001B[38;5;241m=\u001B[39m reg\u001B[38;5;241m.\u001B[39mpredict(enc_test)\n\u001B[0;32m     69\u001B[0m \u001B[38;5;28mprint\u001B[39m(\u001B[38;5;124mf\u001B[39m\u001B[38;5;124m'\u001B[39m\u001B[38;5;124mВсего гиперпараметры жбонкались: \u001B[39m\u001B[38;5;132;01m{\u001B[39;00moverall_time\u001B[38;5;132;01m}\u001B[39;00m\u001B[38;5;124m с\u001B[39m\u001B[38;5;124m'\u001B[39m)\n",
      "File \u001B[1;32m~\\AppData\\Local\\Programs\\Python\\Python313\\Lib\\site-packages\\catboost\\core.py:5870\u001B[0m, in \u001B[0;36mCatBoostRegressor.fit\u001B[1;34m(self, X, y, cat_features, text_features, embedding_features, graph, sample_weight, baseline, use_best_model, eval_set, verbose, logging_level, plot, plot_file, column_description, verbose_eval, metric_period, silent, early_stopping_rounds, save_snapshot, snapshot_file, snapshot_interval, init_model, callbacks, log_cout, log_cerr)\u001B[0m\n\u001B[0;32m   5768\u001B[0m \u001B[38;5;250m\u001B[39m\u001B[38;5;124;03m\"\"\"\u001B[39;00m\n\u001B[0;32m   5769\u001B[0m \u001B[38;5;124;03mFit the CatBoost model.\u001B[39;00m\n\u001B[0;32m   5770\u001B[0m \n\u001B[1;32m   (...)\u001B[0m\n\u001B[0;32m   5866\u001B[0m \u001B[38;5;124;03mmodel : CatBoost\u001B[39;00m\n\u001B[0;32m   5867\u001B[0m \u001B[38;5;124;03m\"\"\"\u001B[39;00m\n\u001B[0;32m   5869\u001B[0m params \u001B[38;5;241m=\u001B[39m deepcopy(\u001B[38;5;28mself\u001B[39m\u001B[38;5;241m.\u001B[39m_init_params)\n\u001B[1;32m-> 5870\u001B[0m \u001B[43m_process_synonyms\u001B[49m\u001B[43m(\u001B[49m\u001B[43mparams\u001B[49m\u001B[43m)\u001B[49m\n\u001B[0;32m   5871\u001B[0m \u001B[38;5;28;01mif\u001B[39;00m \u001B[38;5;124m'\u001B[39m\u001B[38;5;124mloss_function\u001B[39m\u001B[38;5;124m'\u001B[39m \u001B[38;5;129;01min\u001B[39;00m params:\n\u001B[0;32m   5872\u001B[0m     CatBoostRegressor\u001B[38;5;241m.\u001B[39m_check_is_compatible_loss(params[\u001B[38;5;124m'\u001B[39m\u001B[38;5;124mloss_function\u001B[39m\u001B[38;5;124m'\u001B[39m])\n",
      "File \u001B[1;32m~\\AppData\\Local\\Programs\\Python\\Python313\\Lib\\site-packages\\catboost\\core.py:1645\u001B[0m, in \u001B[0;36m_process_synonyms\u001B[1;34m(params)\u001B[0m\n\u001B[0;32m   1642\u001B[0m     silent \u001B[38;5;241m=\u001B[39m params[\u001B[38;5;124m'\u001B[39m\u001B[38;5;124msilent\u001B[39m\u001B[38;5;124m'\u001B[39m]\n\u001B[0;32m   1643\u001B[0m     \u001B[38;5;28;01mdel\u001B[39;00m params[\u001B[38;5;124m'\u001B[39m\u001B[38;5;124msilent\u001B[39m\u001B[38;5;124m'\u001B[39m]\n\u001B[1;32m-> 1645\u001B[0m metric_period, verbose, logging_level \u001B[38;5;241m=\u001B[39m \u001B[43m_process_verbose\u001B[49m\u001B[43m(\u001B[49m\n\u001B[0;32m   1646\u001B[0m \u001B[43m    \u001B[49m\u001B[43mmetric_period\u001B[49m\u001B[43m,\u001B[49m\u001B[43m \u001B[49m\u001B[43mverbose\u001B[49m\u001B[43m,\u001B[49m\u001B[43m \u001B[49m\u001B[43mlogging_level\u001B[49m\u001B[43m,\u001B[49m\u001B[43m \u001B[49m\u001B[43mverbose_eval\u001B[49m\u001B[43m,\u001B[49m\u001B[43m \u001B[49m\u001B[43msilent\u001B[49m\u001B[43m)\u001B[49m\n\u001B[0;32m   1648\u001B[0m \u001B[38;5;28;01mif\u001B[39;00m metric_period \u001B[38;5;129;01mis\u001B[39;00m \u001B[38;5;129;01mnot\u001B[39;00m \u001B[38;5;28;01mNone\u001B[39;00m:\n\u001B[0;32m   1649\u001B[0m     params[\u001B[38;5;124m'\u001B[39m\u001B[38;5;124mmetric_period\u001B[39m\u001B[38;5;124m'\u001B[39m] \u001B[38;5;241m=\u001B[39m metric_period\n",
      "File \u001B[1;32m~\\AppData\\Local\\Programs\\Python\\Python313\\Lib\\site-packages\\catboost\\core.py:227\u001B[0m, in \u001B[0;36m_process_verbose\u001B[1;34m(metric_period, verbose, logging_level, verbose_eval, silent)\u001B[0m\n\u001B[0;32m    225\u001B[0m \u001B[38;5;28;01mdef\u001B[39;00m\u001B[38;5;250m \u001B[39m\u001B[38;5;21m_process_verbose\u001B[39m(metric_period\u001B[38;5;241m=\u001B[39m\u001B[38;5;28;01mNone\u001B[39;00m, verbose\u001B[38;5;241m=\u001B[39m\u001B[38;5;28;01mNone\u001B[39;00m, logging_level\u001B[38;5;241m=\u001B[39m\u001B[38;5;28;01mNone\u001B[39;00m, verbose_eval\u001B[38;5;241m=\u001B[39m\u001B[38;5;28;01mNone\u001B[39;00m, silent\u001B[38;5;241m=\u001B[39m\u001B[38;5;28;01mNone\u001B[39;00m):\n\u001B[0;32m    226\u001B[0m     _check_param_type(metric_period, \u001B[38;5;124m'\u001B[39m\u001B[38;5;124mmetric_period\u001B[39m\u001B[38;5;124m'\u001B[39m, (\u001B[38;5;28mint\u001B[39m,))\n\u001B[1;32m--> 227\u001B[0m     \u001B[43m_check_param_type\u001B[49m\u001B[43m(\u001B[49m\u001B[43mverbose\u001B[49m\u001B[43m,\u001B[49m\u001B[43m \u001B[49m\u001B[38;5;124;43m'\u001B[39;49m\u001B[38;5;124;43mverbose\u001B[39;49m\u001B[38;5;124;43m'\u001B[39;49m\u001B[43m,\u001B[49m\u001B[43m \u001B[49m\u001B[43m(\u001B[49m\u001B[38;5;28;43mbool\u001B[39;49m\u001B[43m,\u001B[49m\u001B[43m \u001B[49m\u001B[38;5;28;43mint\u001B[39;49m\u001B[43m)\u001B[49m\u001B[43m)\u001B[49m\n\u001B[0;32m    228\u001B[0m     _check_param_type(logging_level, \u001B[38;5;124m'\u001B[39m\u001B[38;5;124mlogging_level\u001B[39m\u001B[38;5;124m'\u001B[39m, (string_types,))\n\u001B[0;32m    229\u001B[0m     _check_param_type(verbose_eval, \u001B[38;5;124m'\u001B[39m\u001B[38;5;124mverbose_eval\u001B[39m\u001B[38;5;124m'\u001B[39m, (\u001B[38;5;28mbool\u001B[39m, \u001B[38;5;28mint\u001B[39m))\n",
      "File \u001B[1;32m~\\AppData\\Local\\Programs\\Python\\Python313\\Lib\\site-packages\\catboost\\core.py:222\u001B[0m, in \u001B[0;36m_check_param_type\u001B[1;34m(value, name, types, or_none)\u001B[0m\n\u001B[0;32m    220\u001B[0m \u001B[38;5;28;01mdef\u001B[39;00m\u001B[38;5;250m \u001B[39m\u001B[38;5;21m_check_param_type\u001B[39m(value, name, types, or_none\u001B[38;5;241m=\u001B[39m\u001B[38;5;28;01mTrue\u001B[39;00m):\n\u001B[0;32m    221\u001B[0m     \u001B[38;5;28;01mif\u001B[39;00m \u001B[38;5;129;01mnot\u001B[39;00m \u001B[38;5;28misinstance\u001B[39m(value, types \u001B[38;5;241m+\u001B[39m ((\u001B[38;5;28mtype\u001B[39m(\u001B[38;5;28;01mNone\u001B[39;00m),) \u001B[38;5;28;01mif\u001B[39;00m or_none \u001B[38;5;28;01melse\u001B[39;00m ())):\n\u001B[1;32m--> 222\u001B[0m         \u001B[38;5;28;01mraise\u001B[39;00m CatBoostError(\u001B[38;5;124m'\u001B[39m\u001B[38;5;124mParameter \u001B[39m\u001B[38;5;132;01m{}\u001B[39;00m\u001B[38;5;124m should have a type of \u001B[39m\u001B[38;5;132;01m{}\u001B[39;00m\u001B[38;5;124m, got \u001B[39m\u001B[38;5;132;01m{}\u001B[39;00m\u001B[38;5;124m'\u001B[39m\u001B[38;5;241m.\u001B[39mformat(name, types, \u001B[38;5;28mtype\u001B[39m(value)))\n",
      "\u001B[1;31mCatBoostError\u001B[0m: Parameter verbose should have a type of (<class 'bool'>, <class 'int'>), got <class 'numpy.int64'>"
     ]
    }
   ],
   "execution_count": 60
  },
  {
   "metadata": {
    "ExecuteTime": {
     "end_time": "2025-06-10T19:54:59.984005Z",
     "start_time": "2025-06-10T19:54:59.860737Z"
    }
   },
   "cell_type": "code",
   "source": "evaluate_best_model(df, CatBoostRegressor, overall_time)",
   "id": "8b9a915d6d7fb5bd",
   "outputs": [
    {
     "name": "stdout",
     "output_type": "stream",
     "text": [
      "Всего гиперпараметры жбонкались: 496.55958247184753 с\n",
      "За это время я выпил: 8.28 смузи\n",
      "\n",
      "MAPE:  0.33081574032324484\n",
      "RMSE:  2173296840.6260657\n"
     ]
    },
    {
     "data": {
      "text/plain": [
       "<catboost.core.CatBoostRegressor at 0x164a174f260>"
      ]
     },
     "execution_count": 67,
     "metadata": {},
     "output_type": "execute_result"
    }
   ],
   "execution_count": 67
  },
  {
   "metadata": {
    "ExecuteTime": {
     "end_time": "2025-06-10T19:19:45.468381Z",
     "start_time": "2025-06-10T19:19:45.460599Z"
    }
   },
   "cell_type": "code",
   "source": "df.head(5)",
   "id": "e63a727d770ad106",
   "outputs": [
    {
     "data": {
      "text/plain": [
       "                                            train_time  prediction_time  \\\n",
       "max_depth learning_rate iterations verbose                                \n",
       "4         0.5           100        False      0.112059         0.003150   \n",
       "                        250        False      0.246977         0.003199   \n",
       "                        50         False      0.067788         0.003246   \n",
       "16        0.1           250        False    147.544856         0.004269   \n",
       "8         0.5           250        False      0.513144         0.003901   \n",
       "\n",
       "                                                MAPE          RMSE  \n",
       "max_depth learning_rate iterations verbose                          \n",
       "4         0.5           100        False    0.370123  2.569138e+09  \n",
       "                        250        False    0.374255  2.666947e+09  \n",
       "                        50         False    0.379318  2.555879e+09  \n",
       "16        0.1           250        False    0.380052  2.592533e+09  \n",
       "8         0.5           250        False    0.381458  2.643476e+09  "
      ],
      "text/html": [
       "<div>\n",
       "<style scoped>\n",
       "    .dataframe tbody tr th:only-of-type {\n",
       "        vertical-align: middle;\n",
       "    }\n",
       "\n",
       "    .dataframe tbody tr th {\n",
       "        vertical-align: top;\n",
       "    }\n",
       "\n",
       "    .dataframe thead th {\n",
       "        text-align: right;\n",
       "    }\n",
       "</style>\n",
       "<table border=\"1\" class=\"dataframe\">\n",
       "  <thead>\n",
       "    <tr style=\"text-align: right;\">\n",
       "      <th></th>\n",
       "      <th></th>\n",
       "      <th></th>\n",
       "      <th></th>\n",
       "      <th>train_time</th>\n",
       "      <th>prediction_time</th>\n",
       "      <th>MAPE</th>\n",
       "      <th>RMSE</th>\n",
       "    </tr>\n",
       "    <tr>\n",
       "      <th>max_depth</th>\n",
       "      <th>learning_rate</th>\n",
       "      <th>iterations</th>\n",
       "      <th>verbose</th>\n",
       "      <th></th>\n",
       "      <th></th>\n",
       "      <th></th>\n",
       "      <th></th>\n",
       "    </tr>\n",
       "  </thead>\n",
       "  <tbody>\n",
       "    <tr>\n",
       "      <th rowspan=\"3\" valign=\"top\">4</th>\n",
       "      <th rowspan=\"3\" valign=\"top\">0.5</th>\n",
       "      <th>100</th>\n",
       "      <th>False</th>\n",
       "      <td>0.112059</td>\n",
       "      <td>0.003150</td>\n",
       "      <td>0.370123</td>\n",
       "      <td>2.569138e+09</td>\n",
       "    </tr>\n",
       "    <tr>\n",
       "      <th>250</th>\n",
       "      <th>False</th>\n",
       "      <td>0.246977</td>\n",
       "      <td>0.003199</td>\n",
       "      <td>0.374255</td>\n",
       "      <td>2.666947e+09</td>\n",
       "    </tr>\n",
       "    <tr>\n",
       "      <th>50</th>\n",
       "      <th>False</th>\n",
       "      <td>0.067788</td>\n",
       "      <td>0.003246</td>\n",
       "      <td>0.379318</td>\n",
       "      <td>2.555879e+09</td>\n",
       "    </tr>\n",
       "    <tr>\n",
       "      <th>16</th>\n",
       "      <th>0.1</th>\n",
       "      <th>250</th>\n",
       "      <th>False</th>\n",
       "      <td>147.544856</td>\n",
       "      <td>0.004269</td>\n",
       "      <td>0.380052</td>\n",
       "      <td>2.592533e+09</td>\n",
       "    </tr>\n",
       "    <tr>\n",
       "      <th>8</th>\n",
       "      <th>0.5</th>\n",
       "      <th>250</th>\n",
       "      <th>False</th>\n",
       "      <td>0.513144</td>\n",
       "      <td>0.003901</td>\n",
       "      <td>0.381458</td>\n",
       "      <td>2.643476e+09</td>\n",
       "    </tr>\n",
       "  </tbody>\n",
       "</table>\n",
       "</div>"
      ]
     },
     "execution_count": 55,
     "metadata": {},
     "output_type": "execute_result"
    }
   ],
   "execution_count": 55
  },
  {
   "cell_type": "markdown",
   "source": [
    "Для применения catboost моделей не обязательно сначала кодировать категориальные признаки, модель может кодировать их сама. Обучите catboost с подбором оптимальных гиперпараметров снова, используя pool для передачи данных в модель с указанием какие признаки категориальные, а какие нет с помощью параметра cat_features. Оцените качество и время. Стало ли лучше?"
   ],
   "metadata": {
    "id": "ruUNeGOk4lho"
   },
   "id": "ruUNeGOk4lho"
  },
  {
   "cell_type": "code",
   "source": [
    "from catboost import Pool\n",
    "\n",
    "# -- YOUR CODE HERE --"
   ],
   "metadata": {
    "id": "5vQr1f9P6cQ5"
   },
   "id": "5vQr1f9P6cQ5",
   "execution_count": null,
   "outputs": []
  },
  {
   "cell_type": "markdown",
   "source": [
    "**Ответ:** # -- YOUR ANSWER HERE --"
   ],
   "metadata": {
    "id": "eA0djixU7L8c"
   },
   "id": "eA0djixU7L8c"
  },
  {
   "cell_type": "markdown",
   "id": "a881ad9d",
   "metadata": {
    "id": "a881ad9d"
   },
   "source": [
    "## Задание 5 (0.5 балла) LightGBM"
   ]
  },
  {
   "cell_type": "markdown",
   "id": "a35f87a6",
   "metadata": {
    "id": "a35f87a6"
   },
   "source": [
    "И наконец библиотека LightGBM - используйте `LGBMRegressor`, снова подберите гиперпараметры, оцените качество и скорость.\n"
   ]
  },
  {
   "cell_type": "code",
   "source": [
    "from lightgbm import LGBMRegressor\n",
    "\n",
    "\n",
    "params = {\n",
    "    'max_depth' : # -- YOUR CODE HERE -- ,\n",
    "    'learning_rate' : # -- YOUR CODE HERE -- ,\n",
    "    'n_estimators' : # -- YOUR CODE HERE -- ,\n",
    "    # -- YOUR CODE HERE --\n",
    "}\n",
    "\n",
    "# -- YOUR CODE HERE --"
   ],
   "metadata": {
    "id": "pMxY8Owp78Ow"
   },
   "id": "pMxY8Owp78Ow",
   "execution_count": null,
   "outputs": []
  },
  {
   "cell_type": "code",
   "source": [
    "# -- YOUR CODE HERE --\n",
    "\n",
    "print('MAPE: ', # -- YOUR CODE HERE -- )\n",
    "print('RMSE: ', # -- YOUR CODE HERE -- )"
   ],
   "metadata": {
    "id": "M2-WvfIrV556"
   },
   "id": "M2-WvfIrV556",
   "execution_count": null,
   "outputs": []
  },
  {
   "cell_type": "markdown",
   "id": "7c56d873",
   "metadata": {
    "id": "7c56d873"
   },
   "source": [
    "## Задание 6 (2 балла) Сравнение и выводы"
   ]
  },
  {
   "cell_type": "markdown",
   "id": "3a2c1148",
   "metadata": {
    "id": "3a2c1148"
   },
   "source": [
    "Сравните модели бустинга и сделайте про них выводы, какая из моделей показала лучший/худший результат по качеству, скорости обучения и скорости предсказания? Как отличаются гиперпараметры для разных моделей?"
   ]
  },
  {
   "cell_type": "markdown",
   "source": [
    "**Ответ:** # -- YOUR ANSWER HERE --"
   ],
   "metadata": {
    "id": "gzelUdAl-V9u"
   },
   "id": "gzelUdAl-V9u"
  },
  {
   "cell_type": "markdown",
   "source": [
    "# Часть 2 Кластеризация (5 баллов)"
   ],
   "metadata": {
    "id": "fokm4x1WmxQr"
   },
   "id": "fokm4x1WmxQr"
  },
  {
   "cell_type": "markdown",
   "source": [
    "Будем работать с данными о том, каких исполнителей слушают пользователи музыкального сервиса.\n",
    "\n",
    "Каждая строка таблицы - информация об одном пользователе. Каждый столбец - это исполнитель (The Beatles, Radiohead, etc.)\n",
    "\n",
    "Для каждой пары (пользователь, исполнитель) в таблице стоит число - доля прослушивания этого исполнителя этим пользователем.\n"
   ],
   "metadata": {
    "id": "UZBpHMoNm1Sa"
   },
   "id": "UZBpHMoNm1Sa"
  },
  {
   "cell_type": "code",
   "source": [
    "import pandas as pd\n",
    "ratings = pd.read_excel(\"https://github.com/evgpat/edu_stepik_rec_sys/blob/main/datasets/sample_matrix.xlsx?raw=true\", engine='openpyxl')\n",
    "ratings.head()"
   ],
   "metadata": {
    "colab": {
     "base_uri": "https://localhost:8080/",
     "height": 290
    },
    "id": "nGa-xYikoogL",
    "outputId": "78cf46ec-1aae-4cb9-a457-5a7a47a16248"
   },
   "id": "nGa-xYikoogL",
   "execution_count": null,
   "outputs": [
    {
     "output_type": "execute_result",
     "data": {
      "text/plain": [
       "   user  the beatles  radiohead  deathcab for cutie  coldplay  modest mouse  \\\n",
       "0     0          NaN   0.020417                 NaN       NaN           NaN   \n",
       "1     1          NaN   0.184962            0.024561       NaN           NaN   \n",
       "2     2          NaN        NaN            0.028635       NaN           NaN   \n",
       "3     3          NaN        NaN                 NaN       NaN           NaN   \n",
       "4     4     0.043529   0.086281            0.034590  0.016712      0.015935   \n",
       "\n",
       "   sufjan stevens  dylan. bob  red hot clili peppers  pink fluid  ...  \\\n",
       "0             NaN         NaN               0.030496         NaN  ...   \n",
       "1        0.136341         NaN                    NaN         NaN  ...   \n",
       "2             NaN    0.024559                    NaN         NaN  ...   \n",
       "3             NaN         NaN                    NaN         NaN  ...   \n",
       "4             NaN         NaN                    NaN         NaN  ...   \n",
       "\n",
       "   municipal waste  townes van zandt  curtis mayfield  jewel  lamb  \\\n",
       "0              NaN               NaN              NaN    NaN   NaN   \n",
       "1              NaN               NaN              NaN    NaN   NaN   \n",
       "2              NaN               NaN              NaN    NaN   NaN   \n",
       "3              NaN               NaN              NaN    NaN   NaN   \n",
       "4              NaN               NaN              NaN    NaN   NaN   \n",
       "\n",
       "   michal w. smith  群星  agalloch  meshuggah  yellowcard  \n",
       "0              NaN NaN       NaN        NaN         NaN  \n",
       "1              NaN NaN       NaN        NaN         NaN  \n",
       "2              NaN NaN       NaN        NaN         NaN  \n",
       "3              NaN NaN       NaN        NaN         NaN  \n",
       "4              NaN NaN       NaN        NaN         NaN  \n",
       "\n",
       "[5 rows x 1001 columns]"
      ],
      "text/html": [
       "\n",
       "  <div id=\"df-a00c7b2f-8f24-4287-9a73-64f6367eee44\" class=\"colab-df-container\">\n",
       "    <div>\n",
       "<style scoped>\n",
       "    .dataframe tbody tr th:only-of-type {\n",
       "        vertical-align: middle;\n",
       "    }\n",
       "\n",
       "    .dataframe tbody tr th {\n",
       "        vertical-align: top;\n",
       "    }\n",
       "\n",
       "    .dataframe thead th {\n",
       "        text-align: right;\n",
       "    }\n",
       "</style>\n",
       "<table border=\"1\" class=\"dataframe\">\n",
       "  <thead>\n",
       "    <tr style=\"text-align: right;\">\n",
       "      <th></th>\n",
       "      <th>user</th>\n",
       "      <th>the beatles</th>\n",
       "      <th>radiohead</th>\n",
       "      <th>deathcab for cutie</th>\n",
       "      <th>coldplay</th>\n",
       "      <th>modest mouse</th>\n",
       "      <th>sufjan stevens</th>\n",
       "      <th>dylan. bob</th>\n",
       "      <th>red hot clili peppers</th>\n",
       "      <th>pink fluid</th>\n",
       "      <th>...</th>\n",
       "      <th>municipal waste</th>\n",
       "      <th>townes van zandt</th>\n",
       "      <th>curtis mayfield</th>\n",
       "      <th>jewel</th>\n",
       "      <th>lamb</th>\n",
       "      <th>michal w. smith</th>\n",
       "      <th>群星</th>\n",
       "      <th>agalloch</th>\n",
       "      <th>meshuggah</th>\n",
       "      <th>yellowcard</th>\n",
       "    </tr>\n",
       "  </thead>\n",
       "  <tbody>\n",
       "    <tr>\n",
       "      <th>0</th>\n",
       "      <td>0</td>\n",
       "      <td>NaN</td>\n",
       "      <td>0.020417</td>\n",
       "      <td>NaN</td>\n",
       "      <td>NaN</td>\n",
       "      <td>NaN</td>\n",
       "      <td>NaN</td>\n",
       "      <td>NaN</td>\n",
       "      <td>0.030496</td>\n",
       "      <td>NaN</td>\n",
       "      <td>...</td>\n",
       "      <td>NaN</td>\n",
       "      <td>NaN</td>\n",
       "      <td>NaN</td>\n",
       "      <td>NaN</td>\n",
       "      <td>NaN</td>\n",
       "      <td>NaN</td>\n",
       "      <td>NaN</td>\n",
       "      <td>NaN</td>\n",
       "      <td>NaN</td>\n",
       "      <td>NaN</td>\n",
       "    </tr>\n",
       "    <tr>\n",
       "      <th>1</th>\n",
       "      <td>1</td>\n",
       "      <td>NaN</td>\n",
       "      <td>0.184962</td>\n",
       "      <td>0.024561</td>\n",
       "      <td>NaN</td>\n",
       "      <td>NaN</td>\n",
       "      <td>0.136341</td>\n",
       "      <td>NaN</td>\n",
       "      <td>NaN</td>\n",
       "      <td>NaN</td>\n",
       "      <td>...</td>\n",
       "      <td>NaN</td>\n",
       "      <td>NaN</td>\n",
       "      <td>NaN</td>\n",
       "      <td>NaN</td>\n",
       "      <td>NaN</td>\n",
       "      <td>NaN</td>\n",
       "      <td>NaN</td>\n",
       "      <td>NaN</td>\n",
       "      <td>NaN</td>\n",
       "      <td>NaN</td>\n",
       "    </tr>\n",
       "    <tr>\n",
       "      <th>2</th>\n",
       "      <td>2</td>\n",
       "      <td>NaN</td>\n",
       "      <td>NaN</td>\n",
       "      <td>0.028635</td>\n",
       "      <td>NaN</td>\n",
       "      <td>NaN</td>\n",
       "      <td>NaN</td>\n",
       "      <td>0.024559</td>\n",
       "      <td>NaN</td>\n",
       "      <td>NaN</td>\n",
       "      <td>...</td>\n",
       "      <td>NaN</td>\n",
       "      <td>NaN</td>\n",
       "      <td>NaN</td>\n",
       "      <td>NaN</td>\n",
       "      <td>NaN</td>\n",
       "      <td>NaN</td>\n",
       "      <td>NaN</td>\n",
       "      <td>NaN</td>\n",
       "      <td>NaN</td>\n",
       "      <td>NaN</td>\n",
       "    </tr>\n",
       "    <tr>\n",
       "      <th>3</th>\n",
       "      <td>3</td>\n",
       "      <td>NaN</td>\n",
       "      <td>NaN</td>\n",
       "      <td>NaN</td>\n",
       "      <td>NaN</td>\n",
       "      <td>NaN</td>\n",
       "      <td>NaN</td>\n",
       "      <td>NaN</td>\n",
       "      <td>NaN</td>\n",
       "      <td>NaN</td>\n",
       "      <td>...</td>\n",
       "      <td>NaN</td>\n",
       "      <td>NaN</td>\n",
       "      <td>NaN</td>\n",
       "      <td>NaN</td>\n",
       "      <td>NaN</td>\n",
       "      <td>NaN</td>\n",
       "      <td>NaN</td>\n",
       "      <td>NaN</td>\n",
       "      <td>NaN</td>\n",
       "      <td>NaN</td>\n",
       "    </tr>\n",
       "    <tr>\n",
       "      <th>4</th>\n",
       "      <td>4</td>\n",
       "      <td>0.043529</td>\n",
       "      <td>0.086281</td>\n",
       "      <td>0.034590</td>\n",
       "      <td>0.016712</td>\n",
       "      <td>0.015935</td>\n",
       "      <td>NaN</td>\n",
       "      <td>NaN</td>\n",
       "      <td>NaN</td>\n",
       "      <td>NaN</td>\n",
       "      <td>...</td>\n",
       "      <td>NaN</td>\n",
       "      <td>NaN</td>\n",
       "      <td>NaN</td>\n",
       "      <td>NaN</td>\n",
       "      <td>NaN</td>\n",
       "      <td>NaN</td>\n",
       "      <td>NaN</td>\n",
       "      <td>NaN</td>\n",
       "      <td>NaN</td>\n",
       "      <td>NaN</td>\n",
       "    </tr>\n",
       "  </tbody>\n",
       "</table>\n",
       "<p>5 rows × 1001 columns</p>\n",
       "</div>\n",
       "    <div class=\"colab-df-buttons\">\n",
       "\n",
       "  <div class=\"colab-df-container\">\n",
       "    <button class=\"colab-df-convert\" onclick=\"convertToInteractive('df-a00c7b2f-8f24-4287-9a73-64f6367eee44')\"\n",
       "            title=\"Convert this dataframe to an interactive table.\"\n",
       "            style=\"display:none;\">\n",
       "\n",
       "  <svg xmlns=\"http://www.w3.org/2000/svg\" height=\"24px\" viewBox=\"0 -960 960 960\">\n",
       "    <path d=\"M120-120v-720h720v720H120Zm60-500h600v-160H180v160Zm220 220h160v-160H400v160Zm0 220h160v-160H400v160ZM180-400h160v-160H180v160Zm440 0h160v-160H620v160ZM180-180h160v-160H180v160Zm440 0h160v-160H620v160Z\"/>\n",
       "  </svg>\n",
       "    </button>\n",
       "\n",
       "  <style>\n",
       "    .colab-df-container {\n",
       "      display:flex;\n",
       "      gap: 12px;\n",
       "    }\n",
       "\n",
       "    .colab-df-convert {\n",
       "      background-color: #E8F0FE;\n",
       "      border: none;\n",
       "      border-radius: 50%;\n",
       "      cursor: pointer;\n",
       "      display: none;\n",
       "      fill: #1967D2;\n",
       "      height: 32px;\n",
       "      padding: 0 0 0 0;\n",
       "      width: 32px;\n",
       "    }\n",
       "\n",
       "    .colab-df-convert:hover {\n",
       "      background-color: #E2EBFA;\n",
       "      box-shadow: 0px 1px 2px rgba(60, 64, 67, 0.3), 0px 1px 3px 1px rgba(60, 64, 67, 0.15);\n",
       "      fill: #174EA6;\n",
       "    }\n",
       "\n",
       "    .colab-df-buttons div {\n",
       "      margin-bottom: 4px;\n",
       "    }\n",
       "\n",
       "    [theme=dark] .colab-df-convert {\n",
       "      background-color: #3B4455;\n",
       "      fill: #D2E3FC;\n",
       "    }\n",
       "\n",
       "    [theme=dark] .colab-df-convert:hover {\n",
       "      background-color: #434B5C;\n",
       "      box-shadow: 0px 1px 3px 1px rgba(0, 0, 0, 0.15);\n",
       "      filter: drop-shadow(0px 1px 2px rgba(0, 0, 0, 0.3));\n",
       "      fill: #FFFFFF;\n",
       "    }\n",
       "  </style>\n",
       "\n",
       "    <script>\n",
       "      const buttonEl =\n",
       "        document.querySelector('#df-a00c7b2f-8f24-4287-9a73-64f6367eee44 button.colab-df-convert');\n",
       "      buttonEl.style.display =\n",
       "        google.colab.kernel.accessAllowed ? 'block' : 'none';\n",
       "\n",
       "      async function convertToInteractive(key) {\n",
       "        const element = document.querySelector('#df-a00c7b2f-8f24-4287-9a73-64f6367eee44');\n",
       "        const dataTable =\n",
       "          await google.colab.kernel.invokeFunction('convertToInteractive',\n",
       "                                                    [key], {});\n",
       "        if (!dataTable) return;\n",
       "\n",
       "        const docLinkHtml = 'Like what you see? Visit the ' +\n",
       "          '<a target=\"_blank\" href=https://colab.research.google.com/notebooks/data_table.ipynb>data table notebook</a>'\n",
       "          + ' to learn more about interactive tables.';\n",
       "        element.innerHTML = '';\n",
       "        dataTable['output_type'] = 'display_data';\n",
       "        await google.colab.output.renderOutput(dataTable, element);\n",
       "        const docLink = document.createElement('div');\n",
       "        docLink.innerHTML = docLinkHtml;\n",
       "        element.appendChild(docLink);\n",
       "      }\n",
       "    </script>\n",
       "  </div>\n",
       "\n",
       "\n",
       "<div id=\"df-fe53a2e0-002e-44a4-95a6-9ddd6f28a261\">\n",
       "  <button class=\"colab-df-quickchart\" onclick=\"quickchart('df-fe53a2e0-002e-44a4-95a6-9ddd6f28a261')\"\n",
       "            title=\"Suggest charts\"\n",
       "            style=\"display:none;\">\n",
       "\n",
       "<svg xmlns=\"http://www.w3.org/2000/svg\" height=\"24px\"viewBox=\"0 0 24 24\"\n",
       "     width=\"24px\">\n",
       "    <g>\n",
       "        <path d=\"M19 3H5c-1.1 0-2 .9-2 2v14c0 1.1.9 2 2 2h14c1.1 0 2-.9 2-2V5c0-1.1-.9-2-2-2zM9 17H7v-7h2v7zm4 0h-2V7h2v10zm4 0h-2v-4h2v4z\"/>\n",
       "    </g>\n",
       "</svg>\n",
       "  </button>\n",
       "\n",
       "<style>\n",
       "  .colab-df-quickchart {\n",
       "      --bg-color: #E8F0FE;\n",
       "      --fill-color: #1967D2;\n",
       "      --hover-bg-color: #E2EBFA;\n",
       "      --hover-fill-color: #174EA6;\n",
       "      --disabled-fill-color: #AAA;\n",
       "      --disabled-bg-color: #DDD;\n",
       "  }\n",
       "\n",
       "  [theme=dark] .colab-df-quickchart {\n",
       "      --bg-color: #3B4455;\n",
       "      --fill-color: #D2E3FC;\n",
       "      --hover-bg-color: #434B5C;\n",
       "      --hover-fill-color: #FFFFFF;\n",
       "      --disabled-bg-color: #3B4455;\n",
       "      --disabled-fill-color: #666;\n",
       "  }\n",
       "\n",
       "  .colab-df-quickchart {\n",
       "    background-color: var(--bg-color);\n",
       "    border: none;\n",
       "    border-radius: 50%;\n",
       "    cursor: pointer;\n",
       "    display: none;\n",
       "    fill: var(--fill-color);\n",
       "    height: 32px;\n",
       "    padding: 0;\n",
       "    width: 32px;\n",
       "  }\n",
       "\n",
       "  .colab-df-quickchart:hover {\n",
       "    background-color: var(--hover-bg-color);\n",
       "    box-shadow: 0 1px 2px rgba(60, 64, 67, 0.3), 0 1px 3px 1px rgba(60, 64, 67, 0.15);\n",
       "    fill: var(--button-hover-fill-color);\n",
       "  }\n",
       "\n",
       "  .colab-df-quickchart-complete:disabled,\n",
       "  .colab-df-quickchart-complete:disabled:hover {\n",
       "    background-color: var(--disabled-bg-color);\n",
       "    fill: var(--disabled-fill-color);\n",
       "    box-shadow: none;\n",
       "  }\n",
       "\n",
       "  .colab-df-spinner {\n",
       "    border: 2px solid var(--fill-color);\n",
       "    border-color: transparent;\n",
       "    border-bottom-color: var(--fill-color);\n",
       "    animation:\n",
       "      spin 1s steps(1) infinite;\n",
       "  }\n",
       "\n",
       "  @keyframes spin {\n",
       "    0% {\n",
       "      border-color: transparent;\n",
       "      border-bottom-color: var(--fill-color);\n",
       "      border-left-color: var(--fill-color);\n",
       "    }\n",
       "    20% {\n",
       "      border-color: transparent;\n",
       "      border-left-color: var(--fill-color);\n",
       "      border-top-color: var(--fill-color);\n",
       "    }\n",
       "    30% {\n",
       "      border-color: transparent;\n",
       "      border-left-color: var(--fill-color);\n",
       "      border-top-color: var(--fill-color);\n",
       "      border-right-color: var(--fill-color);\n",
       "    }\n",
       "    40% {\n",
       "      border-color: transparent;\n",
       "      border-right-color: var(--fill-color);\n",
       "      border-top-color: var(--fill-color);\n",
       "    }\n",
       "    60% {\n",
       "      border-color: transparent;\n",
       "      border-right-color: var(--fill-color);\n",
       "    }\n",
       "    80% {\n",
       "      border-color: transparent;\n",
       "      border-right-color: var(--fill-color);\n",
       "      border-bottom-color: var(--fill-color);\n",
       "    }\n",
       "    90% {\n",
       "      border-color: transparent;\n",
       "      border-bottom-color: var(--fill-color);\n",
       "    }\n",
       "  }\n",
       "</style>\n",
       "\n",
       "  <script>\n",
       "    async function quickchart(key) {\n",
       "      const quickchartButtonEl =\n",
       "        document.querySelector('#' + key + ' button');\n",
       "      quickchartButtonEl.disabled = true;  // To prevent multiple clicks.\n",
       "      quickchartButtonEl.classList.add('colab-df-spinner');\n",
       "      try {\n",
       "        const charts = await google.colab.kernel.invokeFunction(\n",
       "            'suggestCharts', [key], {});\n",
       "      } catch (error) {\n",
       "        console.error('Error during call to suggestCharts:', error);\n",
       "      }\n",
       "      quickchartButtonEl.classList.remove('colab-df-spinner');\n",
       "      quickchartButtonEl.classList.add('colab-df-quickchart-complete');\n",
       "    }\n",
       "    (() => {\n",
       "      let quickchartButtonEl =\n",
       "        document.querySelector('#df-fe53a2e0-002e-44a4-95a6-9ddd6f28a261 button');\n",
       "      quickchartButtonEl.style.display =\n",
       "        google.colab.kernel.accessAllowed ? 'block' : 'none';\n",
       "    })();\n",
       "  </script>\n",
       "</div>\n",
       "    </div>\n",
       "  </div>\n"
      ],
      "application/vnd.google.colaboratory.intrinsic+json": {
       "type": "dataframe",
       "variable_name": "ratings"
      }
     },
     "metadata": {},
     "execution_count": 64
    }
   ]
  },
  {
   "cell_type": "markdown",
   "source": [
    "Будем строить кластеризацию исполнителей: если двух исполнителей слушало много людей примерно одинаковую долю своего времени (то есть векторы близки в пространстве), то, возможно исполнители похожи. Эта информация может быть полезна при построении рекомендательных систем."
   ],
   "metadata": {
    "id": "sGeCPjTAoxWs"
   },
   "id": "sGeCPjTAoxWs"
  },
  {
   "cell_type": "markdown",
   "source": [
    "## Задание 1 (0.5 балла) Подготовка"
   ],
   "metadata": {
    "id": "R37mE-R2_3Wj"
   },
   "id": "R37mE-R2_3Wj"
  },
  {
   "cell_type": "markdown",
   "source": [
    "Транспонируем матрицу ratings, чтобы по строкам стояли исполнители."
   ],
   "metadata": {
    "id": "orn7K6q8plA5"
   },
   "id": "orn7K6q8plA5"
  },
  {
   "cell_type": "code",
   "source": [
    "# -- YOUR CODE HERE --"
   ],
   "metadata": {
    "id": "KU6ljPlCpiwH"
   },
   "id": "KU6ljPlCpiwH",
   "execution_count": null,
   "outputs": []
  },
  {
   "cell_type": "markdown",
   "source": [
    "Выкиньте строку под названием `user`."
   ],
   "metadata": {
    "id": "WEKrlEhMpkhF"
   },
   "id": "WEKrlEhMpkhF"
  },
  {
   "cell_type": "code",
   "source": [
    "# -- YOUR CODE HERE --"
   ],
   "metadata": {
    "id": "yAaV1q9TpuMh"
   },
   "id": "yAaV1q9TpuMh",
   "execution_count": null,
   "outputs": []
  },
  {
   "cell_type": "markdown",
   "source": [
    "В таблице много пропусков, так как пользователи слушают не всех-всех исполнителей, чья музыка представлена в сервисе, а некоторое подмножество (обычно около 30 исполнителей)\n",
    "\n",
    "\n",
    "Доля исполнителя в музыке, прослушанной  пользователем, равна 0, если пользователь никогда не слушал музыку данного музыканта, поэтому заполните пропуски нулями.\n",
    "\n"
   ],
   "metadata": {
    "id": "Z823IqqPpv_s"
   },
   "id": "Z823IqqPpv_s"
  },
  {
   "cell_type": "code",
   "source": [
    "# -- YOUR CODE HERE --\n",
    "ratings.sample()"
   ],
   "metadata": {
    "colab": {
     "base_uri": "https://localhost:8080/",
     "height": 110
    },
    "id": "XRdHzXJUsOeS",
    "outputId": "499ea6da-ce25-4a04-8827-79306a3c39b2"
   },
   "id": "XRdHzXJUsOeS",
   "execution_count": null,
   "outputs": [
    {
     "output_type": "execute_result",
     "data": {
      "text/plain": [
       "            0     1     2     3     4     5     6     7     8     9     ...  \\\n",
       "ben harper   0.0   0.0   0.0   0.0   0.0   0.0   0.0   0.0   0.0   0.0  ...   \n",
       "\n",
       "            4990  4991  4992  4993  4994  4995  4996  4997  4998  4999  \n",
       "ben harper   0.0   0.0   0.0   0.0   0.0   0.0   0.0   0.0   0.0   0.0  \n",
       "\n",
       "[1 rows x 5000 columns]"
      ],
      "text/html": [
       "\n",
       "  <div id=\"df-0d83694c-1e33-4b70-a123-7723884bec3e\" class=\"colab-df-container\">\n",
       "    <div>\n",
       "<style scoped>\n",
       "    .dataframe tbody tr th:only-of-type {\n",
       "        vertical-align: middle;\n",
       "    }\n",
       "\n",
       "    .dataframe tbody tr th {\n",
       "        vertical-align: top;\n",
       "    }\n",
       "\n",
       "    .dataframe thead th {\n",
       "        text-align: right;\n",
       "    }\n",
       "</style>\n",
       "<table border=\"1\" class=\"dataframe\">\n",
       "  <thead>\n",
       "    <tr style=\"text-align: right;\">\n",
       "      <th></th>\n",
       "      <th>0</th>\n",
       "      <th>1</th>\n",
       "      <th>2</th>\n",
       "      <th>3</th>\n",
       "      <th>4</th>\n",
       "      <th>5</th>\n",
       "      <th>6</th>\n",
       "      <th>7</th>\n",
       "      <th>8</th>\n",
       "      <th>9</th>\n",
       "      <th>...</th>\n",
       "      <th>4990</th>\n",
       "      <th>4991</th>\n",
       "      <th>4992</th>\n",
       "      <th>4993</th>\n",
       "      <th>4994</th>\n",
       "      <th>4995</th>\n",
       "      <th>4996</th>\n",
       "      <th>4997</th>\n",
       "      <th>4998</th>\n",
       "      <th>4999</th>\n",
       "    </tr>\n",
       "  </thead>\n",
       "  <tbody>\n",
       "    <tr>\n",
       "      <th>ben harper</th>\n",
       "      <td>0.0</td>\n",
       "      <td>0.0</td>\n",
       "      <td>0.0</td>\n",
       "      <td>0.0</td>\n",
       "      <td>0.0</td>\n",
       "      <td>0.0</td>\n",
       "      <td>0.0</td>\n",
       "      <td>0.0</td>\n",
       "      <td>0.0</td>\n",
       "      <td>0.0</td>\n",
       "      <td>...</td>\n",
       "      <td>0.0</td>\n",
       "      <td>0.0</td>\n",
       "      <td>0.0</td>\n",
       "      <td>0.0</td>\n",
       "      <td>0.0</td>\n",
       "      <td>0.0</td>\n",
       "      <td>0.0</td>\n",
       "      <td>0.0</td>\n",
       "      <td>0.0</td>\n",
       "      <td>0.0</td>\n",
       "    </tr>\n",
       "  </tbody>\n",
       "</table>\n",
       "<p>1 rows × 5000 columns</p>\n",
       "</div>\n",
       "    <div class=\"colab-df-buttons\">\n",
       "\n",
       "  <div class=\"colab-df-container\">\n",
       "    <button class=\"colab-df-convert\" onclick=\"convertToInteractive('df-0d83694c-1e33-4b70-a123-7723884bec3e')\"\n",
       "            title=\"Convert this dataframe to an interactive table.\"\n",
       "            style=\"display:none;\">\n",
       "\n",
       "  <svg xmlns=\"http://www.w3.org/2000/svg\" height=\"24px\" viewBox=\"0 -960 960 960\">\n",
       "    <path d=\"M120-120v-720h720v720H120Zm60-500h600v-160H180v160Zm220 220h160v-160H400v160Zm0 220h160v-160H400v160ZM180-400h160v-160H180v160Zm440 0h160v-160H620v160ZM180-180h160v-160H180v160Zm440 0h160v-160H620v160Z\"/>\n",
       "  </svg>\n",
       "    </button>\n",
       "\n",
       "  <style>\n",
       "    .colab-df-container {\n",
       "      display:flex;\n",
       "      gap: 12px;\n",
       "    }\n",
       "\n",
       "    .colab-df-convert {\n",
       "      background-color: #E8F0FE;\n",
       "      border: none;\n",
       "      border-radius: 50%;\n",
       "      cursor: pointer;\n",
       "      display: none;\n",
       "      fill: #1967D2;\n",
       "      height: 32px;\n",
       "      padding: 0 0 0 0;\n",
       "      width: 32px;\n",
       "    }\n",
       "\n",
       "    .colab-df-convert:hover {\n",
       "      background-color: #E2EBFA;\n",
       "      box-shadow: 0px 1px 2px rgba(60, 64, 67, 0.3), 0px 1px 3px 1px rgba(60, 64, 67, 0.15);\n",
       "      fill: #174EA6;\n",
       "    }\n",
       "\n",
       "    .colab-df-buttons div {\n",
       "      margin-bottom: 4px;\n",
       "    }\n",
       "\n",
       "    [theme=dark] .colab-df-convert {\n",
       "      background-color: #3B4455;\n",
       "      fill: #D2E3FC;\n",
       "    }\n",
       "\n",
       "    [theme=dark] .colab-df-convert:hover {\n",
       "      background-color: #434B5C;\n",
       "      box-shadow: 0px 1px 3px 1px rgba(0, 0, 0, 0.15);\n",
       "      filter: drop-shadow(0px 1px 2px rgba(0, 0, 0, 0.3));\n",
       "      fill: #FFFFFF;\n",
       "    }\n",
       "  </style>\n",
       "\n",
       "    <script>\n",
       "      const buttonEl =\n",
       "        document.querySelector('#df-0d83694c-1e33-4b70-a123-7723884bec3e button.colab-df-convert');\n",
       "      buttonEl.style.display =\n",
       "        google.colab.kernel.accessAllowed ? 'block' : 'none';\n",
       "\n",
       "      async function convertToInteractive(key) {\n",
       "        const element = document.querySelector('#df-0d83694c-1e33-4b70-a123-7723884bec3e');\n",
       "        const dataTable =\n",
       "          await google.colab.kernel.invokeFunction('convertToInteractive',\n",
       "                                                    [key], {});\n",
       "        if (!dataTable) return;\n",
       "\n",
       "        const docLinkHtml = 'Like what you see? Visit the ' +\n",
       "          '<a target=\"_blank\" href=https://colab.research.google.com/notebooks/data_table.ipynb>data table notebook</a>'\n",
       "          + ' to learn more about interactive tables.';\n",
       "        element.innerHTML = '';\n",
       "        dataTable['output_type'] = 'display_data';\n",
       "        await google.colab.output.renderOutput(dataTable, element);\n",
       "        const docLink = document.createElement('div');\n",
       "        docLink.innerHTML = docLinkHtml;\n",
       "        element.appendChild(docLink);\n",
       "      }\n",
       "    </script>\n",
       "  </div>\n",
       "\n",
       "    </div>\n",
       "  </div>\n"
      ],
      "application/vnd.google.colaboratory.intrinsic+json": {
       "type": "dataframe"
      }
     },
     "metadata": {},
     "execution_count": 67
    }
   ]
  },
  {
   "cell_type": "markdown",
   "source": [
    "## Задание 2 (0.5 балла) Первая кластеризация"
   ],
   "metadata": {
    "id": "0_1D0JnmAAjL"
   },
   "id": "0_1D0JnmAAjL"
  },
  {
   "cell_type": "markdown",
   "source": [
    "Примените KMeans с 5ю кластерами, сохраните полученные лейблы"
   ],
   "metadata": {
    "id": "ARuDv5grstBl"
   },
   "id": "ARuDv5grstBl"
  },
  {
   "cell_type": "code",
   "source": [
    "from sklearn.cluster import KMeans\n",
    "\n",
    "# -- YOUR CODE HERE --"
   ],
   "metadata": {
    "id": "r2HxwIN5ssoO"
   },
   "id": "r2HxwIN5ssoO",
   "execution_count": null,
   "outputs": []
  },
  {
   "cell_type": "markdown",
   "source": [
    "Выведите размеры кластеров. Полезной ли получилась кластеризация? Почему KMeans может выдать такой результат?"
   ],
   "metadata": {
    "id": "aoWre3460SVi"
   },
   "id": "aoWre3460SVi"
  },
  {
   "cell_type": "code",
   "source": [
    "# -- YOUR CODE HERE --"
   ],
   "metadata": {
    "id": "zsGGw7ha1OhP"
   },
   "id": "zsGGw7ha1OhP",
   "execution_count": null,
   "outputs": []
  },
  {
   "cell_type": "markdown",
   "source": [
    "**Ответ:** # -- YOUR ANSWER HERE --"
   ],
   "metadata": {
    "id": "lCcSpb2o11nZ"
   },
   "id": "lCcSpb2o11nZ"
  },
  {
   "cell_type": "markdown",
   "source": [
    "## Задание 3 (0.5 балла) Объяснение результатов"
   ],
   "metadata": {
    "id": "HDLIxdWBAMql"
   },
   "id": "HDLIxdWBAMql"
  },
  {
   "cell_type": "markdown",
   "source": [
    "При кластеризации получилось $\\geq 1$ кластера размера 1. Выведите исполнителей, которые составляют такие кластеры. Среди них должна быть группа The Beatles."
   ],
   "metadata": {
    "id": "Z0LPwxlK6PX3"
   },
   "id": "Z0LPwxlK6PX3"
  },
  {
   "cell_type": "code",
   "source": [
    "# -- YOUR CODE HERE --"
   ],
   "metadata": {
    "id": "GpopP65iUXiJ"
   },
   "id": "GpopP65iUXiJ",
   "execution_count": null,
   "outputs": []
  },
  {
   "cell_type": "markdown",
   "source": [
    "Изучите данные, почему именно The Beatles выделяется?\n",
    "\n",
    "Подсказка: посмотрите на долю пользователей, которые слушают каждого исполнителя, среднюю долю прослушивания."
   ],
   "metadata": {
    "id": "brfvihta6yyG"
   },
   "id": "brfvihta6yyG"
  },
  {
   "cell_type": "code",
   "source": [
    "# -- YOUR CODE HERE --"
   ],
   "metadata": {
    "id": "xnK6DL-aUdPi"
   },
   "id": "xnK6DL-aUdPi",
   "execution_count": null,
   "outputs": []
  },
  {
   "cell_type": "markdown",
   "source": [
    "**Ответ:** # -- YOUR ANSWER HERE --"
   ],
   "metadata": {
    "id": "QzYYFir870jG"
   },
   "id": "QzYYFir870jG"
  },
  {
   "cell_type": "markdown",
   "source": [
    "## Задание 4 (0.5 балла) Улучшение кластеризации"
   ],
   "metadata": {
    "id": "faW2kZFjAS9X"
   },
   "id": "faW2kZFjAS9X"
  },
  {
   "cell_type": "markdown",
   "source": [
    "Попытаемся избавиться от этой проблемы: нормализуйте данные при помощи `normalize`."
   ],
   "metadata": {
    "id": "Yzz3BbBw9KKt"
   },
   "id": "Yzz3BbBw9KKt"
  },
  {
   "cell_type": "code",
   "source": [
    "from sklearn.preprocessing import normalize\n",
    "\n",
    "# -- YOUR CODE HERE --"
   ],
   "metadata": {
    "id": "zg_crbGI9RNG"
   },
   "id": "zg_crbGI9RNG",
   "execution_count": null,
   "outputs": []
  },
  {
   "cell_type": "markdown",
   "source": [
    "Примените KMeans с 5ю кластерами на преобразованной матрице, посмотрите на их размеры. Стало ли лучше? Может ли кластеризация быть полезной теперь?"
   ],
   "metadata": {
    "id": "vFlwI4ec-SuY"
   },
   "id": "vFlwI4ec-SuY"
  },
  {
   "cell_type": "code",
   "source": [
    "# -- YOUR CODE HERE --"
   ],
   "metadata": {
    "id": "6ic3WvMdUfwb"
   },
   "id": "6ic3WvMdUfwb",
   "execution_count": null,
   "outputs": []
  },
  {
   "cell_type": "markdown",
   "source": [
    "**Ответ** # -- YOUR ANSWER HERE --"
   ],
   "metadata": {
    "id": "Xj9fyDKd-bzk"
   },
   "id": "Xj9fyDKd-bzk"
  },
  {
   "cell_type": "markdown",
   "source": [
    "## Задание 5 (1 балл) Центроиды"
   ],
   "metadata": {
    "id": "zFsXACPxAhyv"
   },
   "id": "zFsXACPxAhyv"
  },
  {
   "cell_type": "markdown",
   "source": [
    "Выведите для каждого кластера названия топ-10 исполнителей, ближайших к центроиду по косинусной мере. Проинтерпретируйте результат. Что можно сказать о смысле кластеров?"
   ],
   "metadata": {
    "id": "qG5cISdzu7Jh"
   },
   "id": "qG5cISdzu7Jh"
  },
  {
   "cell_type": "code",
   "source": [
    "from scipy.spatial.distance import cosine\n",
    "\n",
    "\n",
    "centroids = km.cluster_centers_\n",
    "\n",
    "# -- YOUR CODE HERE --"
   ],
   "metadata": {
    "id": "Q3gI8OlKuCG6"
   },
   "id": "Q3gI8OlKuCG6",
   "execution_count": null,
   "outputs": []
  },
  {
   "cell_type": "markdown",
   "source": [
    "**Ответ:** # -- YOUR ANSWER HERE --"
   ],
   "metadata": {
    "id": "GwioYtvAxqxT"
   },
   "id": "GwioYtvAxqxT"
  },
  {
   "cell_type": "markdown",
   "source": [
    "## Задание 6 (1 балл) Визуализация"
   ],
   "metadata": {
    "id": "TkBh9Dk2C_el"
   },
   "id": "TkBh9Dk2C_el"
  },
  {
   "cell_type": "markdown",
   "source": [
    "Хотелось бы как-то визуализировать полученную кластеризацию. Постройте точечные графики `plt.scatter` для нескольких пар признаков исполнителей, покрасив точки в цвета кластеров. Почему визуализации получились такими? Хорошо ли они отражают разделение на кластеры? Почему?"
   ],
   "metadata": {
    "id": "GzP-OoAZDony"
   },
   "id": "GzP-OoAZDony"
  },
  {
   "cell_type": "code",
   "source": [
    "import matplotlib.pyplot as plt\n",
    "\n",
    "# -- YOUR CODE HERE --"
   ],
   "metadata": {
    "id": "HyVqnEQ3DWgm"
   },
   "id": "HyVqnEQ3DWgm",
   "execution_count": null,
   "outputs": []
  },
  {
   "cell_type": "markdown",
   "source": [
    "**Ответ:** # -- YOUR ANSWER HERE --"
   ],
   "metadata": {
    "id": "O5t7YabAFPe4"
   },
   "id": "O5t7YabAFPe4"
  },
  {
   "cell_type": "markdown",
   "source": [
    "Для визуализации данных высокой размерности существует метод t-SNE (стохастическое вложение соседей с t-распределением). Данный метод является нелинейным методом снижения размерности: каждый объект высокой размерности будет моделироваться объектов более низкой (например, 2) размерности таким образом, чтобы похожие объекты моделировались близкими, непохожие - далекими с большой вероятностью.\n",
    "\n",
    "Примените `TSNE` из библиотеки `sklearn` и визуализируйте полученные объекты, покрасив их в цвета их кластеров"
   ],
   "metadata": {
    "id": "ZuPjFHu4GuHK"
   },
   "id": "ZuPjFHu4GuHK"
  },
  {
   "cell_type": "code",
   "source": [
    "from sklearn.manifold import TSNE\n",
    "\n",
    "# -- YOUR CODE HERE --"
   ],
   "metadata": {
    "id": "CVNPXKvcH7uV"
   },
   "id": "CVNPXKvcH7uV",
   "execution_count": null,
   "outputs": []
  },
  {
   "cell_type": "markdown",
   "source": [
    "## Задание 7 (1 балл) Подбор гиперпараметров"
   ],
   "metadata": {
    "id": "Mi1frYgFJCrT"
   },
   "id": "Mi1frYgFJCrT"
  },
  {
   "cell_type": "markdown",
   "source": [
    "Подберите оптимальное количество кластеров (максимум 100 кластеров) с использованием индекса Силуэта. Зафиксируйте `random_state=42`"
   ],
   "metadata": {
    "id": "7UKDZt-bAokD"
   },
   "id": "7UKDZt-bAokD"
  },
  {
   "cell_type": "code",
   "source": [
    "from sklearn.metrics import silhouette_score\n",
    "\n",
    "# -- YOUR CODE HERE --"
   ],
   "metadata": {
    "id": "S4CxV_XJAy0A"
   },
   "id": "S4CxV_XJAy0A",
   "execution_count": null,
   "outputs": []
  },
  {
   "cell_type": "markdown",
   "source": [
    "Выведите исполнителей, ближайших с центроидам (аналогично заданию 5). Как соотносятся результаты? Остался ли смысл кластеров прежним? Расскажите про смысл 1-2 интересных кластеров, если он изменился и кластеров слишком много, чтобы рассказать про все."
   ],
   "metadata": {
    "id": "J81KdOFtJORV"
   },
   "id": "J81KdOFtJORV"
  },
  {
   "cell_type": "code",
   "source": [
    "# -- YOUR CODE HERE --"
   ],
   "metadata": {
    "id": "HMY-058kBqO0"
   },
   "id": "HMY-058kBqO0",
   "execution_count": null,
   "outputs": []
  },
  {
   "cell_type": "markdown",
   "source": [
    "**Ответ:** # -- YOUR ANSWER HERE --"
   ],
   "metadata": {
    "id": "LeWEK2QsJkiX"
   },
   "id": "LeWEK2QsJkiX"
  },
  {
   "cell_type": "markdown",
   "source": [
    "Сделайте t-SNE визуализацию полученной кластеризации."
   ],
   "metadata": {
    "id": "YluT0kiGPe4j"
   },
   "id": "YluT0kiGPe4j"
  },
  {
   "cell_type": "code",
   "source": [
    "# -- YOUR CODE HERE --"
   ],
   "metadata": {
    "id": "00rY7Z6XPfPa"
   },
   "id": "00rY7Z6XPfPa",
   "execution_count": null,
   "outputs": []
  },
  {
   "cell_type": "markdown",
   "source": [
    "Если кластеров получилось слишком много и визуально цвета плохо отличаются, покрасьте только какой-нибудь интересный кластер из задания выше (`c = (labels == i)`). Хорошо ли этот кластер отражается в визуализации?"
   ],
   "metadata": {
    "id": "Eo8H1sNqQqiF"
   },
   "id": "Eo8H1sNqQqiF"
  },
  {
   "cell_type": "code",
   "source": [
    "# -- YOUR CODE HERE --"
   ],
   "metadata": {
    "id": "E4oXA3qTQwWT"
   },
   "id": "E4oXA3qTQwWT",
   "execution_count": null,
   "outputs": []
  },
  {
   "cell_type": "markdown",
   "source": [
    "**Ответ:** # -- YOUR ANSWER HERE --"
   ],
   "metadata": {
    "id": "SHxur6z7Q0fu"
   },
   "id": "SHxur6z7Q0fu"
  }
 ],
 "metadata": {
  "kernelspec": {
   "display_name": "Python 3 (ipykernel)",
   "language": "python",
   "name": "python3"
  },
  "language_info": {
   "codemirror_mode": {
    "name": "ipython",
    "version": 3
   },
   "file_extension": ".py",
   "mimetype": "text/x-python",
   "name": "python",
   "nbconvert_exporter": "python",
   "pygments_lexer": "ipython3",
   "version": "3.9.1"
  },
  "colab": {
   "provenance": []
  }
 },
 "nbformat": 4,
 "nbformat_minor": 5
}
