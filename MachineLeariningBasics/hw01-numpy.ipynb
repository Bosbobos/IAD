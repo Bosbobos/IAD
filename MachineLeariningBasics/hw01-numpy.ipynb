{
 "cells": [
  {
   "cell_type": "markdown",
   "metadata": {},
   "source": [
    "## Домашнее задание 1 (5 баллов)\n",
    "\n",
    "Все задания ниже имеют равный вес (5/10)."
   ]
  },
  {
   "cell_type": "markdown",
   "metadata": {},
   "source": [
    "### О задании\n",
    "\n",
    "В этом домашнем задании вы попрактикуетесь в работе с библиотекой numpy, которая позволяет сравнительно легко и удобно выполнять разнообразные вычисления, избегая самостоятельной реализации поэлементной обработки."
   ]
  },
  {
   "cell_type": "markdown",
   "metadata": {},
   "source": [
    "Во всех задачах необходимо написать код решения внутри функции и убедиться, что она работает, с помощью [assert](https://python-reference.readthedocs.io/en/latest/docs/statements/assert.html) на выражение с использованием этой функции для данных из условия.\n",
    "\n",
    "При решении задач запрещается использовать циклы (`for`, `while`) и оператор `if`. Да, `map`, `reduce`, `filter` и любые другие \"чисто питоновские\" конструкции тоже запрещены. **Используйте только функционал numpy**.\n",
    "\n",
    "Везде, где встречаются массивы или матрицы, подразумевается, что это `numpy.array`.\n",
    "\n",
    "**numpy reference:** https://numpy.org/doc/stable/reference/index.html"
   ]
  },
  {
   "cell_type": "code",
   "metadata": {
    "pycharm": {
     "name": "#%%\n"
    },
    "ExecuteTime": {
     "end_time": "2025-02-01T08:43:03.897348Z",
     "start_time": "2025-02-01T08:43:03.499323Z"
    }
   },
   "source": [
    "import numpy as np"
   ],
   "outputs": [],
   "execution_count": 3
  },
  {
   "cell_type": "markdown",
   "metadata": {},
   "source": [
    "### Задание 1\n",
    "\n",
    "Напишите функцию, возвращающую округленную взвешенную сумму оценок по данным оценкам и весам. Можете посчитать свою оценку за курс :) В нашем случае вес экзамена равен 0.3, вес домашек - 0.4, вес контрольной - 0.2, вес самостоятельных - 0.1. Например, если за экзамен у вас 7, за домашки 10, за контрольную 8, а за самостоятельные 6, то вы получите отличную оценку 8!\n",
    "\n",
    "Обратите внимание, что на вход приходит всегда двумерный массив. В нем в каждой строке - окенки одного конкретного студента. От вас требуется вернуть итоговую оценку для всех студентов в массиве."
   ]
  },
  {
   "cell_type": "code",
   "metadata": {
    "ExecuteTime": {
     "end_time": "2025-01-31T19:39:06.089350Z",
     "start_time": "2025-01-31T19:39:06.087320Z"
    }
   },
   "source": [
    "def result_mark(weights: np.array, marks: np.array) -> int:\n",
    "    return np.round(marks.dot(weights))"
   ],
   "outputs": [],
   "execution_count": 4
  },
  {
   "cell_type": "code",
   "metadata": {
    "ExecuteTime": {
     "end_time": "2025-01-31T19:39:07.133056Z",
     "start_time": "2025-01-31T19:39:07.128429Z"
    }
   },
   "source": [
    "weights = np.array([0.3, 0.4, 0.2, 0.1])\n",
    "marks = np.array([[7, 10, 8, 6], [6, 9, 7, 6]])\n",
    "\n",
    "assert np.allclose(result_mark(weights, marks), np.array([8, 7]))"
   ],
   "outputs": [],
   "execution_count": 5
  },
  {
   "cell_type": "code",
   "metadata": {
    "ExecuteTime": {
     "end_time": "2025-01-31T19:39:18.300630Z",
     "start_time": "2025-01-31T19:39:18.297031Z"
    }
   },
   "source": [
    "weights = np.array([0.3, 0.4, 0.2, 0.1])\n",
    "marks = np.array([[7, 0, 8, 6]])\n",
    "\n",
    "assert np.allclose(result_mark(weights, marks), np.array([4]))"
   ],
   "outputs": [],
   "execution_count": 6
  },
  {
   "cell_type": "markdown",
   "metadata": {},
   "source": [
    "### Задание 2\n",
    "\n",
    "Напишите функцию, которая каждое четное число в массиве заменяет на его квадрат (вторую степень), а нечетное - на его синус. Округлите все значения в итоговом массиве до двух знаков после запятой."
   ]
  },
  {
   "cell_type": "code",
   "metadata": {
    "ExecuteTime": {
     "end_time": "2025-01-31T19:46:42.749164Z",
     "start_time": "2025-01-31T19:46:42.746837Z"
    }
   },
   "source": [
    "def change_array(array: np.array) -> np.array:\n",
    "    evens = array % 2 == 0\n",
    "    return np.round(np.where(evens, array ** 2, np.sin(array)), decimals=2)"
   ],
   "outputs": [],
   "execution_count": 11
  },
  {
   "cell_type": "code",
   "metadata": {
    "ExecuteTime": {
     "end_time": "2025-01-31T19:46:43.722146Z",
     "start_time": "2025-01-31T19:46:43.718584Z"
    }
   },
   "source": [
    "array = np.array([2, 5, 1, 0, -6, 22, 213431])\n",
    "\n",
    "assert np.allclose(change_array(array), np.array([4.0, -0.96, 0.84, 0.0, 36.0, 484.0, -0.58]))"
   ],
   "outputs": [],
   "execution_count": 12
  },
  {
   "cell_type": "code",
   "metadata": {
    "ExecuteTime": {
     "end_time": "2025-01-31T19:46:46.720186Z",
     "start_time": "2025-01-31T19:46:46.717971Z"
    }
   },
   "source": [
    "array = np.array([3, 12, 15, -97, 6])\n",
    "\n",
    "assert np.allclose(change_array(array), np.array([0.14, 144.0, 0.65, -0.38, 36.0]))"
   ],
   "outputs": [],
   "execution_count": 13
  },
  {
   "cell_type": "markdown",
   "metadata": {},
   "source": [
    "### Задание 3\n",
    "\n",
    "Напишите функцию, которая вычисляет разность каждого элемента с предыдущим (для самого первого считайте, что его разница с \"предыдущим\" нулевая) в виде нового массива и возвращает вектор, в котором каждый новый элемент - сумма всех предыдущих из полученного нового массива."
   ]
  },
  {
   "cell_type": "code",
   "metadata": {
    "ExecuteTime": {
     "end_time": "2025-01-31T20:24:21.534800Z",
     "start_time": "2025-01-31T20:24:21.532378Z"
    }
   },
   "source": [
    "def cumulative_sum_of_differences(array):\n",
    "    diffs = np.diff(array, prepend=array[0])\n",
    "    return np.cumsum(diffs)"
   ],
   "outputs": [],
   "execution_count": 45
  },
  {
   "cell_type": "code",
   "metadata": {
    "ExecuteTime": {
     "end_time": "2025-01-31T20:24:22.425041Z",
     "start_time": "2025-01-31T20:24:22.422738Z"
    }
   },
   "source": [
    "array = np.array([3, 6, 2, 8])\n",
    "assert np.allclose(cumulative_sum_of_differences(array), np.array([0, 3, -1, 5]))"
   ],
   "outputs": [],
   "execution_count": 46
  },
  {
   "cell_type": "code",
   "metadata": {
    "ExecuteTime": {
     "end_time": "2025-01-31T20:24:23.100629Z",
     "start_time": "2025-01-31T20:24:23.098371Z"
    }
   },
   "source": [
    "array = np.array([5, 1])\n",
    "\n",
    "assert np.allclose(cumulative_sum_of_differences(array), np.array([0, -4]))"
   ],
   "outputs": [],
   "execution_count": 47
  },
  {
   "cell_type": "markdown",
   "metadata": {},
   "source": [
    "### Задание 4\n",
    "\n",
    "Напишите функцию, которая транспонирует двумерный массив, затем делает из него одномерный (reshape), переводит все элементы массива в *int8* и выводит его отсортированным по убыванию."
   ]
  },
  {
   "cell_type": "code",
   "metadata": {
    "ExecuteTime": {
     "end_time": "2025-01-31T20:28:16.401699Z",
     "start_time": "2025-01-31T20:28:16.399290Z"
    }
   },
   "source": [
    "def flatten_and_sort_transposed(array: np.array) -> np.array:\n",
    "    reshaped_T = array.T.reshape(-1)\n",
    "    arr_int8 = np.int8(reshaped_T)\n",
    "    return np.sort(arr_int8)[::-1]"
   ],
   "outputs": [],
   "execution_count": 50
  },
  {
   "cell_type": "code",
   "metadata": {
    "ExecuteTime": {
     "end_time": "2025-01-31T20:28:17.457723Z",
     "start_time": "2025-01-31T20:28:17.454042Z"
    }
   },
   "source": [
    "array = np.array([[256, -10], [-381, 112]])\n",
    "\n",
    "assert np.allclose(flatten_and_sort_transposed(array), np.array([112, 0, -10, -125]))"
   ],
   "outputs": [],
   "execution_count": 51
  },
  {
   "cell_type": "code",
   "metadata": {
    "ExecuteTime": {
     "end_time": "2025-01-31T20:28:19.424898Z",
     "start_time": "2025-01-31T20:28:19.422337Z"
    }
   },
   "source": [
    "array = np.array([[9, 8, 7], [3, 6, 129]])\n",
    "\n",
    "assert np.allclose(flatten_and_sort_transposed(array), np.array([ 9, 8, 7, 6, 3, -127]))"
   ],
   "outputs": [],
   "execution_count": 52
  },
  {
   "cell_type": "markdown",
   "metadata": {},
   "source": [
    "### Задание 5\n",
    "\n",
    "Напишите функцию, которая удаляет из массива все строки, среднее значение в которых больше общего среднего значения по всему массиву."
   ]
  },
  {
   "cell_type": "code",
   "metadata": {
    "ExecuteTime": {
     "end_time": "2025-01-31T20:39:04.958687Z",
     "start_time": "2025-01-31T20:39:04.956382Z"
    }
   },
   "source": [
    "def filter_rows_by_mean(array):\n",
    "    row_sum = array.sum(axis=1)\n",
    "    mean = np.mean(row_sum)\n",
    "    match = row_sum <= mean\n",
    "    return array[match]"
   ],
   "outputs": [],
   "execution_count": 95
  },
  {
   "cell_type": "code",
   "metadata": {
    "ExecuteTime": {
     "end_time": "2025-01-31T20:39:06.276832Z",
     "start_time": "2025-01-31T20:39:06.273893Z"
    }
   },
   "source": [
    "array = np.array([[1, 2, 3], [7, 8, 9], [4, 5, 6]])\n",
    "res = filter_rows_by_mean(array)\n",
    "\n",
    "assert res.ndim == 2\n",
    "assert np.allclose(res, np.array([[1, 2, 3], [4, 5, 6]]))"
   ],
   "outputs": [],
   "execution_count": 96
  },
  {
   "cell_type": "code",
   "metadata": {
    "ExecuteTime": {
     "end_time": "2025-01-31T20:39:07.985088Z",
     "start_time": "2025-01-31T20:39:07.982875Z"
    }
   },
   "source": [
    "array = np.array([[10, 20], [5, 5], [15, 15]])\n",
    "res = filter_rows_by_mean(array)\n",
    "\n",
    "assert res.ndim == 2\n",
    "assert np.allclose(res, np.array([[5, 5]]))"
   ],
   "outputs": [],
   "execution_count": 97
  },
  {
   "cell_type": "markdown",
   "metadata": {},
   "source": [
    "### Задание 6\n",
    "\n",
    "Напишите функцию, которая принимает на вход число - размер массива (квадратная матрица), который заполнен по принипу щахматной доски нулями и единицами. Первой (слева сверху) идет всегда единица. Напомним, что на шахматной доске белые и черные ячейки чередуются (в данном задании чередуются нули и единицы)."
   ]
  },
  {
   "cell_type": "code",
   "metadata": {
    "ExecuteTime": {
     "end_time": "2025-01-31T21:09:29.300079Z",
     "start_time": "2025-01-31T21:09:29.296234Z"
    }
   },
   "source": [
    "def create_checkerboard(number):\n",
    "    ind = np.indices((number, number))\n",
    "    what = ind.sum(axis=0) + 1\n",
    "    return what % 2"
   ],
   "outputs": [],
   "execution_count": 154
  },
  {
   "cell_type": "code",
   "metadata": {
    "ExecuteTime": {
     "end_time": "2025-01-31T21:09:30.779834Z",
     "start_time": "2025-01-31T21:09:30.777615Z"
    }
   },
   "source": [
    "number = 3\n",
    "\n",
    "assert np.allclose(create_checkerboard(number) - np.array([[1, 0, 1], [0, 1, 0], [1, 0, 1]]), np.zeros((number, number)))"
   ],
   "outputs": [],
   "execution_count": 155
  },
  {
   "cell_type": "code",
   "metadata": {
    "ExecuteTime": {
     "end_time": "2025-01-31T21:09:31.965050Z",
     "start_time": "2025-01-31T21:09:31.962722Z"
    }
   },
   "source": [
    "number = 4\n",
    "\n",
    "assert np.allclose(create_checkerboard(number) - np.array([[1, 0, 1, 0], [0, 1, 0, 1], [1, 0, 1, 0], [0, 1, 0, 1]]), np.zeros((number, number)))"
   ],
   "outputs": [],
   "execution_count": 156
  },
  {
   "cell_type": "markdown",
   "metadata": {},
   "source": [
    "### Задание 7\n",
    "\n",
    "Напишите функцию, которая соритрует строки двумерного массива по значению в первом (начиная с нуля) столбце (по возрастанию)."
   ]
  },
  {
   "cell_type": "code",
   "metadata": {
    "ExecuteTime": {
     "end_time": "2025-02-01T08:43:14.373578Z",
     "start_time": "2025-02-01T08:43:14.364307Z"
    }
   },
   "source": [
    "def sort_rows_by_second_column(array):\n",
    "    return array[array[:, 1].argsort()]"
   ],
   "outputs": [],
   "execution_count": 4
  },
  {
   "cell_type": "code",
   "metadata": {
    "ExecuteTime": {
     "end_time": "2025-02-01T08:43:17.993710Z",
     "start_time": "2025-02-01T08:43:17.981963Z"
    }
   },
   "source": [
    "array = np.array([[10, 2], [3, 5], [7, 1]])\n",
    "\n",
    "assert np.allclose(sort_rows_by_second_column(array), np.array([[7, 1], [10, 2], [3, 5]]))"
   ],
   "outputs": [],
   "execution_count": 5
  },
  {
   "cell_type": "code",
   "metadata": {
    "ExecuteTime": {
     "end_time": "2025-02-01T08:43:21.223294Z",
     "start_time": "2025-02-01T08:43:21.207753Z"
    }
   },
   "source": [
    "array = np.array([[5, 8, 1], [10, 3, 9], [2, 7, 0], [6, -1, 5]])\n",
    "\n",
    "assert np.allclose(sort_rows_by_second_column(array), np.array([[6, -1, 5], [10, 3, 9], [2, 7, 0], [5, 8, 1]]))"
   ],
   "outputs": [],
   "execution_count": 6
  },
  {
   "cell_type": "markdown",
   "metadata": {},
   "source": [
    "### Задание 8\n",
    "\n",
    "Напишите функцию, которая вычисляет сумму элементов [побочной](https://ru.wikipedia.org/wiki/Квадратная_матрица) диагонали квадратной матрицы."
   ]
  },
  {
   "cell_type": "code",
   "metadata": {
    "ExecuteTime": {
     "end_time": "2025-02-01T08:49:31.184216Z",
     "start_time": "2025-02-01T08:49:31.173313Z"
    }
   },
   "source": [
    "def sum_counterdiagonal_elements(array):\n",
    "    return array[:, ::-1].diagonal().sum()"
   ],
   "outputs": [],
   "execution_count": 11
  },
  {
   "cell_type": "code",
   "metadata": {
    "ExecuteTime": {
     "end_time": "2025-02-01T08:49:33.111186Z",
     "start_time": "2025-02-01T08:49:33.100700Z"
    }
   },
   "source": [
    "array = np.array([[5, 8, 1], [10, 3, 9], [2, 7, 0]])\n",
    "\n",
    "assert sum_counterdiagonal_elements(array) == 6"
   ],
   "outputs": [],
   "execution_count": 12
  },
  {
   "cell_type": "code",
   "metadata": {
    "ExecuteTime": {
     "end_time": "2025-02-01T08:49:35.176965Z",
     "start_time": "2025-02-01T08:49:35.134306Z"
    }
   },
   "source": [
    "array = np.array([[-4, -1, -1, 7], [6, -10, 5, -9], [3, -8, 6, 8], [-1, -6, 7, -10]])\n",
    "\n",
    "assert sum_counterdiagonal_elements(array) == 3"
   ],
   "outputs": [],
   "execution_count": 13
  },
  {
   "cell_type": "markdown",
   "metadata": {},
   "source": [
    "### Задание 9\n",
    "\n",
    "Напишите функцию, которая принимает на вход три числа (начало отрезка, конец отрезка, количество точек на отрезке). Данная функция генерирует указанное количество точек равномерно на отрезке с указанными концами (точки равноудалены друг от друга). Затем функция генерирует другой массив - натуральный логарифм от всех точек отрезка плюс единица ($ln(point + 1)$). Возвращает функция массив пар точек вида (точка на отрезке, ее логарифм). Каждое значение в возвращаемом массиве должно быть округлено до двух знаков после запятой."
   ]
  },
  {
   "cell_type": "code",
   "metadata": {
    "ExecuteTime": {
     "end_time": "2025-02-01T10:25:32.931957Z",
     "start_time": "2025-02-01T10:25:32.923915Z"
    }
   },
   "source": [
    "def generate_logarithm_points(start, end, count):\n",
    "    points = np.linspace(start, end, count)\n",
    "    logs = np.log(points + 1)\n",
    "\n",
    "    result = np.column_stack((points, logs))\n",
    "    return np.round(result, 2)"
   ],
   "outputs": [],
   "execution_count": 26
  },
  {
   "cell_type": "code",
   "metadata": {
    "ExecuteTime": {
     "end_time": "2025-02-01T10:25:34.845718Z",
     "start_time": "2025-02-01T10:25:34.835594Z"
    }
   },
   "source": [
    "start = 1\n",
    "end = 10\n",
    "count = 5\n",
    "\n",
    "assert np.allclose(generate_logarithm_points(start, end, count), np.array([[1., 0.69], [3.25, 1.45], [5.5 , 1.87], [7.75, 2.17], [10., 2.4]]))"
   ],
   "outputs": [],
   "execution_count": 27
  },
  {
   "cell_type": "code",
   "metadata": {
    "ExecuteTime": {
     "end_time": "2025-02-01T10:25:37.828420Z",
     "start_time": "2025-02-01T10:25:37.818478Z"
    }
   },
   "source": [
    "start = 5\n",
    "end = 12\n",
    "count = 4\n",
    "\n",
    "assert np.allclose(generate_logarithm_points(start, end, count), np.array([[5., 1.79], [7.33, 2.12], [9.67, 2.37], [12., 2.56]]))"
   ],
   "outputs": [],
   "execution_count": 28
  },
  {
   "cell_type": "markdown",
   "metadata": {},
   "source": [
    "### Задание 10\n",
    "\n",
    "Напишите функцию, которая нормализует входной двумерный массив. \n",
    "\n",
    "Под нормализацией в данном задании подразумевается перевод всех чисел массива на отрезок $[0; 1]$. Очевидно, недостаточно просто вычесть/прибавить лишнее, чтобы остались числа на нужном отрезке. Суть нормализации массива в том, чтобы не потерять информацию о его элементах и их соотношениях. Потому, необходимо сохранить пропорции расстояний между каждым числом - спроецировать все точки на указанный отрезок. Такой метод масштабирования массива называется MinMaxScaling. Само название дает подсказку, как нужно решить задачу. Дробные числа округляйте до двух знаков после запятой.\n",
    "\n",
    "*Будьте осторожны с делением...*"
   ]
  },
  {
   "cell_type": "code",
   "metadata": {
    "ExecuteTime": {
     "end_time": "2025-02-01T10:27:08.235510Z",
     "start_time": "2025-02-01T10:27:08.229256Z"
    }
   },
   "source": [
    "def min_max_scale(array):\n",
    "    min_val = np.min(array)\n",
    "    max_val = np.max(array)\n",
    "\n",
    "    normalized_arr = (array - min_val) / (max_val - min_val)\n",
    "    return np.round(normalized_arr, 2)"
   ],
   "outputs": [],
   "execution_count": 29
  },
  {
   "cell_type": "code",
   "metadata": {
    "ExecuteTime": {
     "end_time": "2025-02-01T10:27:10.184271Z",
     "start_time": "2025-02-01T10:27:10.174252Z"
    }
   },
   "source": [
    "array = np.array([[1, 2, 3], [4, 5, 6], [7, 8, 9]])\n",
    "\n",
    "assert np.allclose(min_max_scale(array), np.array([[0. , 0.12, 0.25], [0.38, 0.5 , 0.62], [0.75, 0.88, 1.]]))"
   ],
   "outputs": [],
   "execution_count": 30
  },
  {
   "cell_type": "code",
   "metadata": {
    "ExecuteTime": {
     "end_time": "2025-02-01T10:27:12.366876Z",
     "start_time": "2025-02-01T10:27:12.358284Z"
    }
   },
   "source": [
    "array = np.array([[0, 1, 2], [3, 4, 5]])\n",
    "\n",
    "assert np.allclose(min_max_scale(array), np.array([[0., 0.2, 0.4], [0.6, 0.8, 1.]]))"
   ],
   "outputs": [],
   "execution_count": 31
  },
  {
   "cell_type": "code",
   "execution_count": null,
   "metadata": {},
   "outputs": [],
   "source": []
  }
 ],
 "metadata": {
  "kernelspec": {
   "display_name": "default",
   "language": "python",
   "name": "python3"
  },
  "language_info": {
   "codemirror_mode": {
    "name": "ipython",
    "version": 3
   },
   "file_extension": ".py",
   "mimetype": "text/x-python",
   "name": "python",
   "nbconvert_exporter": "python",
   "pygments_lexer": "ipython3",
   "version": "3.11.9"
  }
 },
 "nbformat": 4,
 "nbformat_minor": 2
}
