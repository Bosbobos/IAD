{
 "cells": [
  {
   "metadata": {},
   "cell_type": "markdown",
   "source": [
    "# Интеллектуальный анализ данных – весна 2025\n",
    "\n",
    "# Домашнее задание 7: Деревья. Случайный лес\n",
    "\n",
    "Правила:\n",
    "\n",
    "- Домашнее задание оценивается в 10 баллов.\n",
    "\n",
    "\n",
    "- Можно использовать без доказательства любые результаты, встречавшиеся на лекциях или семинарах по курсу, если получение этих результатов не является вопросом задания.\n",
    "\n",
    "\n",
    "- Можно использовать любые свободные источники с обязательным указанием ссылки на них.\n",
    "\n",
    "\n",
    "- Плагиат не допускается. При обнаружении случаев списывания, 0 за работу выставляется всем участникам нарушения, даже если можно установить, кто у кого списал.\n",
    "\n",
    "<!-- ![](meme.jpg) -->\n",
    "<img src=\"meme.jpg\" alt=\"Drawing\" style=\"width: 700px;\"/>"
   ]
  },
  {
   "metadata": {},
   "cell_type": "markdown",
   "source": [
    "## Часть 1: Основы построения решающие дерева (1.5 балла)\n",
    "\n",
    "В этой части все расчёты необходимо реализовывать в виде запрограммированных формул, например, на `numpy`. **Нельзя использовать готовые реализации**. Например, если в задании требуется рассчитать энтропию, то требуется в каком-то виде релизовать расчёт по формуле, но нельзя использовать готовую реализацию `some_module.entropy()`."
   ]
  },
  {
   "metadata": {
    "ExecuteTime": {
     "end_time": "2025-06-08T14:04:36.040527Z",
     "start_time": "2025-06-08T14:04:35.481693Z"
    }
   },
   "cell_type": "code",
   "source": [
    "import numpy as np\n",
    "import pandas as pd\n",
    "import matplotlib.pyplot as plt"
   ],
   "outputs": [],
   "execution_count": 1
  },
  {
   "metadata": {},
   "cell_type": "markdown",
   "source": "**Задание 1.1 (0.5 балла)** Пусть известно, что в вершину решающего дерева попали 10 объектов, 8 из которых имеют метку класса $k_1$, а 2 имеют метку класса $k_2$. Рассчитайте энтропию такого распределения классов (с натуральным логарифмом). Ответ округлите до двух знаков после запятой."
  },
  {
   "metadata": {
    "ExecuteTime": {
     "end_time": "2025-06-08T14:04:36.052888Z",
     "start_time": "2025-06-08T14:04:36.047588Z"
    }
   },
   "cell_type": "code",
   "source": [
    "def entropy(probabilities: list) -> float:\n",
    "    if sum(probabilities) != 1:\n",
    "        raise ValueError('Probabilities must sum to 1.')\n",
    "    return -sum(p * np.log(p) for p in probabilities)\n",
    "\n",
    "\"%.2f\" % round(entropy([0.8, 0.2]),2)"
   ],
   "outputs": [
    {
     "data": {
      "text/plain": [
       "'0.50'"
      ]
     },
     "execution_count": 2,
     "metadata": {},
     "output_type": "execute_result"
    }
   ],
   "execution_count": 2
  },
  {
   "metadata": {},
   "cell_type": "markdown",
   "source": [
    "**Задание 1.2 (0.5 балла)** Пусть дополнительно известно, что вершина из предыдущего задания не является листовой и возможно такое разбиение, что в левое поддерево попадут все объекты класса $k_1$, а в правое - класса $k_2$. Посчитайте критерий информативности:\n",
    "\n",
    "$$\n",
    "Q(R_m, j, t) = H(R_m) - \\frac{|R_\\ell|}{|R_m|}H(R_\\ell) - \\frac{|R_r|}{|R_m|}H(R_r),\n",
    "$$\n",
    "\n",
    "где $R_m$ - множество объектов в разбиваемой вершине, $j$ - номер признака, по которому происходит разбиение, $t$ - порог разбиения, $R_\\ell$ - множество объектов в левом поддереве, $R_r$ - множество объектов в правом поддереве.\n",
    "\n",
    "Теперь в качестве $H(R)$ будем использовать индекс Джини:\n",
    "\n",
    "$$\n",
    "H(R) = \\sum_{k=1}^J p_k(1-p_k),\n",
    "$$\n",
    "где $J$ – общее количество классов (в нашем случае, $J = 2$).\n",
    "\n",
    "Ответ округлите до двух знаков после запятой."
   ]
  },
  {
   "metadata": {
    "ExecuteTime": {
     "end_time": "2025-06-08T14:04:36.142316Z",
     "start_time": "2025-06-08T14:04:36.139825Z"
    }
   },
   "cell_type": "code",
   "source": [
    "# ᕕ(╭ರ╭ ͟ʖ╮•́)⊃¤=(————\n",
    "def gini(class_counts: list) -> float:\n",
    "    summ = sum(class_counts)\n",
    "    return sum((cnt / summ) * (1 - (cnt / summ)) for cnt in class_counts)\n",
    "\n",
    "def impurity(class_counts_parent: list, class_counts_r: list, class_counts_l: list) -> float:\n",
    "    return gini(class_counts_parent) - (gini(class_counts_l) * sum(class_counts_l) + gini(class_counts_l) * sum(class_counts_r)) / sum(class_counts_parent)"
   ],
   "outputs": [],
   "execution_count": 3
  },
  {
   "metadata": {
    "ExecuteTime": {
     "end_time": "2025-06-08T14:04:36.150083Z",
     "start_time": "2025-06-08T14:04:36.147219Z"
    }
   },
   "cell_type": "code",
   "source": "\"%.2f\" % round(impurity([8, 2], [8, 0], [0, 2]),2)",
   "outputs": [
    {
     "data": {
      "text/plain": [
       "'0.32'"
      ]
     },
     "execution_count": 4,
     "metadata": {},
     "output_type": "execute_result"
    }
   ],
   "execution_count": 4
  },
  {
   "metadata": {},
   "cell_type": "markdown",
   "source": "**Задание 1.3 (0.5 балла)** Пусть при построении дерева образовалась листовая вершина с 10 объектами, значения целевой переменной для которых следующие: [1, 10, 5, 18, 100, 30, 50, 61, 84, 47] (решается задача регрессии). Чему будут равны предсказания модели для этих объектов?"
  },
  {
   "metadata": {
    "ExecuteTime": {
     "end_time": "2025-06-08T14:04:36.158433Z",
     "start_time": "2025-06-08T14:04:36.155165Z"
    }
   },
   "cell_type": "code",
   "source": [
    "# ᕕ(╭ರ╭ ͟ʖ╮•́)⊃¤=(————\n",
    "values = [1, 10, 5, 18, 100, 30, 50, 61, 84, 47]\n",
    "float(np.mean(values))"
   ],
   "outputs": [
    {
     "data": {
      "text/plain": [
       "40.6"
      ]
     },
     "execution_count": 5,
     "metadata": {},
     "output_type": "execute_result"
    }
   ],
   "execution_count": 5
  },
  {
   "metadata": {},
   "cell_type": "markdown",
   "source": [
    "## Часть 2: Решающие деревья (4.5 балла)\n",
    "\n",
    "В этой части мы напишем и протестируем собственную реализацию решающего дерева."
   ]
  },
  {
   "metadata": {
    "ExecuteTime": {
     "end_time": "2025-06-08T14:04:36.187718Z",
     "start_time": "2025-06-08T14:04:36.185089Z"
    }
   },
   "cell_type": "code",
   "source": [
    "from collections import Counter\n",
    "from typing import Dict, List, Tuple, Union"
   ],
   "outputs": [],
   "execution_count": 6
  },
  {
   "metadata": {},
   "cell_type": "markdown",
   "source": [
    "**Задание 2.1 (1.5 балла)** Реализуйте функцию `find_best_split()`, которая должна находить оптимальное разбиение подмножества обучающей выборки в соответствии с информационным критерием из **Задания 1.2**. В качестве меры хаотичности $H(R)$ для задачи регрессии испольуйте дисперсию подвыборки, а для задачи классификации – критерий Джини (определён в том же задании).\n",
    "\n",
    "Для категориальных признаков применяется наивный алгоритм разбиения: мы пытаемся найти одно значение, разбиение по которому сильнее всего увеличит критерий информативности. Иными словами, объекты с конкретным значением признака отправляем в левое поддерево, остальные - в правое. Обратите внимание, что это далеко не оптимальные способ учёта категориальных признаков. Например, можно было бы на каждое значение категориального признака создавать отдельное поддерево или использовать более сложные подходы. Подробнее об этом можно прочитать в конспектах [лекций](https://github.com/esokolov/ml-course-hse/blob/master/2019-fall/lecture-notes/lecture07-trees.pdf) по машинному обучению на ПМИ (раздел «Учёт категориальных признаков»).\n",
    "\n",
    "В качестве подсказок реализации можете пользоваться кодом из бонусной части семинара по решающим деревьям.\n",
    "\n",
    "**Бонус:** Разрешается делать цикл для перебора порогов, но возможна имплементация без него. За имплементацию без цикла – **бонус 1 балл**."
   ]
  },
  {
   "metadata": {
    "ExecuteTime": {
     "end_time": "2025-06-08T14:04:36.202052Z",
     "start_time": "2025-06-08T14:04:36.193050Z"
    }
   },
   "cell_type": "code",
   "source": [
    "def p_gini(probabilities: list) -> float:\n",
    "    return probabilities * (1 - probabilities)\n",
    "\n",
    "def find_best_split(\n",
    "        feature_vector: Union[np.ndarray, pd.DataFrame],\n",
    "        target_vector: Union[np.ndarray, pd.Series],\n",
    "        task: str = \"classification\",\n",
    "        feature_type: str = \"real\"\n",
    ") -> Tuple[np.ndarray, np.ndarray, float, float]:\n",
    "    \"\"\"\n",
    "    Находит оптимальный способ разделения выборки по заданному признаку.\n",
    "    \n",
    "    Указания:\n",
    "    * Пороги, приводящие к попаданию в одно из поддеревьев пустого множества объектов, не рассматриваются.\n",
    "    * В качестве порогов для вещественных признаков нужно брать среднее двух соседних (при сортировке) значений\n",
    "    * Для категориальных признаков рассматриваются все возможные разбиения на две группы\n",
    "    * Поведение функции в случае константного признака может быть любым.\n",
    "    * При одинаковых приростах Джини или дисперсии нужно выбирать минимальный сплит.\n",
    "    * За наличие в функции циклов балл будет снижен. Векторизуйте! :)\n",
    "\n",
    "    :param feature_vector: вектор значений признака (вещественный или категориальный)\n",
    "    :param target_vector: вектор целевых значений, len(feature_vector) == len(target_vector)\n",
    "    :param task: тип задачи - `classification` или `regression`\n",
    "    :param feature_type: тип признака - `real` (вещественный) или `categorical` (категориальный)\n",
    "    \n",
    "    :return thresholds: отсортированный по возрастанию вектор со всеми возможными порогами/разбиениями\n",
    "    :return criterions: вектор значений критерия (Джини/дисперсия) для каждого порога\n",
    "    :return threshold_best: оптимальный порог/разбиение\n",
    "    :return criterion_best: оптимальное значение критерия\n",
    "    \"\"\"\n",
    "    # Конвертируем входные данные в numpy массивы, если это pandas объекты\n",
    "    if isinstance(feature_vector, (pd.DataFrame, pd.Series)):\n",
    "        feature_vector = feature_vector.values\n",
    "    if isinstance(target_vector, pd.Series):\n",
    "        target_vector = target_vector.values\n",
    "\n",
    "    # Обрабатываем случай константного признака\n",
    "    unique_values = np.unique(feature_vector)\n",
    "    if len(unique_values) == 1:\n",
    "        return np.array([]), np.array([]), 0.0, 0.0\n",
    "\n",
    "    # Для вещественных признаков\n",
    "    if feature_type == \"real\":\n",
    "        # Сортируем признаки и целевые значения\n",
    "        sort_idx = np.argsort(feature_vector)\n",
    "        sorted_feature = feature_vector[sort_idx]\n",
    "        sorted_target = target_vector[sort_idx]\n",
    "\n",
    "        # Вычисляем пороги как средние между соседними значениями\n",
    "        thresholds = (sorted_feature[1:] + sorted_feature[:-1]) / 2\n",
    "\n",
    "        # Находим уникальные пороги и их первые вхождения\n",
    "        unique_thresholds, first_indices = np.unique(thresholds, return_index=True)\n",
    "\n",
    "    # Для категориальных признаков\n",
    "    elif feature_type == \"categorical\":\n",
    "        unique_thresholds = np.unique(feature_vector)\n",
    "    else:\n",
    "        raise ValueError(\"feature_type must be either 'real' or 'categorical'\")\n",
    "\n",
    "    # Вычисляем критерий для каждого порога/разбиения\n",
    "    if task == \"classification\":\n",
    "        # Расчет критерия Джини\n",
    "\n",
    "        if feature_type == \"real\":\n",
    "            # Для вещественных признаков используем векторизованные вычисления\n",
    "            cumsum = np.cumsum(sorted_target)\n",
    "            total_sum = cumsum[-1]\n",
    "\n",
    "            # Статистики для левого поддерева\n",
    "            cumsum_left = cumsum[:-1][first_indices]\n",
    "            count_left = (np.arange(len(sorted_target)) + 1)[:-1][first_indices]\n",
    "            p_left = cumsum_left / count_left\n",
    "            gini_left = p_gini(p_left)\n",
    "\n",
    "            # Статистики для правого поддерева\n",
    "            cumsum_right = total_sum - cumsum_left\n",
    "            count_right = len(sorted_target) - count_left\n",
    "            p_right = cumsum_right / count_right\n",
    "            gini_right = p_gini(p_right)\n",
    "\n",
    "            # Взвешенный критерий Джини\n",
    "            parent_gini = p_gini(total_sum / len(sorted_target))\n",
    "            children_gini = (count_left * gini_left + count_right * gini_right) / len(sorted_target)\n",
    "            criterions = parent_gini - children_gini\n",
    "\n",
    "        elif feature_type == \"categorical\":\n",
    "            # Для категориальных признаков вычисляем критерий для каждого разбиения\n",
    "            criterions = []\n",
    "            for threshold in unique_thresholds:\n",
    "                # Создаем маску для объектов, попадающих в левое поддерево\n",
    "                mask = feature_vector == threshold\n",
    "\n",
    "                # Вычисляем критерий Джини для левого поддерева\n",
    "                left_target = target_vector[mask]\n",
    "                if len(left_target) > 0:\n",
    "                    p_left = np.mean(left_target)\n",
    "                    gini_left = p_gini(p_left)\n",
    "                else:\n",
    "                    gini_left = 0\n",
    "\n",
    "                # Вычисляем критерий Джини для правого поддерева\n",
    "                right_target = target_vector[~mask]\n",
    "                if len(right_target) > 0:\n",
    "                    p_right = np.mean(right_target)\n",
    "                    gini_right = p_gini(p_right)\n",
    "                else:\n",
    "                    gini_right = 0\n",
    "\n",
    "                # Взвешенный критерий Джини\n",
    "                parent_gini = p_gini(np.mean(target_vector))\n",
    "                children_gini = (len(left_target) * gini_left + len(right_target) * gini_right) / len(target_vector)\n",
    "                criterions.append(parent_gini - children_gini)\n",
    "\n",
    "            criterions = np.array(criterions)\n",
    "\n",
    "    elif task == \"regression\":\n",
    "        # Уменьшение дисперсии\n",
    "\n",
    "        if feature_type == \"real\":\n",
    "            # Для вещественных признаков\n",
    "            cumsum = np.cumsum(sorted_target)\n",
    "            cumsum_sq = np.cumsum(sorted_target ** 2)\n",
    "            total_sum = cumsum[-1]\n",
    "            total_sum_sq = cumsum_sq[-1]\n",
    "\n",
    "            # Статистики для левого поддерева\n",
    "            cumsum_left = cumsum[:-1][first_indices]\n",
    "            cumsum_sq_left = cumsum_sq[:-1][first_indices]\n",
    "            count_left = (np.arange(len(sorted_target)) + 1)[:-1][first_indices]\n",
    "            var_left = cumsum_sq_left / count_left - (cumsum_left / count_left) ** 2\n",
    "\n",
    "            # Статистики для правого поддерева\n",
    "            cumsum_right = total_sum - cumsum_left\n",
    "            cumsum_sq_right = total_sum_sq - cumsum_sq_left\n",
    "            count_right = len(sorted_target) - count_left\n",
    "            var_right = cumsum_sq_right / count_right - (cumsum_right / count_right) ** 2\n",
    "\n",
    "            # Взвешенная дисперсия\n",
    "            mean_parent = total_sum / len(sorted_target)\n",
    "            parent_var  = total_sum_sq / len(sorted_target) - mean_parent**2\n",
    "            children_var = (count_left * var_left + count_right * var_right) / len(sorted_target)\n",
    "            criterions = parent_var - children_var\n",
    "\n",
    "        elif feature_type == \"categorical\":\n",
    "            # Для категориальных признаков\n",
    "            criterions = []\n",
    "            for threshold in unique_thresholds:\n",
    "                mask = np.isin(feature_vector, threshold)\n",
    "                left_target = target_vector[mask]\n",
    "                right_target = target_vector[~mask]\n",
    "\n",
    "                # Вычисляем дисперсию для левого поддерева\n",
    "                var_left = np.var(left_target) if len(left_target) > 0 else 0\n",
    "\n",
    "                # Вычисляем дисперсию для правого поддерева\n",
    "                var_right = np.var(right_target) if len(right_target) > 0 else 0\n",
    "\n",
    "                # Взвешенная дисперсия\n",
    "                parent_var = parent_var = np.var(target_vector)\n",
    "                children_var = (len(left_target) * var_left + len(right_target) * var_right) / len(target_vector)\n",
    "                criterions.append(parent_var - children_var)\n",
    "\n",
    "            criterions = np.array(criterions)\n",
    "\n",
    "    else:\n",
    "        raise ValueError(\"Task must be either 'classification' or 'regression'\")\n",
    "\n",
    "    # Находим оптимальное разбиение\n",
    "    if len(criterions) > 0:\n",
    "        best_idx = np.argmax(criterions)\n",
    "        best_threshold = unique_thresholds[best_idx]\n",
    "        best_criterion = criterions[best_idx]\n",
    "    else:\n",
    "        best_threshold = 0.0 if feature_type == \"real\" else tuple()\n",
    "        best_criterion = 0.0\n",
    "\n",
    "    return unique_thresholds, criterions, best_threshold, best_criterion"
   ],
   "outputs": [],
   "execution_count": 7
  },
  {
   "metadata": {},
   "cell_type": "markdown",
   "source": "Эту функцию можно протестировать на датасете `California`."
  },
  {
   "metadata": {
    "ExecuteTime": {
     "end_time": "2025-06-08T14:04:36.708132Z",
     "start_time": "2025-06-08T14:04:36.207435Z"
    }
   },
   "cell_type": "code",
   "source": "from sklearn.datasets import fetch_california_housing",
   "outputs": [],
   "execution_count": 8
  },
  {
   "metadata": {
    "ExecuteTime": {
     "end_time": "2025-06-08T14:04:36.730091Z",
     "start_time": "2025-06-08T14:04:36.714313Z"
    }
   },
   "cell_type": "code",
   "source": [
    "data = fetch_california_housing()\n",
    "X = pd.DataFrame(data=data[\"data\"], columns=data[\"feature_names\"])\n",
    "y = data[\"target\"]\n",
    "X.head()"
   ],
   "outputs": [
    {
     "data": {
      "text/plain": [
       "   MedInc  HouseAge  AveRooms  AveBedrms  Population  AveOccup  Latitude  \\\n",
       "0  8.3252      41.0  6.984127   1.023810       322.0  2.555556     37.88   \n",
       "1  8.3014      21.0  6.238137   0.971880      2401.0  2.109842     37.86   \n",
       "2  7.2574      52.0  8.288136   1.073446       496.0  2.802260     37.85   \n",
       "3  5.6431      52.0  5.817352   1.073059       558.0  2.547945     37.85   \n",
       "4  3.8462      52.0  6.281853   1.081081       565.0  2.181467     37.85   \n",
       "\n",
       "   Longitude  \n",
       "0    -122.23  \n",
       "1    -122.22  \n",
       "2    -122.24  \n",
       "3    -122.25  \n",
       "4    -122.25  "
      ],
      "text/html": [
       "<div>\n",
       "<style scoped>\n",
       "    .dataframe tbody tr th:only-of-type {\n",
       "        vertical-align: middle;\n",
       "    }\n",
       "\n",
       "    .dataframe tbody tr th {\n",
       "        vertical-align: top;\n",
       "    }\n",
       "\n",
       "    .dataframe thead th {\n",
       "        text-align: right;\n",
       "    }\n",
       "</style>\n",
       "<table border=\"1\" class=\"dataframe\">\n",
       "  <thead>\n",
       "    <tr style=\"text-align: right;\">\n",
       "      <th></th>\n",
       "      <th>MedInc</th>\n",
       "      <th>HouseAge</th>\n",
       "      <th>AveRooms</th>\n",
       "      <th>AveBedrms</th>\n",
       "      <th>Population</th>\n",
       "      <th>AveOccup</th>\n",
       "      <th>Latitude</th>\n",
       "      <th>Longitude</th>\n",
       "    </tr>\n",
       "  </thead>\n",
       "  <tbody>\n",
       "    <tr>\n",
       "      <th>0</th>\n",
       "      <td>8.3252</td>\n",
       "      <td>41.0</td>\n",
       "      <td>6.984127</td>\n",
       "      <td>1.023810</td>\n",
       "      <td>322.0</td>\n",
       "      <td>2.555556</td>\n",
       "      <td>37.88</td>\n",
       "      <td>-122.23</td>\n",
       "    </tr>\n",
       "    <tr>\n",
       "      <th>1</th>\n",
       "      <td>8.3014</td>\n",
       "      <td>21.0</td>\n",
       "      <td>6.238137</td>\n",
       "      <td>0.971880</td>\n",
       "      <td>2401.0</td>\n",
       "      <td>2.109842</td>\n",
       "      <td>37.86</td>\n",
       "      <td>-122.22</td>\n",
       "    </tr>\n",
       "    <tr>\n",
       "      <th>2</th>\n",
       "      <td>7.2574</td>\n",
       "      <td>52.0</td>\n",
       "      <td>8.288136</td>\n",
       "      <td>1.073446</td>\n",
       "      <td>496.0</td>\n",
       "      <td>2.802260</td>\n",
       "      <td>37.85</td>\n",
       "      <td>-122.24</td>\n",
       "    </tr>\n",
       "    <tr>\n",
       "      <th>3</th>\n",
       "      <td>5.6431</td>\n",
       "      <td>52.0</td>\n",
       "      <td>5.817352</td>\n",
       "      <td>1.073059</td>\n",
       "      <td>558.0</td>\n",
       "      <td>2.547945</td>\n",
       "      <td>37.85</td>\n",
       "      <td>-122.25</td>\n",
       "    </tr>\n",
       "    <tr>\n",
       "      <th>4</th>\n",
       "      <td>3.8462</td>\n",
       "      <td>52.0</td>\n",
       "      <td>6.281853</td>\n",
       "      <td>1.081081</td>\n",
       "      <td>565.0</td>\n",
       "      <td>2.181467</td>\n",
       "      <td>37.85</td>\n",
       "      <td>-122.25</td>\n",
       "    </tr>\n",
       "  </tbody>\n",
       "</table>\n",
       "</div>"
      ]
     },
     "execution_count": 9,
     "metadata": {},
     "output_type": "execute_result"
    }
   ],
   "execution_count": 9
  },
  {
   "metadata": {
    "ExecuteTime": {
     "end_time": "2025-06-08T14:04:36.760162Z",
     "start_time": "2025-06-08T14:04:36.756889Z"
    }
   },
   "cell_type": "code",
   "source": "y",
   "outputs": [
    {
     "data": {
      "text/plain": [
       "array([4.526, 3.585, 3.521, ..., 0.923, 0.847, 0.894])"
      ]
     },
     "execution_count": 10,
     "metadata": {},
     "output_type": "execute_result"
    }
   ],
   "execution_count": 10
  },
  {
   "metadata": {},
   "cell_type": "markdown",
   "source": "Выведите график зависимости значения критерия ошибки от порогового значения при разбиении вершины по признаку `MedInc`."
  },
  {
   "metadata": {
    "ExecuteTime": {
     "end_time": "2025-06-08T14:04:36.918179Z",
     "start_time": "2025-06-08T14:04:36.793777Z"
    }
   },
   "cell_type": "code",
   "source": [
    "# ᕕ(╭ರ╭ ͟ʖ╮•́)⊃¤=(————\n",
    "med_thresholds, med_criterions, med_best_threshold, med_best_criterion = find_best_split(X['MedInc'], y, 'regression')\n",
    "plt.figure(figsize=(12, 6))\n",
    "plt.title('График значения критерия ошибки от порога')\n",
    "plt.ylabel('Критерий информативности')\n",
    "plt.xlabel('Значение порога')\n",
    "plt.plot(med_thresholds, med_criterions)\n",
    "display(f'Лучшее значение порога: {med_best_threshold} со значением критерия {med_best_criterion}')"
   ],
   "outputs": [
    {
     "data": {
      "text/plain": [
       "'Лучшее значение порога: 5.03515 со значением критерия 0.41275138620195617'"
      ]
     },
     "metadata": {},
     "output_type": "display_data"
    },
    {
     "data": {
      "text/plain": [
       "<Figure size 1200x600 with 1 Axes>"
      ],
      "image/png": "[encoded data removed]"
     },
     "metadata": {},
     "output_type": "display_data"
    }
   ],
   "execution_count": 11
  },
  {
   "metadata": {},
   "cell_type": "markdown",
   "source": "Найдите лучший, с вашей точки зрения, предикат первой вершины решающего дерева."
  },
  {
   "metadata": {
    "ExecuteTime": {
     "end_time": "2025-06-08T14:04:36.944626Z",
     "start_time": "2025-06-08T14:04:36.930048Z"
    }
   },
   "cell_type": "code",
   "source": [
    "# ᕕ(╭ರ╭ ͟ʖ╮•́)⊃¤=(————\n",
    "thresholds, criteria = [], []\n",
    "for col in X.values.T:\n",
    "    _, _, best_threshold, best_criterion = find_best_split(col, y, 'regression')\n",
    "    thresholds.append(best_threshold)\n",
    "    criteria.append(best_criterion)\n",
    "best_idx = np.argmax(criteria)\n",
    "display(f'Лучший предикат на первом пункте: {X.columns[best_idx]} > {thresholds[best_idx]}')\n",
    "display(f'Это позволяет достичь значения критерия в {criteria[best_idx]}')"
   ],
   "outputs": [
    {
     "data": {
      "text/plain": [
       "'Лучший предикат на первом пункте: MedInc > 5.03515'"
      ]
     },
     "metadata": {},
     "output_type": "display_data"
    },
    {
     "data": {
      "text/plain": [
       "'Это позволяет достичь значения критерия в 0.41275138620195617'"
      ]
     },
     "metadata": {},
     "output_type": "display_data"
    }
   ],
   "execution_count": 12
  },
  {
   "metadata": {},
   "cell_type": "markdown",
   "source": [
    "**Задание 2.2 (1 балл)** Разберитесь с написанным кодом решающего дерева, заполните пропуски в коде и реализуйте недостающий метод `_predict_node()`.\n",
    "\n",
    "Построение дерева осуществляется согласно базовому жадному алгоритму, предложенному в лекции в разделе «Построение дерева».\n",
    "- **Выбор лучшего разбиения** необходимо производить по критерию Джини.\n",
    "- **Критерий останова:** все объекты в листе относятся к одному классу или ни по одному признаку нельзя разбить выборку.\n",
    "- **Ответ в листе:** наиболее часто встречающийся класс в листе.\n",
    "\n",
    "В задаче также предлагается получить два бонуса, по баллу на каждый!\n",
    "\n",
    "- **Реализуйте способ обрабатывать пропуски в даннх и реализуйте его, пояснив свои действия.**\n",
    "- **Реализуйте метод оценки важности признаков.**"
   ]
  },
  {
   "metadata": {
    "ExecuteTime": {
     "end_time": "2025-06-08T14:04:36.963981Z",
     "start_time": "2025-06-08T14:04:36.956185Z"
    }
   },
   "cell_type": "code",
   "source": [
    "class DecisionTree:\n",
    "\n",
    "    def __init__(\n",
    "        self,\n",
    "        feature_types: Union[List[str], np.ndarray],\n",
    "        max_depth: int = None,\n",
    "        min_samples_split: int = None,\n",
    "        min_samples_leaf: int = None,\n",
    "        task: str = \"classification\"\n",
    "    ) -> None:\n",
    "\n",
    "        if np.any(list(map(lambda x: x != \"real\" and x != \"categorical\", feature_types))):\n",
    "            raise ValueError(\"There is unknown feature type\")\n",
    "\n",
    "        # В этой переменной будем хранить узлы решающего дерева. Каждая вершина хранит в себе идентификатор того,\n",
    "        # является ли она листовой. Листовые вершины хранят значение класса для предсказания, нелистовые - правого и\n",
    "        # левого детей (поддеревья для продолжения процедуры предсказания)\n",
    "        self._tree = {}\n",
    "\n",
    "        # типы признаков (категориальные или числовые)\n",
    "        self._feature_types = feature_types\n",
    "\n",
    "        # гиперпараметры дерева\n",
    "        self._max_depth = max_depth\n",
    "        self._min_samples_split = min_samples_split\n",
    "        self._min_samples_leaf = min_samples_leaf\n",
    "        if max_depth == min_samples_split == min_samples_leaf == None:\n",
    "            self._min_samples_leaf = 1\n",
    "        self.task = task\n",
    "\n",
    "        # Переменная, если вы решите делать бонус\n",
    "        self._feature_importances = {}\n",
    "\n",
    "\n",
    "    def _fit_node(\n",
    "        self,\n",
    "        sub_X: np.ndarray,\n",
    "        sub_y: np.ndarray,\n",
    "        node: dict,\n",
    "        depth: int = 0\n",
    "    ) -> None:\n",
    "\n",
    "        # критерий останова\n",
    "        # Проверяем критерии остановки\n",
    "        stop = False\n",
    "\n",
    "        # Все элементы одного класса\n",
    "        if np.all(sub_y == sub_y[0]):\n",
    "            stop = True\n",
    "\n",
    "        # Достигнута максимальная глубина\n",
    "        if self._max_depth is not None and depth >= self._max_depth:\n",
    "            stop = True\n",
    "\n",
    "        # Недостаточно samples для разделения\n",
    "        if self._min_samples_split is not None and len(sub_y) < self._min_samples_split:\n",
    "            stop = True\n",
    "\n",
    "        if stop:\n",
    "            node[\"type\"] = \"terminal\"\n",
    "            node[\"class\"] = Counter(sub_y).most_common(1)[0][0]\n",
    "            return\n",
    "\n",
    "        feature_best, threshold_best, gini_best, split = None, None, None, None\n",
    "        for feature in range(sub_X.shape[1]):\n",
    "            feature_type = self._feature_types[feature]\n",
    "\n",
    "            # подготавливаем признак для поиска оптимального порога\n",
    "            feature_vector = sub_X[:, feature]\n",
    "\n",
    "            # ищем оптимальный порог\n",
    "            _, _, threshold, gini = find_best_split(feature_vector, sub_y, self.task, feature_type)\n",
    "\n",
    "            if threshold is None:\n",
    "                continue\n",
    "\n",
    "            # выбираем сплит с минимальной нечистотой\n",
    "            if gini_best is None or gini > gini_best:\n",
    "                feature_best = feature\n",
    "                gini_best = gini\n",
    "                threshold_best = threshold\n",
    "\n",
    "                # split - маска на объекты, которые должны попасть в левое поддерево\n",
    "                if feature_type == \"real\":\n",
    "                    split = feature_vector <= threshold_best  # левое поддерево: значения <= порога\n",
    "                elif feature_type == \"categorical\":\n",
    "                    # в данной реализации это просто значение категории\n",
    "                    split = feature_vector == threshold_best\n",
    "                else:\n",
    "                    raise ValueError\n",
    "\n",
    "        # записываем полученные сплиты в атрибуты класса\n",
    "        if feature_best is None:\n",
    "            node[\"type\"] = \"terminal\"\n",
    "            node[\"class\"] = Counter(sub_y).most_common(1)[0][0]\n",
    "            return\n",
    "\n",
    "        if (self._min_samples_leaf is not None and\n",
    "                (np.sum(split) < self._min_samples_leaf or\n",
    "                 np.sum(~split) < self._min_samples_leaf)):\n",
    "            node[\"type\"] = \"terminal\"\n",
    "            node[\"class\"] = Counter(sub_y).most_common(1)[0][0]\n",
    "            return\n",
    "\n",
    "        node[\"type\"] = \"nonterminal\"\n",
    "\n",
    "        node[\"feature_split\"] = feature_best\n",
    "        if self._feature_types[feature_best] == \"real\":\n",
    "            node[\"threshold\"] = threshold_best\n",
    "        elif self._feature_types[feature_best] == \"categorical\":\n",
    "            node[\"category_split\"] = threshold_best\n",
    "        else:\n",
    "            raise ValueError\n",
    "\n",
    "        node[\"left_child\"], node[\"right_child\"] = {}, {}\n",
    "        self._fit_node(sub_X[split], sub_y[split], node[\"left_child\"], depth+1)\n",
    "        self._fit_node(sub_X[~split], sub_y[~split], node[\"right_child\"], depth+1)\n",
    "\n",
    "    def _predict_node(self, x: np.ndarray, node: dict) -> int:\n",
    "        \"\"\"\n",
    "        Предсказание начинается с корневой вершины дерева и рекурсивно идёт в левое или правое поддерево в зависимости от значения\n",
    "        предиката на объекте. Листовая вершина возвращает предсказание.\n",
    "        :param x: np.array, элемент выборки\n",
    "        :param node: dict, вершина дерева\n",
    "        \"\"\"\n",
    "        if node[\"type\"] == \"terminal\":\n",
    "            return node[\"class\"]\n",
    "\n",
    "        feature = node[\"feature_split\"]\n",
    "        feature_type = self._feature_types[feature]\n",
    "\n",
    "        if feature_type == \"real\":\n",
    "            if x[feature] <= node[\"threshold\"]:\n",
    "                return self._predict_node(x, node[\"left_child\"])\n",
    "            else:\n",
    "                return self._predict_node(x, node[\"right_child\"])\n",
    "        elif feature_type == \"categorical\":\n",
    "            if x[feature] == node[\"category_split\"]:\n",
    "                return self._predict_node(x, node[\"left_child\"])\n",
    "            else:\n",
    "                return self._predict_node(x, node[\"right_child\"])\n",
    "        else:\n",
    "            raise ValueError(\"Unknown feature type\")\n",
    "\n",
    "    def fit(self, X: np.ndarray, y: np.ndarray) -> None:\n",
    "        self._fit_node(X, y, self._tree)\n",
    "\n",
    "    def predict(self, X: np.ndarray) -> np.ndarray:\n",
    "        predicted = []\n",
    "        for x in X:\n",
    "            predicted.append(self._predict_node(x, self._tree))\n",
    "\n",
    "        return np.array(predicted)"
   ],
   "outputs": [],
   "execution_count": 13
  },
  {
   "metadata": {},
   "cell_type": "markdown",
   "source": "**Задание 2.3 (1 балл)** Загрузите таблицу `students.csv` (это немного преобразованный датасет [User Knowledge](https://archive.ics.uci.edu/ml/datasets/User+Knowledge+Modeling)). В ней признаки объекта записаны в первых пяти столбцах, а в последнем записана целевая переменная (класс: 0 или 1). Постройте на одном изображении пять кривых \"порог — значение критерия Джини\" для всех пяти признаков. Отдельно визуализируйте диаграммы рассеяния \"значение признака — класс\" для всех пяти признаков."
  },
  {
   "metadata": {
    "ExecuteTime": {
     "end_time": "2025-06-08T14:04:36.984577Z",
     "start_time": "2025-06-08T14:04:36.975259Z"
    }
   },
   "cell_type": "code",
   "source": [
    "students = pd.read_csv('students.csv', index_col=0) # ᕕ(╭ರ╭ ͟ʖ╮•́)⊃¤=(————\n",
    "y = students['UNS']\n",
    "students = students.drop('UNS', axis=1)\n",
    "students.head(3)"
   ],
   "outputs": [
    {
     "data": {
      "text/plain": [
       "    STG   SCG   STR   LPR   PEG\n",
       "0  0.00  0.00  0.00  0.00  0.00\n",
       "1  0.08  0.08  0.10  0.24  0.90\n",
       "2  0.06  0.06  0.05  0.25  0.33"
      ],
      "text/html": [
       "<div>\n",
       "<style scoped>\n",
       "    .dataframe tbody tr th:only-of-type {\n",
       "        vertical-align: middle;\n",
       "    }\n",
       "\n",
       "    .dataframe tbody tr th {\n",
       "        vertical-align: top;\n",
       "    }\n",
       "\n",
       "    .dataframe thead th {\n",
       "        text-align: right;\n",
       "    }\n",
       "</style>\n",
       "<table border=\"1\" class=\"dataframe\">\n",
       "  <thead>\n",
       "    <tr style=\"text-align: right;\">\n",
       "      <th></th>\n",
       "      <th>STG</th>\n",
       "      <th>SCG</th>\n",
       "      <th>STR</th>\n",
       "      <th>LPR</th>\n",
       "      <th>PEG</th>\n",
       "    </tr>\n",
       "  </thead>\n",
       "  <tbody>\n",
       "    <tr>\n",
       "      <th>0</th>\n",
       "      <td>0.00</td>\n",
       "      <td>0.00</td>\n",
       "      <td>0.00</td>\n",
       "      <td>0.00</td>\n",
       "      <td>0.00</td>\n",
       "    </tr>\n",
       "    <tr>\n",
       "      <th>1</th>\n",
       "      <td>0.08</td>\n",
       "      <td>0.08</td>\n",
       "      <td>0.10</td>\n",
       "      <td>0.24</td>\n",
       "      <td>0.90</td>\n",
       "    </tr>\n",
       "    <tr>\n",
       "      <th>2</th>\n",
       "      <td>0.06</td>\n",
       "      <td>0.06</td>\n",
       "      <td>0.05</td>\n",
       "      <td>0.25</td>\n",
       "      <td>0.33</td>\n",
       "    </tr>\n",
       "  </tbody>\n",
       "</table>\n",
       "</div>"
      ]
     },
     "execution_count": 14,
     "metadata": {},
     "output_type": "execute_result"
    }
   ],
   "execution_count": 14
  },
  {
   "metadata": {
    "ExecuteTime": {
     "end_time": "2025-06-08T14:04:37.156604Z",
     "start_time": "2025-06-08T14:04:37.012959Z"
    }
   },
   "cell_type": "code",
   "source": [
    "# ᕕ(╭ರ╭ ͟ʖ╮•́)⊃¤=(————\n",
    "plt.figure(figsize=(12, 6))\n",
    "plt.title('График значения критерия ошибки от порога')\n",
    "plt.ylabel('H')\n",
    "plt.xlabel('Значение порога')\n",
    "for i, features in enumerate(students.values.T):\n",
    "    thresholds, criteria, best_threshold, best_criterion = find_best_split(features, y, 'classification')\n",
    "    plt.plot(thresholds, criteria, label=students.columns[i])\n",
    "plt.legend()"
   ],
   "outputs": [
    {
     "data": {
      "text/plain": [
       "<matplotlib.legend.Legend at 0x26663c841a0>"
      ]
     },
     "execution_count": 15,
     "metadata": {},
     "output_type": "execute_result"
    },
    {
     "data": {
      "text/plain": [
       "<Figure size 1200x600 with 1 Axes>"
      ],
      "image/png": "[encoded data removed]"
     },
     "metadata": {},
     "output_type": "display_data"
    }
   ],
   "execution_count": 15
  },
  {
   "metadata": {
    "ExecuteTime": {
     "end_time": "2025-06-08T14:04:37.625244Z",
     "start_time": "2025-06-08T14:04:37.183321Z"
    }
   },
   "cell_type": "code",
   "source": [
    "# ᕕ(╭ರ╭ ͟ʖ╮•́)⊃¤=(————\n",
    "fig, ax = plt.subplots(2, 3)\n",
    "fig.set_figwidth(24)\n",
    "fig.set_figheight(12)\n",
    "for i, features in enumerate(students.values.T):\n",
    "    axis = ax[i%2][i%3]\n",
    "    axis.set_ylabel('Класс')\n",
    "    axis.set_xlabel('Значение признака')\n",
    "    axis.title.set_text(students.columns[i])\n",
    "    axis.scatter(features, y)"
   ],
   "outputs": [
    {
     "data": {
      "text/plain": [
       "<Figure size 2400x1200 with 6 Axes>"
      ],
      "image/png": "[encoded data removed]"
     },
     "metadata": {},
     "output_type": "display_data"
    }
   ],
   "execution_count": 16
  },
  {
   "metadata": {},
   "cell_type": "markdown",
   "source": "Исходя из кривых значений критерия Джини, по какому признаку нужно производить деление выборки на два поддерева? Согласуется ли этот результат с визуальной оценкой диаграмм рассеяиния? Как бы охарактеризовали вид кривой для \"хороших\" признаков, по которым выборка делится почти идеально? Чем отличаются кривые для признаков, по которым деление практически невозможно?"
  },
  {
   "metadata": {},
   "cell_type": "markdown",
   "source": [
    "**Ответ:** PEG однозначно можно разделить одной прямой на графике рассеяния (с хорошей степенью точности).\n",
    "\n",
    "Такой же результат следует из графика критериев информативности, где PEG однозначно всюду выше других признаков. Получается, по аналогии с ROC-AUC, площадь под графиком критерия информативности показывает, насколько хорошо признак подходит для разделения по нему. Соответственно, под плохими признаками площадь маленькая (небольшая оговорка - под площадью \"под\" графиком мы понимаем площадь не между осью Х и графиком, а между неким минимальным значением и графиком, в данном случае таким значением можно взять -0.5)"
   ]
  },
  {
   "metadata": {},
   "cell_type": "markdown",
   "source": [
    "**Задание 2.4 (1 балл)** Протестируйте свое решающее дерево на датасете [mushrooms](https://archive.ics.uci.edu/ml/datasets/Mushroom). \n",
    "\n",
    "1. Скачайте таблицу `agaricus-lepiota.data` (из [Data Folder](https://archive.ics.uci.edu/ml/machine-learning-databases/mushroom/)), \n",
    "2. Считайте таблицу при помощи `pandas`,\n",
    "3. Примените к каждому столбцу `LabelEncoder` (из `sklearn`), чтобы преобразовать строковые имена категорий в натуральные числа. \n",
    "\n",
    "Первый столбец — это целевая переменная (e — edible, p — poisonous) Мы будем измерять качество с помощью accuracy, так что нам не очень важно, что будет классом 1, а что — классом 0. Обучите решающее дерево на половине случайно выбранных объектов (признаки в датасете категориальные) и сделайте предсказания для оставшейся половины. Вычислите accuracy."
   ]
  },
  {
   "metadata": {
    "ExecuteTime": {
     "end_time": "2025-06-08T14:04:37.650487Z",
     "start_time": "2025-06-08T14:04:37.631193Z"
    }
   },
   "cell_type": "code",
   "source": [
    "# ᕕ(╭ರ╭ ͟ʖ╮•́)⊃¤=(————\n",
    "mushroom = pd.read_csv('agaricus-lepiota.data')\n",
    "y = mushroom.iloc[:, 0]\n",
    "mushroom.drop(mushroom.columns[0], axis=1, inplace=True)\n",
    "mushroom.head(3)"
   ],
   "outputs": [
    {
     "data": {
      "text/plain": [
       "   x  s  n  t p.1  f  c n.1  k  e  ... s.2  w w.1 p.2 w.2  o p.3 k.1 s.3  u\n",
       "0  x  s  y  t   a  f  c   b  k  e  ...   s  w   w   p   w  o   p   n   n  g\n",
       "1  b  s  w  t   l  f  c   b  n  e  ...   s  w   w   p   w  o   p   n   n  m\n",
       "2  x  y  w  t   p  f  c   n  n  e  ...   s  w   w   p   w  o   p   k   s  u\n",
       "\n",
       "[3 rows x 22 columns]"
      ],
      "text/html": [
       "<div>\n",
       "<style scoped>\n",
       "    .dataframe tbody tr th:only-of-type {\n",
       "        vertical-align: middle;\n",
       "    }\n",
       "\n",
       "    .dataframe tbody tr th {\n",
       "        vertical-align: top;\n",
       "    }\n",
       "\n",
       "    .dataframe thead th {\n",
       "        text-align: right;\n",
       "    }\n",
       "</style>\n",
       "<table border=\"1\" class=\"dataframe\">\n",
       "  <thead>\n",
       "    <tr style=\"text-align: right;\">\n",
       "      <th></th>\n",
       "      <th>x</th>\n",
       "      <th>s</th>\n",
       "      <th>n</th>\n",
       "      <th>t</th>\n",
       "      <th>p.1</th>\n",
       "      <th>f</th>\n",
       "      <th>c</th>\n",
       "      <th>n.1</th>\n",
       "      <th>k</th>\n",
       "      <th>e</th>\n",
       "      <th>...</th>\n",
       "      <th>s.2</th>\n",
       "      <th>w</th>\n",
       "      <th>w.1</th>\n",
       "      <th>p.2</th>\n",
       "      <th>w.2</th>\n",
       "      <th>o</th>\n",
       "      <th>p.3</th>\n",
       "      <th>k.1</th>\n",
       "      <th>s.3</th>\n",
       "      <th>u</th>\n",
       "    </tr>\n",
       "  </thead>\n",
       "  <tbody>\n",
       "    <tr>\n",
       "      <th>0</th>\n",
       "      <td>x</td>\n",
       "      <td>s</td>\n",
       "      <td>y</td>\n",
       "      <td>t</td>\n",
       "      <td>a</td>\n",
       "      <td>f</td>\n",
       "      <td>c</td>\n",
       "      <td>b</td>\n",
       "      <td>k</td>\n",
       "      <td>e</td>\n",
       "      <td>...</td>\n",
       "      <td>s</td>\n",
       "      <td>w</td>\n",
       "      <td>w</td>\n",
       "      <td>p</td>\n",
       "      <td>w</td>\n",
       "      <td>o</td>\n",
       "      <td>p</td>\n",
       "      <td>n</td>\n",
       "      <td>n</td>\n",
       "      <td>g</td>\n",
       "    </tr>\n",
       "    <tr>\n",
       "      <th>1</th>\n",
       "      <td>b</td>\n",
       "      <td>s</td>\n",
       "      <td>w</td>\n",
       "      <td>t</td>\n",
       "      <td>l</td>\n",
       "      <td>f</td>\n",
       "      <td>c</td>\n",
       "      <td>b</td>\n",
       "      <td>n</td>\n",
       "      <td>e</td>\n",
       "      <td>...</td>\n",
       "      <td>s</td>\n",
       "      <td>w</td>\n",
       "      <td>w</td>\n",
       "      <td>p</td>\n",
       "      <td>w</td>\n",
       "      <td>o</td>\n",
       "      <td>p</td>\n",
       "      <td>n</td>\n",
       "      <td>n</td>\n",
       "      <td>m</td>\n",
       "    </tr>\n",
       "    <tr>\n",
       "      <th>2</th>\n",
       "      <td>x</td>\n",
       "      <td>y</td>\n",
       "      <td>w</td>\n",
       "      <td>t</td>\n",
       "      <td>p</td>\n",
       "      <td>f</td>\n",
       "      <td>c</td>\n",
       "      <td>n</td>\n",
       "      <td>n</td>\n",
       "      <td>e</td>\n",
       "      <td>...</td>\n",
       "      <td>s</td>\n",
       "      <td>w</td>\n",
       "      <td>w</td>\n",
       "      <td>p</td>\n",
       "      <td>w</td>\n",
       "      <td>o</td>\n",
       "      <td>p</td>\n",
       "      <td>k</td>\n",
       "      <td>s</td>\n",
       "      <td>u</td>\n",
       "    </tr>\n",
       "  </tbody>\n",
       "</table>\n",
       "<p>3 rows × 22 columns</p>\n",
       "</div>"
      ]
     },
     "execution_count": 17,
     "metadata": {},
     "output_type": "execute_result"
    }
   ],
   "execution_count": 17
  },
  {
   "metadata": {
    "ExecuteTime": {
     "end_time": "2025-06-08T14:04:42.769260Z",
     "start_time": "2025-06-08T14:04:37.690155Z"
    }
   },
   "cell_type": "code",
   "source": [
    "from sklearn.model_selection import train_test_split\n",
    "from sklearn.preprocessing import LabelEncoder\n",
    "from sklearn.metrics import accuracy_score\n",
    "\n",
    "train, test, train_y, test_y = train_test_split(mushroom, y, test_size=0.5, random_state=17, stratify=y)\n",
    "y_encoder = LabelEncoder()\n",
    "train_y = y_encoder.fit_transform(train_y)\n",
    "test_y = y_encoder.transform(test_y)\n",
    "\n",
    "for column in train.columns:\n",
    "    le = LabelEncoder()\n",
    "    train[column] = le.fit_transform(train[column])\n",
    "    test[column] = test[column].map(\n",
    "        lambda x: le.transform([x])[0] if x in le.classes_ else -1\n",
    "    )\n",
    "\n",
    "train_arr = train.values\n",
    "test_arr = test.values"
   ],
   "outputs": [],
   "execution_count": 18
  },
  {
   "metadata": {
    "ExecuteTime": {
     "end_time": "2025-06-08T14:04:42.799039Z",
     "start_time": "2025-06-08T14:04:42.795449Z"
    }
   },
   "cell_type": "code",
   "source": "train.values",
   "outputs": [
    {
     "data": {
      "text/plain": [
       "array([[2, 3, 2, ..., 3, 4, 0],\n",
       "       [0, 2, 4, ..., 4, 4, 2],\n",
       "       [2, 0, 2, ..., 2, 5, 0],\n",
       "       ...,\n",
       "       [5, 0, 3, ..., 3, 0, 1],\n",
       "       [2, 2, 4, ..., 8, 4, 2],\n",
       "       [3, 3, 9, ..., 7, 4, 0]])"
      ]
     },
     "execution_count": 19,
     "metadata": {},
     "output_type": "execute_result"
    }
   ],
   "execution_count": 19
  },
  {
   "metadata": {
    "ExecuteTime": {
     "end_time": "2025-06-08T14:04:42.899315Z",
     "start_time": "2025-06-08T14:04:42.848303Z"
    }
   },
   "cell_type": "code",
   "source": [
    "ds = DecisionTree(feature_types=['categorical']*train.shape[1])\n",
    "ds.fit(train_arr, train_y)\n",
    "display(accuracy_score(train_y, ds.predict(train_arr)))\n",
    "accuracy_score(test_y, ds.predict(test_arr))"
   ],
   "outputs": [
    {
     "data": {
      "text/plain": [
       "1.0"
      ]
     },
     "metadata": {},
     "output_type": "display_data"
    },
    {
     "data": {
      "text/plain": [
       "0.9992614475627769"
      ]
     },
     "execution_count": 20,
     "metadata": {},
     "output_type": "execute_result"
    }
   ],
   "execution_count": 20
  },
  {
   "metadata": {},
   "cell_type": "markdown",
   "source": "Качество получили шикарнейшее, как же мы хороши"
  },
  {
   "metadata": {},
   "cell_type": "markdown",
   "source": "## Часть 3: Бэггинг и случайный лес (4 балла)"
  },
  {
   "metadata": {},
   "cell_type": "markdown",
   "source": "В данной части мы будем работать [с задачей предсказания диабета у пациента](https://www.kaggle.com/uciml/pima-indians-diabetes-database/data). Посмотрим на работу бэггинга над решающими деревьями и случайного леса, сравним их работу."
  },
  {
   "metadata": {
    "ExecuteTime": {
     "end_time": "2025-06-08T14:04:43.043055Z",
     "start_time": "2025-06-08T14:04:42.960470Z"
    }
   },
   "cell_type": "code",
   "source": [
    "from sklearn.ensemble import BaggingClassifier, RandomForestClassifier\n",
    "from sklearn.metrics import accuracy_score, precision_score, recall_score, roc_auc_score, f1_score\n",
    "from sklearn.model_selection import train_test_split\n",
    "from sklearn.tree import DecisionTreeClassifier"
   ],
   "outputs": [],
   "execution_count": 21
  },
  {
   "metadata": {
    "ExecuteTime": {
     "end_time": "2025-06-08T14:04:43.060081Z",
     "start_time": "2025-06-08T14:04:43.051792Z"
    }
   },
   "cell_type": "code",
   "source": [
    "data = pd.read_csv('diabetes.csv')\n",
    "print(f\"Dataset shape: {data.shape}\")\n",
    "data.head()"
   ],
   "outputs": [
    {
     "name": "stdout",
     "output_type": "stream",
     "text": [
      "Dataset shape: (768, 9)\n"
     ]
    },
    {
     "data": {
      "text/plain": [
       "   Pregnancies  Glucose  BloodPressure  SkinThickness  Insulin   BMI  \\\n",
       "0            6      148             72             35        0  33.6   \n",
       "1            1       85             66             29        0  26.6   \n",
       "2            8      183             64              0        0  23.3   \n",
       "3            1       89             66             23       94  28.1   \n",
       "4            0      137             40             35      168  43.1   \n",
       "\n",
       "   DiabetesPedigreeFunction  Age  Outcome  \n",
       "0                     0.627   50        1  \n",
       "1                     0.351   31        0  \n",
       "2                     0.672   32        1  \n",
       "3                     0.167   21        0  \n",
       "4                     2.288   33        1  "
      ],
      "text/html": [
       "<div>\n",
       "<style scoped>\n",
       "    .dataframe tbody tr th:only-of-type {\n",
       "        vertical-align: middle;\n",
       "    }\n",
       "\n",
       "    .dataframe tbody tr th {\n",
       "        vertical-align: top;\n",
       "    }\n",
       "\n",
       "    .dataframe thead th {\n",
       "        text-align: right;\n",
       "    }\n",
       "</style>\n",
       "<table border=\"1\" class=\"dataframe\">\n",
       "  <thead>\n",
       "    <tr style=\"text-align: right;\">\n",
       "      <th></th>\n",
       "      <th>Pregnancies</th>\n",
       "      <th>Glucose</th>\n",
       "      <th>BloodPressure</th>\n",
       "      <th>SkinThickness</th>\n",
       "      <th>Insulin</th>\n",
       "      <th>BMI</th>\n",
       "      <th>DiabetesPedigreeFunction</th>\n",
       "      <th>Age</th>\n",
       "      <th>Outcome</th>\n",
       "    </tr>\n",
       "  </thead>\n",
       "  <tbody>\n",
       "    <tr>\n",
       "      <th>0</th>\n",
       "      <td>6</td>\n",
       "      <td>148</td>\n",
       "      <td>72</td>\n",
       "      <td>35</td>\n",
       "      <td>0</td>\n",
       "      <td>33.6</td>\n",
       "      <td>0.627</td>\n",
       "      <td>50</td>\n",
       "      <td>1</td>\n",
       "    </tr>\n",
       "    <tr>\n",
       "      <th>1</th>\n",
       "      <td>1</td>\n",
       "      <td>85</td>\n",
       "      <td>66</td>\n",
       "      <td>29</td>\n",
       "      <td>0</td>\n",
       "      <td>26.6</td>\n",
       "      <td>0.351</td>\n",
       "      <td>31</td>\n",
       "      <td>0</td>\n",
       "    </tr>\n",
       "    <tr>\n",
       "      <th>2</th>\n",
       "      <td>8</td>\n",
       "      <td>183</td>\n",
       "      <td>64</td>\n",
       "      <td>0</td>\n",
       "      <td>0</td>\n",
       "      <td>23.3</td>\n",
       "      <td>0.672</td>\n",
       "      <td>32</td>\n",
       "      <td>1</td>\n",
       "    </tr>\n",
       "    <tr>\n",
       "      <th>3</th>\n",
       "      <td>1</td>\n",
       "      <td>89</td>\n",
       "      <td>66</td>\n",
       "      <td>23</td>\n",
       "      <td>94</td>\n",
       "      <td>28.1</td>\n",
       "      <td>0.167</td>\n",
       "      <td>21</td>\n",
       "      <td>0</td>\n",
       "    </tr>\n",
       "    <tr>\n",
       "      <th>4</th>\n",
       "      <td>0</td>\n",
       "      <td>137</td>\n",
       "      <td>40</td>\n",
       "      <td>35</td>\n",
       "      <td>168</td>\n",
       "      <td>43.1</td>\n",
       "      <td>2.288</td>\n",
       "      <td>33</td>\n",
       "      <td>1</td>\n",
       "    </tr>\n",
       "  </tbody>\n",
       "</table>\n",
       "</div>"
      ]
     },
     "execution_count": 22,
     "metadata": {},
     "output_type": "execute_result"
    }
   ],
   "execution_count": 22
  },
  {
   "metadata": {},
   "cell_type": "markdown",
   "source": "Посмотрим на распределение целевой переменной"
  },
  {
   "metadata": {
    "ExecuteTime": {
     "end_time": "2025-06-08T14:04:43.169134Z",
     "start_time": "2025-06-08T14:04:43.106519Z"
    }
   },
   "cell_type": "code",
   "source": [
    "data['Outcome'].hist()\n",
    "plt.show()"
   ],
   "outputs": [
    {
     "data": {
      "text/plain": [
       "<Figure size 640x480 with 1 Axes>"
      ],
      "image/png": "[encoded data removed]"
     },
     "metadata": {},
     "output_type": "display_data"
    }
   ],
   "execution_count": 23
  },
  {
   "metadata": {},
   "cell_type": "markdown",
   "source": "**Задание 3.1 (0.5 балла)** Разделите данные на признаки и целевую переменную. Разбейте датасет на обучающую и тестовую части в отношении 7:3. Затем разделите обучающую выборку на обучающую-обучающую и обучающую-валидационную в соотношении 7:3 (то есть в итоге должно получиться три выборки: обучающая-обучающая (0.49 от исходного датасета), обучающая-валидационная (0.21 от исходного датасета) и тестовая (0.3 от исходного датасета)."
  },
  {
   "metadata": {
    "ExecuteTime": {
     "end_time": "2025-06-08T14:04:43.254060Z",
     "start_time": "2025-06-08T14:04:43.250944Z"
    }
   },
   "cell_type": "code",
   "source": [
    "y = data['Outcome']\n",
    "data.drop('Outcome', axis=1, inplace=True)"
   ],
   "outputs": [],
   "execution_count": 24
  },
  {
   "metadata": {
    "ExecuteTime": {
     "end_time": "2025-06-08T14:04:43.299548Z",
     "start_time": "2025-06-08T14:04:43.293714Z"
    }
   },
   "cell_type": "code",
   "source": [
    "# ᕕ(╭ರ╭ ͟ʖ╮•́)⊃¤=(————\n",
    "train, test, train_y, test_y = train_test_split(data, y, test_size=0.3, random_state=17, stratify=y)\n",
    "train_tr, val, train_tr_y, val_y = train_test_split(train, train_y, test_size=0.3, random_state=17, stratify=train_y)"
   ],
   "outputs": [],
   "execution_count": 25
  },
  {
   "metadata": {},
   "cell_type": "markdown",
   "source": [
    "**Задание 3.2 (1 балл)** На обучающей-валидационной выборке подберите оптимальные значения гиперпараметров `max_depth` и `min_samples_leaf` для `DecisionTreeClassifier`. Для этого:\n",
    "1. Создайте списки с возможными значениями для перебора.\n",
    "2. Для каждой пары значений обучите дерево на обучающей-обучающей выборке и определите качество на обучающей-валидационной выборке. В качестве критерия будем использовать `f1-меру`.\n",
    "3. Выберите ту пару значений, которая даёт наилучшее качество на обучающей-валидационной выборке. \n",
    "\n",
    "\n",
    "Обучите решающее дерево с подобранными гиперпараметрами на **полной обучающей** выборке. Оцените качество классификации на тестовой выборке по метрикам `accuracy`, `precision` и `recall`, `auc_roc`."
   ]
  },
  {
   "metadata": {
    "ExecuteTime": {
     "end_time": "2025-06-08T14:04:51.146360Z",
     "start_time": "2025-06-08T14:04:43.334059Z"
    }
   },
   "cell_type": "code",
   "source": [
    "max_depths = min_samples_leafs = [*range(1, 50)]\n",
    "\n",
    "results = []\n",
    "for max_depth in max_depths:\n",
    "    for min_samples_leaf in min_samples_leafs:\n",
    "        tr = DecisionTreeClassifier(max_depth=max_depth, min_samples_leaf=min_samples_leaf, random_state=17)\n",
    "        tr.fit(train_tr, train_tr_y)\n",
    "        f1 = f1_score(val_y, tr.predict(val))\n",
    "        results.append({\n",
    "            'max_depth': max_depth,\n",
    "            'min_samples_leaf': min_samples_leaf,\n",
    "            'f1_score': f1\n",
    "        })\n",
    "\n",
    "res = pd.DataFrame(results)\n",
    "res.sort_values(by=['f1_score'], ascending=False, inplace=True)\n",
    "res.head(5)"
   ],
   "outputs": [
    {
     "data": {
      "text/plain": [
       "      max_depth  min_samples_leaf  f1_score\n",
       "307           7                14  0.607843\n",
       "394           9                 3  0.601770\n",
       "2365         49                14  0.600000\n",
       "1385         29                14  0.600000\n",
       "1434         30                14  0.600000"
      ],
      "text/html": [
       "<div>\n",
       "<style scoped>\n",
       "    .dataframe tbody tr th:only-of-type {\n",
       "        vertical-align: middle;\n",
       "    }\n",
       "\n",
       "    .dataframe tbody tr th {\n",
       "        vertical-align: top;\n",
       "    }\n",
       "\n",
       "    .dataframe thead th {\n",
       "        text-align: right;\n",
       "    }\n",
       "</style>\n",
       "<table border=\"1\" class=\"dataframe\">\n",
       "  <thead>\n",
       "    <tr style=\"text-align: right;\">\n",
       "      <th></th>\n",
       "      <th>max_depth</th>\n",
       "      <th>min_samples_leaf</th>\n",
       "      <th>f1_score</th>\n",
       "    </tr>\n",
       "  </thead>\n",
       "  <tbody>\n",
       "    <tr>\n",
       "      <th>307</th>\n",
       "      <td>7</td>\n",
       "      <td>14</td>\n",
       "      <td>0.607843</td>\n",
       "    </tr>\n",
       "    <tr>\n",
       "      <th>394</th>\n",
       "      <td>9</td>\n",
       "      <td>3</td>\n",
       "      <td>0.601770</td>\n",
       "    </tr>\n",
       "    <tr>\n",
       "      <th>2365</th>\n",
       "      <td>49</td>\n",
       "      <td>14</td>\n",
       "      <td>0.600000</td>\n",
       "    </tr>\n",
       "    <tr>\n",
       "      <th>1385</th>\n",
       "      <td>29</td>\n",
       "      <td>14</td>\n",
       "      <td>0.600000</td>\n",
       "    </tr>\n",
       "    <tr>\n",
       "      <th>1434</th>\n",
       "      <td>30</td>\n",
       "      <td>14</td>\n",
       "      <td>0.600000</td>\n",
       "    </tr>\n",
       "  </tbody>\n",
       "</table>\n",
       "</div>"
      ]
     },
     "execution_count": 26,
     "metadata": {},
     "output_type": "execute_result"
    }
   ],
   "execution_count": 26
  },
  {
   "metadata": {},
   "cell_type": "markdown",
   "source": "Лучший результат - глубина 7 при минимальном количестве объектов в листе 14. Вполне нормальный ответ"
  },
  {
   "metadata": {
    "ExecuteTime": {
     "end_time": "2025-06-08T14:04:51.171124Z",
     "start_time": "2025-06-08T14:04:51.168337Z"
    }
   },
   "cell_type": "code",
   "source": [
    "def build_res_df(method_name: str, true_y: np.array, predictions: np.array,df: pd.DataFrame = None):\n",
    "    if df is None:\n",
    "        df = pd.DataFrame(columns = ['type', 'accuracy', 'precision', 'recall', 'auc_roc'])\n",
    "        df.set_index('type', inplace=True)\n",
    "\n",
    "    df.loc[method_name] = [\n",
    "        accuracy_score(true_y, predictions),\n",
    "        precision_score(true_y, predictions),\n",
    "        recall_score(true_y, predictions),\n",
    "        roc_auc_score(true_y, predictions)\n",
    "    ]\n",
    "\n",
    "    return df"
   ],
   "outputs": [],
   "execution_count": 27
  },
  {
   "metadata": {
    "ExecuteTime": {
     "end_time": "2025-06-08T14:04:51.225642Z",
     "start_time": "2025-06-08T14:04:51.211345Z"
    }
   },
   "cell_type": "code",
   "source": [
    "tr = DecisionTreeClassifier(max_depth=7, min_samples_leaf=14, random_state=17)\n",
    "tr.fit(train_tr, train_tr_y)\n",
    "results = tr.predict(test)\n",
    "tree_res = build_res_df('DecisionTreeClassifier', test_y, results)\n",
    "tree_res"
   ],
   "outputs": [
    {
     "data": {
      "text/plain": [
       "                        accuracy  precision   recall   auc_roc\n",
       "type                                                          \n",
       "DecisionTreeClassifier  0.766234       0.68  0.62963  0.734815"
      ],
      "text/html": [
       "<div>\n",
       "<style scoped>\n",
       "    .dataframe tbody tr th:only-of-type {\n",
       "        vertical-align: middle;\n",
       "    }\n",
       "\n",
       "    .dataframe tbody tr th {\n",
       "        vertical-align: top;\n",
       "    }\n",
       "\n",
       "    .dataframe thead th {\n",
       "        text-align: right;\n",
       "    }\n",
       "</style>\n",
       "<table border=\"1\" class=\"dataframe\">\n",
       "  <thead>\n",
       "    <tr style=\"text-align: right;\">\n",
       "      <th></th>\n",
       "      <th>accuracy</th>\n",
       "      <th>precision</th>\n",
       "      <th>recall</th>\n",
       "      <th>auc_roc</th>\n",
       "    </tr>\n",
       "    <tr>\n",
       "      <th>type</th>\n",
       "      <th></th>\n",
       "      <th></th>\n",
       "      <th></th>\n",
       "      <th></th>\n",
       "    </tr>\n",
       "  </thead>\n",
       "  <tbody>\n",
       "    <tr>\n",
       "      <th>DecisionTreeClassifier</th>\n",
       "      <td>0.766234</td>\n",
       "      <td>0.68</td>\n",
       "      <td>0.62963</td>\n",
       "      <td>0.734815</td>\n",
       "    </tr>\n",
       "  </tbody>\n",
       "</table>\n",
       "</div>"
      ]
     },
     "execution_count": 28,
     "metadata": {},
     "output_type": "execute_result"
    }
   ],
   "execution_count": 28
  },
  {
   "metadata": {},
   "cell_type": "markdown",
   "source": "**Задание 3.3 (0.5 балла)** Обучите [`BaggingClassifier`](https://scikit-learn.org/stable/modules/generated/sklearn.ensemble.BaggingClassifier.html) на 50 деревьях на **полной обучающей** выборке. Оцените качество классификации на тестовой выборке по тем же метрикам."
  },
  {
   "metadata": {
    "ExecuteTime": {
     "end_time": "2025-06-08T14:04:51.395206Z",
     "start_time": "2025-06-08T14:04:51.277158Z"
    }
   },
   "cell_type": "code",
   "source": [
    "# ᕕ(╭ರ╭ ͟ʖ╮•́)⊃¤=(————\n",
    "bagger = BaggingClassifier(n_estimators=50, random_state=17)\n",
    "bagger.fit(train, train_y)\n",
    "preds = bagger.predict(test)\n",
    "build_res_df('BaggingClassifier', test_y, preds, tree_res)"
   ],
   "outputs": [
    {
     "data": {
      "text/plain": [
       "                        accuracy  precision    recall   auc_roc\n",
       "type                                                           \n",
       "DecisionTreeClassifier  0.766234   0.680000  0.629630  0.734815\n",
       "BaggingClassifier       0.774892   0.679012  0.679012  0.752840"
      ],
      "text/html": [
       "<div>\n",
       "<style scoped>\n",
       "    .dataframe tbody tr th:only-of-type {\n",
       "        vertical-align: middle;\n",
       "    }\n",
       "\n",
       "    .dataframe tbody tr th {\n",
       "        vertical-align: top;\n",
       "    }\n",
       "\n",
       "    .dataframe thead th {\n",
       "        text-align: right;\n",
       "    }\n",
       "</style>\n",
       "<table border=\"1\" class=\"dataframe\">\n",
       "  <thead>\n",
       "    <tr style=\"text-align: right;\">\n",
       "      <th></th>\n",
       "      <th>accuracy</th>\n",
       "      <th>precision</th>\n",
       "      <th>recall</th>\n",
       "      <th>auc_roc</th>\n",
       "    </tr>\n",
       "    <tr>\n",
       "      <th>type</th>\n",
       "      <th></th>\n",
       "      <th></th>\n",
       "      <th></th>\n",
       "      <th></th>\n",
       "    </tr>\n",
       "  </thead>\n",
       "  <tbody>\n",
       "    <tr>\n",
       "      <th>DecisionTreeClassifier</th>\n",
       "      <td>0.766234</td>\n",
       "      <td>0.680000</td>\n",
       "      <td>0.629630</td>\n",
       "      <td>0.734815</td>\n",
       "    </tr>\n",
       "    <tr>\n",
       "      <th>BaggingClassifier</th>\n",
       "      <td>0.774892</td>\n",
       "      <td>0.679012</td>\n",
       "      <td>0.679012</td>\n",
       "      <td>0.752840</td>\n",
       "    </tr>\n",
       "  </tbody>\n",
       "</table>\n",
       "</div>"
      ]
     },
     "execution_count": 29,
     "metadata": {},
     "output_type": "execute_result"
    }
   ],
   "execution_count": 29
  },
  {
   "metadata": {},
   "cell_type": "markdown",
   "source": [
    "**Задание 3.4 (1 балл)** Выполните кросс-валидацию на полной обучающей выборке и подберите оптимальные значения гиперпараметров `max_depth` и `min_samples_split` для `Random Forest` с 50 деревьями. Для этого:\n",
    "\n",
    "1. Создайте списки с возможными значениями для перебора.\n",
    "2. Для каждой пары значений проведите кросс-валидацию на полной обучающей выборке. Количество разбиений выберите на ваш вкус. В качестве критерия будем использовать `f1-меру`. Усредните значение критерия по всем прогонам кросс-валидации. \n",
    "3. Выберите ту пару значений, которая даёт наилучшее среднее качество. \n",
    "\n",
    "Обучите случайный лес с подобранными гиперпараметрами на **полной обучающей** выборке. Оцените качество классификации по тем же метрикам. Какая из трёх построенных моделей показала себя лучше?"
   ]
  },
  {
   "metadata": {
    "ExecuteTime": {
     "end_time": "2025-06-08T14:04:51.420558Z",
     "start_time": "2025-06-08T14:04:51.415258Z"
    }
   },
   "cell_type": "code",
   "source": "train.head(3)",
   "outputs": [
    {
     "data": {
      "text/plain": [
       "     Pregnancies  Glucose  BloodPressure  SkinThickness  Insulin   BMI  \\\n",
       "356            1      125             50             40      167  33.3   \n",
       "544            1       88             78             29       76  32.0   \n",
       "148            5      147             78              0        0  33.7   \n",
       "\n",
       "     DiabetesPedigreeFunction  Age  \n",
       "356                     0.962   28  \n",
       "544                     0.365   29  \n",
       "148                     0.218   65  "
      ],
      "text/html": [
       "<div>\n",
       "<style scoped>\n",
       "    .dataframe tbody tr th:only-of-type {\n",
       "        vertical-align: middle;\n",
       "    }\n",
       "\n",
       "    .dataframe tbody tr th {\n",
       "        vertical-align: top;\n",
       "    }\n",
       "\n",
       "    .dataframe thead th {\n",
       "        text-align: right;\n",
       "    }\n",
       "</style>\n",
       "<table border=\"1\" class=\"dataframe\">\n",
       "  <thead>\n",
       "    <tr style=\"text-align: right;\">\n",
       "      <th></th>\n",
       "      <th>Pregnancies</th>\n",
       "      <th>Glucose</th>\n",
       "      <th>BloodPressure</th>\n",
       "      <th>SkinThickness</th>\n",
       "      <th>Insulin</th>\n",
       "      <th>BMI</th>\n",
       "      <th>DiabetesPedigreeFunction</th>\n",
       "      <th>Age</th>\n",
       "    </tr>\n",
       "  </thead>\n",
       "  <tbody>\n",
       "    <tr>\n",
       "      <th>356</th>\n",
       "      <td>1</td>\n",
       "      <td>125</td>\n",
       "      <td>50</td>\n",
       "      <td>40</td>\n",
       "      <td>167</td>\n",
       "      <td>33.3</td>\n",
       "      <td>0.962</td>\n",
       "      <td>28</td>\n",
       "    </tr>\n",
       "    <tr>\n",
       "      <th>544</th>\n",
       "      <td>1</td>\n",
       "      <td>88</td>\n",
       "      <td>78</td>\n",
       "      <td>29</td>\n",
       "      <td>76</td>\n",
       "      <td>32.0</td>\n",
       "      <td>0.365</td>\n",
       "      <td>29</td>\n",
       "    </tr>\n",
       "    <tr>\n",
       "      <th>148</th>\n",
       "      <td>5</td>\n",
       "      <td>147</td>\n",
       "      <td>78</td>\n",
       "      <td>0</td>\n",
       "      <td>0</td>\n",
       "      <td>33.7</td>\n",
       "      <td>0.218</td>\n",
       "      <td>65</td>\n",
       "    </tr>\n",
       "  </tbody>\n",
       "</table>\n",
       "</div>"
      ]
     },
     "execution_count": 30,
     "metadata": {},
     "output_type": "execute_result"
    }
   ],
   "execution_count": 30
  },
  {
   "metadata": {
    "ExecuteTime": {
     "end_time": "2025-06-08T14:05:06.733925Z",
     "start_time": "2025-06-08T14:04:51.512796Z"
    }
   },
   "cell_type": "code",
   "source": [
    "# Ренж из 50 отрабатывал 50 тысяч лет\n",
    "max_depths = min_samples_splits = [2**n for n in range(1, 9)]\n",
    "t = 5\n",
    "step = train.shape[0] // t\n",
    "train_val = train.values\n",
    "train_y_val = train_y.values\n",
    "\n",
    "cv_results = []\n",
    "for max_depth in max_depths:\n",
    "    for min_samples_split in min_samples_splits:\n",
    "        tr = RandomForestClassifier(max_depth=max_depth, min_samples_split=min_samples_split, n_estimators=50, random_state=17)\n",
    "        res = []\n",
    "        for i in range(0, train.shape[0]-step, step):\n",
    "            train_cv = np.concatenate([train_val[:i], train_val[i + step:]])\n",
    "            train_y_cv = np.concatenate([train_y_val[:i], train_y_val[i + step:]])\n",
    "            test_cv = train_val[i:i + step]\n",
    "            test_y_cv = train_y_val[i:i + step]\n",
    "            tr.fit(train_cv, train_y_cv)\n",
    "            res.append(f1_score(test_y_cv, tr.predict(test_cv)))\n",
    "\n",
    "        score = np.mean(res)\n",
    "        cv_results.append({\n",
    "            'max_depth': max_depth,\n",
    "            'min_samples_split': min_samples_split,\n",
    "            'mean_f1_score': score\n",
    "        })\n",
    "\n",
    "reses = pd.DataFrame(cv_results)\n",
    "reses.sort_values(by=['mean_f1_score'], ascending=False, inplace=True)\n",
    "reses.head(5)"
   ],
   "outputs": [
    {
     "data": {
      "text/plain": [
       "    max_depth  min_samples_split  mean_f1_score\n",
       "18          8                  8       0.616635\n",
       "28         16                 32       0.606282\n",
       "44         64                 32       0.606282\n",
       "36         32                 32       0.606282\n",
       "52        128                 32       0.606282"
      ],
      "text/html": [
       "<div>\n",
       "<style scoped>\n",
       "    .dataframe tbody tr th:only-of-type {\n",
       "        vertical-align: middle;\n",
       "    }\n",
       "\n",
       "    .dataframe tbody tr th {\n",
       "        vertical-align: top;\n",
       "    }\n",
       "\n",
       "    .dataframe thead th {\n",
       "        text-align: right;\n",
       "    }\n",
       "</style>\n",
       "<table border=\"1\" class=\"dataframe\">\n",
       "  <thead>\n",
       "    <tr style=\"text-align: right;\">\n",
       "      <th></th>\n",
       "      <th>max_depth</th>\n",
       "      <th>min_samples_split</th>\n",
       "      <th>mean_f1_score</th>\n",
       "    </tr>\n",
       "  </thead>\n",
       "  <tbody>\n",
       "    <tr>\n",
       "      <th>18</th>\n",
       "      <td>8</td>\n",
       "      <td>8</td>\n",
       "      <td>0.616635</td>\n",
       "    </tr>\n",
       "    <tr>\n",
       "      <th>28</th>\n",
       "      <td>16</td>\n",
       "      <td>32</td>\n",
       "      <td>0.606282</td>\n",
       "    </tr>\n",
       "    <tr>\n",
       "      <th>44</th>\n",
       "      <td>64</td>\n",
       "      <td>32</td>\n",
       "      <td>0.606282</td>\n",
       "    </tr>\n",
       "    <tr>\n",
       "      <th>36</th>\n",
       "      <td>32</td>\n",
       "      <td>32</td>\n",
       "      <td>0.606282</td>\n",
       "    </tr>\n",
       "    <tr>\n",
       "      <th>52</th>\n",
       "      <td>128</td>\n",
       "      <td>32</td>\n",
       "      <td>0.606282</td>\n",
       "    </tr>\n",
       "  </tbody>\n",
       "</table>\n",
       "</div>"
      ]
     },
     "execution_count": 31,
     "metadata": {},
     "output_type": "execute_result"
    }
   ],
   "execution_count": 31
  },
  {
   "metadata": {},
   "cell_type": "markdown",
   "source": "**Задание 3.5 (0.5 балла)** Постройте график зависимости AUC ROC на тестовой выборке от числа деревьев (`n_estimators`) для случайного леса, обучаемого на **полной обучающей** выборке. Какие выводы можно сделать?"
  },
  {
   "metadata": {
    "ExecuteTime": {
     "end_time": "2025-06-08T14:05:19.153325Z",
     "start_time": "2025-06-08T14:05:06.775261Z"
    }
   },
   "cell_type": "code",
   "source": [
    "# ᕕ(╭ರ╭ ͟ʖ╮•́)⊃¤=(————\n",
    "max_depth = min_samples_split = 8\n",
    "est_results = []\n",
    "for i in range(1, 150):\n",
    "    tr = RandomForestClassifier(max_depth=max_depth, min_samples_split=min_samples_split, n_estimators=i, random_state=17)\n",
    "    tr.fit(train, train_y)\n",
    "    est_results.append(roc_auc_score(test_y, tr.predict(test)))"
   ],
   "outputs": [],
   "execution_count": 32
  },
  {
   "metadata": {
    "ExecuteTime": {
     "end_time": "2025-06-08T14:05:19.286220Z",
     "start_time": "2025-06-08T14:05:19.177741Z"
    }
   },
   "cell_type": "code",
   "source": [
    "plt.figure(figsize=(12, 8))\n",
    "plt.title('Качество леса')\n",
    "plt.xlabel('Количество деревьев')\n",
    "plt.ylabel('ROC-AUC')\n",
    "plt.plot(est_results)"
   ],
   "outputs": [
    {
     "data": {
      "text/plain": [
       "[<matplotlib.lines.Line2D at 0x26667ebc2d0>]"
      ]
     },
     "execution_count": 33,
     "metadata": {},
     "output_type": "execute_result"
    },
    {
     "data": {
      "text/plain": [
       "<Figure size 1200x800 with 1 Axes>"
      ],
      "image/png": "[encoded data removed]"
     },
     "metadata": {},
     "output_type": "display_data"
    }
   ],
   "execution_count": 33
  },
  {
   "metadata": {},
   "cell_type": "markdown",
   "source": [
    "Картину получили любопытную\n",
    "\n",
    "Лес переобучаться не должен, однако количество деревьев в штук 50 показывает лучшие значения"
   ]
  },
  {
   "metadata": {},
   "cell_type": "markdown",
   "source": "**Задание 3.6 (0.5 балла)** Для лучшей модели случайного леса из **Задания 3.4** посчитайте важность признаков и постройте bar plot. Какой признак оказался самым важным для определения диабета?"
  },
  {
   "metadata": {
    "ExecuteTime": {
     "end_time": "2025-06-08T14:05:19.464064Z",
     "start_time": "2025-06-08T14:05:19.306697Z"
    }
   },
   "cell_type": "code",
   "source": [
    "# ᕕ(╭ರ╭ ͟ʖ╮•́)⊃¤=(————\n",
    "bst_tree = RandomForestClassifier(max_depth=max_depth, min_samples_split=min_samples_split, n_estimators=50, random_state=17)\n",
    "bst_tree.fit(train, train_y)\n",
    "\n",
    "plt.figure(figsize=(12, 8))\n",
    "plt.title('Важность признаков')\n",
    "plt.xlabel('Название признака')\n",
    "plt.ylabel('Важность')\n",
    "plt.xticks(rotation=45)\n",
    "plt.bar(train.columns, bst_tree.feature_importances_)"
   ],
   "outputs": [
    {
     "data": {
      "text/plain": [
       "<BarContainer object of 8 artists>"
      ]
     },
     "execution_count": 34,
     "metadata": {},
     "output_type": "execute_result"
    },
    {
     "data": {
      "text/plain": [
       "<Figure size 1200x800 with 1 Axes>"
      ],
      "image/png": "[encoded data removed]"
     },
     "metadata": {},
     "output_type": "display_data"
    }
   ],
   "execution_count": 34
  },
  {
   "metadata": {},
   "cell_type": "markdown",
   "source": "Уровень глюкозы оказался наиболее важным, за ним идут BMI и возраст. Здорово."
  }
 ],
 "metadata": {
  "kernelspec": {
   "display_name": "Python 3 (ipykernel)",
   "language": "python",
   "name": "python3"
  },
  "language_info": {
   "codemirror_mode": {
    "name": "ipython",
    "version": 3
   },
   "file_extension": ".py",
   "mimetype": "text/x-python",
   "name": "python",
   "nbconvert_exporter": "python",
   "pygments_lexer": "ipython3",
   "version": "3.9.12"
  }
 },
 "nbformat": 4,
 "nbformat_minor": 4
}
